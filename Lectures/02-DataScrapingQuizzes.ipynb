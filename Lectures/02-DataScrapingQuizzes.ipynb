{
 "cells": [
  {
   "cell_type": "code",
   "execution_count": 2,
   "metadata": {
    "collapsed": false,
    "slideshow": {
     "slide_type": "skip"
    }
   },
   "outputs": [],
   "source": [
    "## all imports\n",
    "from IPython.display import HTML\n",
    "import numpy as np\n",
    "import urllib.request\n",
    "import bs4 #this is beautiful soup\n",
    "import time\n",
    "import operator\n",
    "import socket\n",
    "import pickle\n",
    "import re # regular expressions\n",
    "\n",
    "from pandas import Series\n",
    "import pandas as pd\n",
    "from pandas import DataFrame\n",
    "\n",
    "import matplotlib\n",
    "import matplotlib.pyplot as plt\n",
    "%matplotlib inline\n",
    "\n",
    "import seaborn as sns\n",
    "sns.set_context(\"talk\")\n",
    "sns.set_style(\"white\")"
   ]
  },
  {
   "cell_type": "markdown",
   "metadata": {
    "slideshow": {
     "slide_type": "skip"
    }
   },
   "source": [
    "API registrations\n",
    "=================\n",
    "\n",
    "If you would like to run all the examples in this notebook, you need to register for the following APIs:\n",
    "\n",
    "* Rotten Tomatoes\n",
    "\n",
    "http://developer.rottentomatoes.com/member/register\n",
    "\n",
    "* Twitter\n",
    "\n",
    "https://apps.twitter.com/app/new\n",
    "\n",
    "* Twitter instructions\n",
    "\n",
    "https://twittercommunity.com/t/how-to-get-my-api-key/7033"
   ]
  },
  {
   "cell_type": "markdown",
   "metadata": {
    "slideshow": {
     "slide_type": "slide"
    }
   },
   "source": [
    "CS109\n",
    "=====\n",
    "\n",
    "Verena Kaynig-Fittkau, Joe Blitzstein, Hanspeter Pfister\n",
    "\n",
    "* vkaynig@seas.harvard.edu\n",
    "* staff@cs109.org"
   ]
  },
  {
   "cell_type": "markdown",
   "metadata": {
    "slideshow": {
     "slide_type": "slide"
    }
   },
   "source": [
    "Announcements\n",
    "==============\n",
    "\n",
    "* Over 400 sign ups on github!\n",
    "* If you are still missing, fill out the survey, time is running out!\n",
    "* Make sure you are on Piazza!\n",
    "\n",
    "\n",
    "* More [git help](https://www.youtube.com/channel/UC0-KaiZFXBlGOFN71YsEV8g/videos)\n",
    "\n",
    "\n",
    "* HW0 is due on Thursday \n",
    "* HW1 is coming out on Thursday\n"
   ]
  },
  {
   "cell_type": "markdown",
   "metadata": {
    "slideshow": {
     "slide_type": "slide"
    }
   },
   "source": [
    "Todays lecture:\n",
    "===============\n",
    "\n",
    "* introduction to pandas\n",
    "    - read a table\n",
    "    - do some plots\n",
    "\n",
    "* all about data scraping\n",
    "* ***What is it? ***\n",
    "* How to do it:\n",
    "    - from a website\n",
    "    - with an API"
   ]
  },
  {
   "cell_type": "markdown",
   "metadata": {
    "slideshow": {
     "slide_type": "slide"
    }
   },
   "source": [
    "IPython Notebooks:\n",
    "===================\n",
    "\n",
    "![IPython](images/ipython.png \"IPython\")"
   ]
  },
  {
   "cell_type": "markdown",
   "metadata": {
    "collapsed": true,
    "slideshow": {
     "slide_type": "slide"
    }
   },
   "source": [
    "IPython Notebooks:\n",
    "===================\n",
    "\n",
    "* These slides are an IPython notebook!\n",
    "* https://github.com/damianavila/live_reveal"
   ]
  },
  {
   "cell_type": "code",
   "execution_count": 4,
   "metadata": {
    "collapsed": false
   },
   "outputs": [
    {
     "name": "stdout",
     "output_type": "stream",
     "text": [
      "Hello CS109\n",
      "I love IPython\n"
     ]
    }
   ],
   "source": [
    "print (\"Hello CS109\")\n",
    "\n",
    "print (\"I love IPython\")\n",
    "\n",
    "# Ipython notebook have tab completion!\n",
    "# and inbuild help\n",
    "  \n",
    "a = np.zeros(3)"
   ]
  },
  {
   "cell_type": "markdown",
   "metadata": {
    "slideshow": {
     "slide_type": "slide"
    }
   },
   "source": [
    "General advice about programming\n",
    "==================================\n",
    "\n",
    "* You will find nearly everything on google\n",
    "* Try: length of a list in python\n",
    "* A programmer is someone who can turn stack overflow snippets into running code\n",
    "* Use tab completion\n",
    "* Make your variable names meaningful\n"
   ]
  },
  {
   "cell_type": "markdown",
   "metadata": {
    "slideshow": {
     "slide_type": "slide"
    }
   },
   "source": [
    "How to load a table\n",
    "===================\n",
    "\n",
    "* we use Pandas for this\n",
    "* Pandas can do a __lot__ more\n",
    "* more about it later"
   ]
  },
  {
   "cell_type": "markdown",
   "metadata": {
    "slideshow": {
     "slide_type": "slide"
    }
   },
   "source": [
    "The MovieLens data\n",
    "===================\n",
    "\n",
    "http://grouplens.org/datasets/movielens/\n",
    "\n",
    "![Grouplens](images/grouplens.jpg \"Grouplens\")\n",
    "\n",
    "Example inspired by [Greg Reda](http://www.gregreda.com/2013/10/26/using-pandas-on-the-movielens-dataset/)"
   ]
  },
  {
   "cell_type": "markdown",
   "metadata": {
    "slideshow": {
     "slide_type": "slide"
    }
   },
   "source": [
    "Read the user data\n",
    "=================="
   ]
  },
  {
   "cell_type": "code",
   "execution_count": 6,
   "metadata": {
    "collapsed": false,
    "slideshow": {
     "slide_type": "-"
    }
   },
   "outputs": [
    {
     "data": {
      "text/html": [
       "<div>\n",
       "<table border=\"1\" class=\"dataframe\">\n",
       "  <thead>\n",
       "    <tr style=\"text-align: right;\">\n",
       "      <th></th>\n",
       "      <th>user_id</th>\n",
       "      <th>age</th>\n",
       "      <th>sex</th>\n",
       "      <th>occupation</th>\n",
       "      <th>zip_code</th>\n",
       "    </tr>\n",
       "  </thead>\n",
       "  <tbody>\n",
       "    <tr>\n",
       "      <th>0</th>\n",
       "      <td>1</td>\n",
       "      <td>24</td>\n",
       "      <td>M</td>\n",
       "      <td>technician</td>\n",
       "      <td>85711</td>\n",
       "    </tr>\n",
       "    <tr>\n",
       "      <th>1</th>\n",
       "      <td>2</td>\n",
       "      <td>53</td>\n",
       "      <td>F</td>\n",
       "      <td>other</td>\n",
       "      <td>94043</td>\n",
       "    </tr>\n",
       "    <tr>\n",
       "      <th>2</th>\n",
       "      <td>3</td>\n",
       "      <td>23</td>\n",
       "      <td>M</td>\n",
       "      <td>writer</td>\n",
       "      <td>32067</td>\n",
       "    </tr>\n",
       "    <tr>\n",
       "      <th>3</th>\n",
       "      <td>4</td>\n",
       "      <td>24</td>\n",
       "      <td>M</td>\n",
       "      <td>technician</td>\n",
       "      <td>43537</td>\n",
       "    </tr>\n",
       "    <tr>\n",
       "      <th>4</th>\n",
       "      <td>5</td>\n",
       "      <td>33</td>\n",
       "      <td>F</td>\n",
       "      <td>other</td>\n",
       "      <td>15213</td>\n",
       "    </tr>\n",
       "  </tbody>\n",
       "</table>\n",
       "</div>"
      ],
      "text/plain": [
       "   user_id  age sex  occupation zip_code\n",
       "0        1   24   M  technician    85711\n",
       "1        2   53   F       other    94043\n",
       "2        3   23   M      writer    32067\n",
       "3        4   24   M  technician    43537\n",
       "4        5   33   F       other    15213"
      ]
     },
     "execution_count": 6,
     "metadata": {},
     "output_type": "execute_result"
    }
   ],
   "source": [
    "# pass in column names for each CSV\n",
    "u_cols = ['user_id', 'age', 'sex', 'occupation', 'zip_code']\n",
    "\n",
    "users = pd.read_csv(\n",
    "    'http://files.grouplens.org/datasets/movielens/ml-100k/u.user', \n",
    "    sep='|', names=u_cols)\n",
    "\n",
    "users.head()"
   ]
  },
  {
   "cell_type": "markdown",
   "metadata": {
    "slideshow": {
     "slide_type": "slide"
    }
   },
   "source": [
    "Read the ratings\n",
    "============"
   ]
  },
  {
   "cell_type": "code",
   "execution_count": 7,
   "metadata": {
    "collapsed": false
   },
   "outputs": [
    {
     "data": {
      "text/html": [
       "<div>\n",
       "<table border=\"1\" class=\"dataframe\">\n",
       "  <thead>\n",
       "    <tr style=\"text-align: right;\">\n",
       "      <th></th>\n",
       "      <th>user_id</th>\n",
       "      <th>movie_id</th>\n",
       "      <th>rating</th>\n",
       "      <th>unix_timestamp</th>\n",
       "    </tr>\n",
       "  </thead>\n",
       "  <tbody>\n",
       "    <tr>\n",
       "      <th>0</th>\n",
       "      <td>196</td>\n",
       "      <td>242</td>\n",
       "      <td>3</td>\n",
       "      <td>881250949</td>\n",
       "    </tr>\n",
       "    <tr>\n",
       "      <th>1</th>\n",
       "      <td>186</td>\n",
       "      <td>302</td>\n",
       "      <td>3</td>\n",
       "      <td>891717742</td>\n",
       "    </tr>\n",
       "    <tr>\n",
       "      <th>2</th>\n",
       "      <td>22</td>\n",
       "      <td>377</td>\n",
       "      <td>1</td>\n",
       "      <td>878887116</td>\n",
       "    </tr>\n",
       "    <tr>\n",
       "      <th>3</th>\n",
       "      <td>244</td>\n",
       "      <td>51</td>\n",
       "      <td>2</td>\n",
       "      <td>880606923</td>\n",
       "    </tr>\n",
       "    <tr>\n",
       "      <th>4</th>\n",
       "      <td>166</td>\n",
       "      <td>346</td>\n",
       "      <td>1</td>\n",
       "      <td>886397596</td>\n",
       "    </tr>\n",
       "  </tbody>\n",
       "</table>\n",
       "</div>"
      ],
      "text/plain": [
       "   user_id  movie_id  rating  unix_timestamp\n",
       "0      196       242       3       881250949\n",
       "1      186       302       3       891717742\n",
       "2       22       377       1       878887116\n",
       "3      244        51       2       880606923\n",
       "4      166       346       1       886397596"
      ]
     },
     "execution_count": 7,
     "metadata": {},
     "output_type": "execute_result"
    }
   ],
   "source": [
    "r_cols = ['user_id', 'movie_id', 'rating', 'unix_timestamp']\n",
    "ratings = pd.read_csv(\n",
    "    'http://files.grouplens.org/datasets/movielens/ml-100k/u.data', \n",
    "    sep='\\t', names=r_cols)\n",
    "\n",
    "ratings.head() "
   ]
  },
  {
   "cell_type": "markdown",
   "metadata": {
    "slideshow": {
     "slide_type": "slide"
    }
   },
   "source": [
    "Now data about the movies\n",
    "========================="
   ]
  },
  {
   "cell_type": "code",
   "execution_count": 8,
   "metadata": {
    "collapsed": false
   },
   "outputs": [
    {
     "data": {
      "text/html": [
       "<div>\n",
       "<table border=\"1\" class=\"dataframe\">\n",
       "  <thead>\n",
       "    <tr style=\"text-align: right;\">\n",
       "      <th></th>\n",
       "      <th>movie_id</th>\n",
       "      <th>title</th>\n",
       "      <th>release_date</th>\n",
       "      <th>video_release_date</th>\n",
       "      <th>imdb_url</th>\n",
       "    </tr>\n",
       "  </thead>\n",
       "  <tbody>\n",
       "    <tr>\n",
       "      <th>0</th>\n",
       "      <td>1</td>\n",
       "      <td>Toy Story (1995)</td>\n",
       "      <td>01-Jan-1995</td>\n",
       "      <td>NaN</td>\n",
       "      <td>http://us.imdb.com/M/title-exact?Toy%20Story%2...</td>\n",
       "    </tr>\n",
       "    <tr>\n",
       "      <th>1</th>\n",
       "      <td>2</td>\n",
       "      <td>GoldenEye (1995)</td>\n",
       "      <td>01-Jan-1995</td>\n",
       "      <td>NaN</td>\n",
       "      <td>http://us.imdb.com/M/title-exact?GoldenEye%20(...</td>\n",
       "    </tr>\n",
       "    <tr>\n",
       "      <th>2</th>\n",
       "      <td>3</td>\n",
       "      <td>Four Rooms (1995)</td>\n",
       "      <td>01-Jan-1995</td>\n",
       "      <td>NaN</td>\n",
       "      <td>http://us.imdb.com/M/title-exact?Four%20Rooms%...</td>\n",
       "    </tr>\n",
       "    <tr>\n",
       "      <th>3</th>\n",
       "      <td>4</td>\n",
       "      <td>Get Shorty (1995)</td>\n",
       "      <td>01-Jan-1995</td>\n",
       "      <td>NaN</td>\n",
       "      <td>http://us.imdb.com/M/title-exact?Get%20Shorty%...</td>\n",
       "    </tr>\n",
       "    <tr>\n",
       "      <th>4</th>\n",
       "      <td>5</td>\n",
       "      <td>Copycat (1995)</td>\n",
       "      <td>01-Jan-1995</td>\n",
       "      <td>NaN</td>\n",
       "      <td>http://us.imdb.com/M/title-exact?Copycat%20(1995)</td>\n",
       "    </tr>\n",
       "  </tbody>\n",
       "</table>\n",
       "</div>"
      ],
      "text/plain": [
       "   movie_id              title release_date  video_release_date  \\\n",
       "0         1   Toy Story (1995)  01-Jan-1995                 NaN   \n",
       "1         2   GoldenEye (1995)  01-Jan-1995                 NaN   \n",
       "2         3  Four Rooms (1995)  01-Jan-1995                 NaN   \n",
       "3         4  Get Shorty (1995)  01-Jan-1995                 NaN   \n",
       "4         5     Copycat (1995)  01-Jan-1995                 NaN   \n",
       "\n",
       "                                            imdb_url  \n",
       "0  http://us.imdb.com/M/title-exact?Toy%20Story%2...  \n",
       "1  http://us.imdb.com/M/title-exact?GoldenEye%20(...  \n",
       "2  http://us.imdb.com/M/title-exact?Four%20Rooms%...  \n",
       "3  http://us.imdb.com/M/title-exact?Get%20Shorty%...  \n",
       "4  http://us.imdb.com/M/title-exact?Copycat%20(1995)  "
      ]
     },
     "execution_count": 8,
     "metadata": {},
     "output_type": "execute_result"
    }
   ],
   "source": [
    "# the movies file contains columns indicating the movie's genres\n",
    "# let's only load the first five columns of the file with usecols\n",
    "m_cols = ['movie_id', 'title', 'release_date', \n",
    "            'video_release_date', 'imdb_url']\n",
    "\n",
    "movies = pd.read_csv(\n",
    "    'http://files.grouplens.org/datasets/movielens/ml-100k/u.item', \n",
    "    sep='|', names=m_cols, usecols=range(5))\n",
    "\n",
    "movies.head()"
   ]
  },
  {
   "cell_type": "markdown",
   "metadata": {
    "slideshow": {
     "slide_type": "slide"
    }
   },
   "source": [
    "Get information about data\n",
    "======================="
   ]
  },
  {
   "cell_type": "code",
   "execution_count": 10,
   "metadata": {
    "collapsed": false
   },
   "outputs": [
    {
     "name": "stdout",
     "output_type": "stream",
     "text": [
      "movie_id                int64\n",
      "title                  object\n",
      "release_date           object\n",
      "video_release_date    float64\n",
      "imdb_url               object\n",
      "dtype: object\n",
      "          movie_id  video_release_date\n",
      "count  1682.000000                 0.0\n",
      "mean    841.500000                 NaN\n",
      "std     485.695893                 NaN\n",
      "min       1.000000                 NaN\n",
      "25%     421.250000                 NaN\n",
      "50%     841.500000                 NaN\n",
      "75%    1261.750000                 NaN\n",
      "max    1682.000000                 NaN\n"
     ]
    }
   ],
   "source": [
    "print (movies.dtypes)\n",
    "print\n",
    "print (movies.describe())\n",
    "# *** Why only those two columns? ***\n",
    "# Because only two column is number based"
   ]
  },
  {
   "cell_type": "markdown",
   "metadata": {
    "slideshow": {
     "slide_type": "slide"
    }
   },
   "source": [
    "Selecting data\n",
    "==============\n",
    "\n",
    "* DataFrame => group of Series with shared index\n",
    "* single DataFrame column => Series"
   ]
  },
  {
   "cell_type": "code",
   "execution_count": 11,
   "metadata": {
    "collapsed": false,
    "slideshow": {
     "slide_type": "slide"
    }
   },
   "outputs": [
    {
     "name": "stdout",
     "output_type": "stream",
     "text": [
      "   user_id  age sex  occupation zip_code\n",
      "0        1   24   M  technician    85711\n",
      "1        2   53   F       other    94043\n",
      "2        3   23   M      writer    32067\n",
      "3        4   24   M  technician    43537\n",
      "4        5   33   F       other    15213\n",
      "user_id                4\n",
      "age                   24\n",
      "sex                    M\n",
      "occupation    technician\n",
      "zip_code           43537\n",
      "Name: 3, dtype: object\n"
     ]
    }
   ],
   "source": [
    "users.head()\n",
    "users['occupation'].head()\n",
    "## *** Where did the nice design go? ***\n",
    "columns_you_want = ['occupation', 'sex'] \n",
    "users[columns_you_want].head()\n",
    "\n",
    "print (users.head())\n",
    "\n",
    "print (users.iloc[3])\n",
    "#iloc access row in dataframe"
   ]
  },
  {
   "cell_type": "markdown",
   "metadata": {
    "slideshow": {
     "slide_type": "slide"
    }
   },
   "source": [
    "Filtering data\n",
    "==============\n",
    "\n",
    "Select users older than 25"
   ]
  },
  {
   "cell_type": "code",
   "execution_count": 12,
   "metadata": {
    "collapsed": false
   },
   "outputs": [
    {
     "data": {
      "text/html": [
       "<div>\n",
       "<table border=\"1\" class=\"dataframe\">\n",
       "  <thead>\n",
       "    <tr style=\"text-align: right;\">\n",
       "      <th></th>\n",
       "      <th>user_id</th>\n",
       "      <th>age</th>\n",
       "      <th>sex</th>\n",
       "      <th>occupation</th>\n",
       "      <th>zip_code</th>\n",
       "    </tr>\n",
       "  </thead>\n",
       "  <tbody>\n",
       "    <tr>\n",
       "      <th>1</th>\n",
       "      <td>2</td>\n",
       "      <td>53</td>\n",
       "      <td>F</td>\n",
       "      <td>other</td>\n",
       "      <td>94043</td>\n",
       "    </tr>\n",
       "    <tr>\n",
       "      <th>4</th>\n",
       "      <td>5</td>\n",
       "      <td>33</td>\n",
       "      <td>F</td>\n",
       "      <td>other</td>\n",
       "      <td>15213</td>\n",
       "    </tr>\n",
       "    <tr>\n",
       "      <th>5</th>\n",
       "      <td>6</td>\n",
       "      <td>42</td>\n",
       "      <td>M</td>\n",
       "      <td>executive</td>\n",
       "      <td>98101</td>\n",
       "    </tr>\n",
       "    <tr>\n",
       "      <th>6</th>\n",
       "      <td>7</td>\n",
       "      <td>57</td>\n",
       "      <td>M</td>\n",
       "      <td>administrator</td>\n",
       "      <td>91344</td>\n",
       "    </tr>\n",
       "    <tr>\n",
       "      <th>7</th>\n",
       "      <td>8</td>\n",
       "      <td>36</td>\n",
       "      <td>M</td>\n",
       "      <td>administrator</td>\n",
       "      <td>05201</td>\n",
       "    </tr>\n",
       "  </tbody>\n",
       "</table>\n",
       "</div>"
      ],
      "text/plain": [
       "   user_id  age sex     occupation zip_code\n",
       "1        2   53   F          other    94043\n",
       "4        5   33   F          other    15213\n",
       "5        6   42   M      executive    98101\n",
       "6        7   57   M  administrator    91344\n",
       "7        8   36   M  administrator    05201"
      ]
     },
     "execution_count": 12,
     "metadata": {},
     "output_type": "execute_result"
    }
   ],
   "source": [
    "oldUsers = users[users.age > 25]\n",
    "oldUsers.head()"
   ]
  },
  {
   "cell_type": "markdown",
   "metadata": {
    "slideshow": {
     "slide_type": "slide"
    }
   },
   "source": [
    "Quiz:\n",
    "=====\n",
    "\n",
    "* show users aged 40 and male\n",
    "\n",
    "* show the mean age of female programmers"
   ]
  },
  {
   "cell_type": "code",
   "execution_count": 13,
   "metadata": {
    "collapsed": false,
    "slideshow": {
     "slide_type": "slide"
    }
   },
   "outputs": [
    {
     "name": "stdout",
     "output_type": "stream",
     "text": [
      "     user_id  age sex  occupation zip_code\n",
      "18        19   40   M   librarian    02138\n",
      "82        83   40   M       other    44133\n",
      "115      116   40   M  healthcare    97232\n",
      "199      200   40   M  programmer    93402\n",
      "283      284   40   M   executive    92629\n"
     ]
    }
   ],
   "source": [
    "# users aged 40 AND male\n",
    "# your code here\n",
    "maleUsers = users[(users.age == 40) & (users.sex == 'M')]\n",
    "\n",
    "print(maleUsers.head())"
   ]
  },
  {
   "cell_type": "code",
   "execution_count": 14,
   "metadata": {
    "collapsed": false,
    "slideshow": {
     "slide_type": "slide"
    }
   },
   "outputs": [
    {
     "name": "stdout",
     "output_type": "stream",
     "text": [
      "     user_id  age sex  occupation zip_code\n",
      "291      292   35   F  programmer    94703\n",
      "299      300   26   F  programmer    55106\n",
      "351      352   37   F  programmer    55105\n",
      "403      404   29   F  programmer    55108\n",
      "420      421   38   F  programmer    55105\n",
      "Mean age: 32.166666666666664\n"
     ]
    }
   ],
   "source": [
    "## users who are female and programmers\n",
    "# your code here\n",
    "femaleUsers = users[(users.sex=='F') & (users.occupation == 'programmer')]\n",
    "print(femaleUsers.head())\n",
    "## show statistic summary or compute mean\n",
    "# your code here\n",
    "femaleUsers.describe()\n",
    "print('Mean age: '+ str(femaleUsers.age.mean()))"
   ]
  },
  {
   "cell_type": "markdown",
   "metadata": {
    "slideshow": {
     "slide_type": "slide"
    }
   },
   "source": [
    "Split-apply-combine\n",
    "===================\n",
    "\n",
    "* splitting the data into groups based on some criteria\n",
    "* applying a function to each group independently\n",
    "* combining the results into a data structure"
   ]
  },
  {
   "cell_type": "markdown",
   "metadata": {
    "slideshow": {
     "slide_type": "slide"
    }
   },
   "source": [
    "Split-apply-combine\n",
    "===================\n",
    "\n",
    "<img src=http://i.imgur.com/yjNkiwL.png></img>"
   ]
  },
  {
   "cell_type": "markdown",
   "metadata": {
    "slideshow": {
     "slide_type": "slide"
    }
   },
   "source": [
    "Find Diligent Users\n",
    "===================\n",
    "\n",
    "* split data per user ID\n",
    "* count ratings\n",
    "* combine result"
   ]
  },
  {
   "cell_type": "code",
   "execution_count": 16,
   "metadata": {
    "collapsed": false,
    "slideshow": {
     "slide_type": "slide"
    }
   },
   "outputs": [
    {
     "name": "stdout",
     "output_type": "stream",
     "text": [
      "   user_id  movie_id  rating  unix_timestamp\n",
      "0      196       242       3       881250949\n",
      "1      186       302       3       891717742\n",
      "2       22       377       1       878887116\n",
      "3      244        51       2       880606923\n",
      "4      166       346       1       886397596\n"
     ]
    },
    {
     "data": {
      "text/plain": [
       "user_id\n",
       "1    272\n",
       "2     62\n",
       "3     54\n",
       "4     24\n",
       "5    175\n",
       "Name: movie_id, dtype: int64"
      ]
     },
     "execution_count": 16,
     "metadata": {},
     "output_type": "execute_result"
    }
   ],
   "source": [
    "print (ratings.head())\n",
    "## split data\n",
    "#grouped_data = ratings.groupby('user_id')\n",
    "\n",
    "grouped_data = ratings['movie_id'].groupby(ratings['user_id'])\n",
    "\n",
    "## count and combine\n",
    "ratings_per_user = grouped_data.count()\n",
    "\n",
    "ratings_per_user.head()\n"
   ]
  },
  {
   "cell_type": "markdown",
   "metadata": {
    "slideshow": {
     "slide_type": "slide"
    }
   },
   "source": [
    "Quiz\n",
    "====\n",
    "\n",
    "* get the average rating per movie\n",
    "* advanced: get the movie titles with the highest average rating"
   ]
  },
  {
   "cell_type": "code",
   "execution_count": 18,
   "metadata": {
    "collapsed": false,
    "slideshow": {
     "slide_type": "slide"
    }
   },
   "outputs": [
    {
     "name": "stdout",
     "output_type": "stream",
     "text": [
      "             user_id    rating  unix_timestamp\n",
      "movie_id                                      \n",
      "1         477.011062  3.878319    8.828054e+08\n",
      "2         492.007634  3.206107    8.834174e+08\n",
      "3         459.133333  3.033333    8.822269e+08\n",
      "4         469.497608  3.550239    8.827175e+08\n",
      "5         439.372093  3.302326    8.825882e+08\n",
      "5.0\n"
     ]
    },
    {
     "data": {
      "text/plain": [
       "Int64Index([814, 1122, 1189, 1201, 1293, 1467, 1500, 1536, 1599, 1653], dtype='int64', name='movie_id')"
      ]
     },
     "execution_count": 18,
     "metadata": {},
     "output_type": "execute_result"
    }
   ],
   "source": [
    "## split data\n",
    "# your code here\n",
    "grouped_data = ratings.groupby(ratings['movie_id'])\n",
    "\n",
    "## average and combine\n",
    "# your code here\n",
    "ratings_per_movies_avg = grouped_data.mean()\n",
    "print(ratings_per_movies_avg.head())\n",
    "# get the maximum rating\n",
    "# your code here\n",
    "max_ratings = ratings_per_movies_avg.rating.max()\n",
    "print(max_ratings)\n",
    "# get movie ids with that rating\n",
    "# your code here\n",
    "max_movies = ratings_per_movies_avg[ratings_per_movies_avg.rating == max_ratings]\n",
    "max_movies.index"
   ]
  },
  {
   "cell_type": "code",
   "execution_count": 19,
   "metadata": {
    "collapsed": false,
    "slideshow": {
     "slide_type": "slide"
    }
   },
   "outputs": [
    {
     "name": "stdout",
     "output_type": "stream",
     "text": [
      "Good movie ids:\n",
      "             user_id  rating  unix_timestamp\n",
      "movie_id                                    \n",
      "814        13.000000     5.0    8.863023e+08\n",
      "1122       60.000000     5.0    8.833265e+08\n",
      "1189      345.000000     5.0    8.885378e+08\n",
      "1201       90.000000     5.0    8.913837e+08\n",
      "1293      384.666667     5.0    8.887183e+08\n",
      "1467      565.000000     5.0    8.783198e+08\n",
      "1500      530.000000     5.0    8.774704e+08\n",
      "1536      385.000000     5.0    8.794413e+08\n",
      "1599      437.000000     5.0    8.801426e+08\n",
      "1653      675.000000     5.0    8.894899e+08\n",
      "Best movie titles\n",
      "813                         Great Day in Harlem, A (1994)\n",
      "1121                       They Made Me a Criminal (1939)\n",
      "1188                                   Prefontaine (1997)\n",
      "1200           Marlene Dietrich: Shadow and Light (1996) \n",
      "1292                                      Star Kid (1997)\n",
      "1466                 Saint of Fort Washington, The (1993)\n",
      "1499                            Santa with Muscles (1996)\n",
      "1535                                 Aiqing wansui (1994)\n",
      "1598                        Someone Else's America (1995)\n",
      "1652    Entertaining Angels: The Dorothy Day Story (1996)\n",
      "Name: title, dtype: object\n"
     ]
    }
   ],
   "source": [
    "print (\"Good movie ids:\")\n",
    "#your code here\n",
    "print (max_movies)\n",
    "\n",
    "print (\"Best movie titles\")\n",
    "print # your code here\n",
    "print(movies[movies.movie_id.isin(max_movies.index)].title)"
   ]
  },
  {
   "cell_type": "code",
   "execution_count": 20,
   "metadata": {
    "collapsed": false,
    "slideshow": {
     "slide_type": "slide"
    }
   },
   "outputs": [
    {
     "name": "stdout",
     "output_type": "stream",
     "text": [
      "Number of ratings per movie\n",
      "movie_id\n",
      "814     1\n",
      "1122    1\n",
      "1189    3\n",
      "1201    1\n",
      "1293    3\n",
      "1467    2\n",
      "1500    2\n",
      "1536    1\n",
      "1599    1\n",
      "1653    1\n",
      "Name: rating, dtype: int64\n"
     ]
    }
   ],
   "source": [
    "# get number of ratings per movie\n",
    "# your code here\n",
    "num_ratings = grouped_data.count()\n",
    "#print(num_ratings)\n",
    "print (\"Number of ratings per movie\")\n",
    "print (num_ratings.rating[ratings_per_movies_avg.rating == max_ratings])"
   ]
  },
  {
   "cell_type": "markdown",
   "metadata": {
    "slideshow": {
     "slide_type": "slide"
    }
   },
   "source": [
    "Passing a Function\n",
    "==================\n"
   ]
  },
  {
   "cell_type": "code",
   "execution_count": 22,
   "metadata": {
    "collapsed": false
   },
   "outputs": [
    {
     "data": {
      "text/html": [
       "<div>\n",
       "<table border=\"1\" class=\"dataframe\">\n",
       "  <thead>\n",
       "    <tr style=\"text-align: right;\">\n",
       "      <th></th>\n",
       "      <th>user_id</th>\n",
       "      <th>movie_id</th>\n",
       "      <th>rating</th>\n",
       "      <th>unix_timestamp</th>\n",
       "    </tr>\n",
       "    <tr>\n",
       "      <th>movie_id</th>\n",
       "      <th></th>\n",
       "      <th></th>\n",
       "      <th></th>\n",
       "      <th></th>\n",
       "    </tr>\n",
       "  </thead>\n",
       "  <tbody>\n",
       "    <tr>\n",
       "      <th>1</th>\n",
       "      <td>477.011062</td>\n",
       "      <td>1.0</td>\n",
       "      <td>3.878319</td>\n",
       "      <td>8.828054e+08</td>\n",
       "    </tr>\n",
       "    <tr>\n",
       "      <th>2</th>\n",
       "      <td>492.007634</td>\n",
       "      <td>2.0</td>\n",
       "      <td>3.206107</td>\n",
       "      <td>8.834174e+08</td>\n",
       "    </tr>\n",
       "    <tr>\n",
       "      <th>3</th>\n",
       "      <td>459.133333</td>\n",
       "      <td>3.0</td>\n",
       "      <td>3.033333</td>\n",
       "      <td>8.822269e+08</td>\n",
       "    </tr>\n",
       "    <tr>\n",
       "      <th>4</th>\n",
       "      <td>469.497608</td>\n",
       "      <td>4.0</td>\n",
       "      <td>3.550239</td>\n",
       "      <td>8.827175e+08</td>\n",
       "    </tr>\n",
       "    <tr>\n",
       "      <th>5</th>\n",
       "      <td>439.372093</td>\n",
       "      <td>5.0</td>\n",
       "      <td>3.302326</td>\n",
       "      <td>8.825882e+08</td>\n",
       "    </tr>\n",
       "  </tbody>\n",
       "</table>\n",
       "</div>"
      ],
      "text/plain": [
       "             user_id  movie_id    rating  unix_timestamp\n",
       "movie_id                                                \n",
       "1         477.011062       1.0  3.878319    8.828054e+08\n",
       "2         492.007634       2.0  3.206107    8.834174e+08\n",
       "3         459.133333       3.0  3.033333    8.822269e+08\n",
       "4         469.497608       4.0  3.550239    8.827175e+08\n",
       "5         439.372093       5.0  3.302326    8.825882e+08"
      ]
     },
     "execution_count": 22,
     "metadata": {},
     "output_type": "execute_result"
    }
   ],
   "source": [
    "average_ratings = grouped_data.apply(lambda f: f.mean()) #The same as above\n",
    "average_ratings.head()"
   ]
  },
  {
   "cell_type": "markdown",
   "metadata": {
    "slideshow": {
     "slide_type": "slide"
    }
   },
   "source": [
    "Quiz\n",
    "====\n",
    "\n",
    "* get the average rating per user\n",
    "* advanced: list all occupations and if they are male or female dominant"
   ]
  },
  {
   "cell_type": "code",
   "execution_count": 23,
   "metadata": {
    "collapsed": false,
    "slideshow": {
     "slide_type": "slide"
    }
   },
   "outputs": [],
   "source": [
    "# get the average rating per user\n",
    "# your code here\n",
    "grouped_users = ratings.groupby(ratings['user_id'])\n",
    "users_avg = grouped_users.mean()\n",
    "users_avg_ratings = users_avg.rating\n",
    "#users_avg_ratings"
   ]
  },
  {
   "cell_type": "code",
   "execution_count": 24,
   "metadata": {
    "collapsed": false,
    "slideshow": {
     "slide_type": "slide"
    }
   },
   "outputs": [
    {
     "data": {
      "text/html": [
       "<div>\n",
       "<table border=\"1\" class=\"dataframe\">\n",
       "  <thead>\n",
       "    <tr style=\"text-align: right;\">\n",
       "      <th></th>\n",
       "      <th>movie_id</th>\n",
       "      <th>rating</th>\n",
       "      <th>unix_timestamp</th>\n",
       "    </tr>\n",
       "    <tr>\n",
       "      <th>user_id</th>\n",
       "      <th></th>\n",
       "      <th></th>\n",
       "      <th></th>\n",
       "    </tr>\n",
       "  </thead>\n",
       "  <tbody>\n",
       "    <tr>\n",
       "      <th>1</th>\n",
       "      <td>int64</td>\n",
       "      <td>int64</td>\n",
       "      <td>int64</td>\n",
       "    </tr>\n",
       "    <tr>\n",
       "      <th>2</th>\n",
       "      <td>int64</td>\n",
       "      <td>int64</td>\n",
       "      <td>int64</td>\n",
       "    </tr>\n",
       "    <tr>\n",
       "      <th>3</th>\n",
       "      <td>int64</td>\n",
       "      <td>int64</td>\n",
       "      <td>int64</td>\n",
       "    </tr>\n",
       "    <tr>\n",
       "      <th>4</th>\n",
       "      <td>int64</td>\n",
       "      <td>int64</td>\n",
       "      <td>int64</td>\n",
       "    </tr>\n",
       "    <tr>\n",
       "      <th>5</th>\n",
       "      <td>int64</td>\n",
       "      <td>int64</td>\n",
       "      <td>int64</td>\n",
       "    </tr>\n",
       "    <tr>\n",
       "      <th>6</th>\n",
       "      <td>int64</td>\n",
       "      <td>int64</td>\n",
       "      <td>int64</td>\n",
       "    </tr>\n",
       "    <tr>\n",
       "      <th>7</th>\n",
       "      <td>int64</td>\n",
       "      <td>int64</td>\n",
       "      <td>int64</td>\n",
       "    </tr>\n",
       "    <tr>\n",
       "      <th>8</th>\n",
       "      <td>int64</td>\n",
       "      <td>int64</td>\n",
       "      <td>int64</td>\n",
       "    </tr>\n",
       "    <tr>\n",
       "      <th>9</th>\n",
       "      <td>int64</td>\n",
       "      <td>int64</td>\n",
       "      <td>int64</td>\n",
       "    </tr>\n",
       "    <tr>\n",
       "      <th>10</th>\n",
       "      <td>int64</td>\n",
       "      <td>int64</td>\n",
       "      <td>int64</td>\n",
       "    </tr>\n",
       "    <tr>\n",
       "      <th>11</th>\n",
       "      <td>int64</td>\n",
       "      <td>int64</td>\n",
       "      <td>int64</td>\n",
       "    </tr>\n",
       "    <tr>\n",
       "      <th>12</th>\n",
       "      <td>int64</td>\n",
       "      <td>int64</td>\n",
       "      <td>int64</td>\n",
       "    </tr>\n",
       "    <tr>\n",
       "      <th>13</th>\n",
       "      <td>int64</td>\n",
       "      <td>int64</td>\n",
       "      <td>int64</td>\n",
       "    </tr>\n",
       "    <tr>\n",
       "      <th>14</th>\n",
       "      <td>int64</td>\n",
       "      <td>int64</td>\n",
       "      <td>int64</td>\n",
       "    </tr>\n",
       "    <tr>\n",
       "      <th>15</th>\n",
       "      <td>int64</td>\n",
       "      <td>int64</td>\n",
       "      <td>int64</td>\n",
       "    </tr>\n",
       "    <tr>\n",
       "      <th>16</th>\n",
       "      <td>int64</td>\n",
       "      <td>int64</td>\n",
       "      <td>int64</td>\n",
       "    </tr>\n",
       "    <tr>\n",
       "      <th>17</th>\n",
       "      <td>int64</td>\n",
       "      <td>int64</td>\n",
       "      <td>int64</td>\n",
       "    </tr>\n",
       "    <tr>\n",
       "      <th>18</th>\n",
       "      <td>int64</td>\n",
       "      <td>int64</td>\n",
       "      <td>int64</td>\n",
       "    </tr>\n",
       "    <tr>\n",
       "      <th>19</th>\n",
       "      <td>int64</td>\n",
       "      <td>int64</td>\n",
       "      <td>int64</td>\n",
       "    </tr>\n",
       "    <tr>\n",
       "      <th>20</th>\n",
       "      <td>int64</td>\n",
       "      <td>int64</td>\n",
       "      <td>int64</td>\n",
       "    </tr>\n",
       "    <tr>\n",
       "      <th>21</th>\n",
       "      <td>int64</td>\n",
       "      <td>int64</td>\n",
       "      <td>int64</td>\n",
       "    </tr>\n",
       "    <tr>\n",
       "      <th>22</th>\n",
       "      <td>int64</td>\n",
       "      <td>int64</td>\n",
       "      <td>int64</td>\n",
       "    </tr>\n",
       "    <tr>\n",
       "      <th>23</th>\n",
       "      <td>int64</td>\n",
       "      <td>int64</td>\n",
       "      <td>int64</td>\n",
       "    </tr>\n",
       "    <tr>\n",
       "      <th>24</th>\n",
       "      <td>int64</td>\n",
       "      <td>int64</td>\n",
       "      <td>int64</td>\n",
       "    </tr>\n",
       "    <tr>\n",
       "      <th>25</th>\n",
       "      <td>int64</td>\n",
       "      <td>int64</td>\n",
       "      <td>int64</td>\n",
       "    </tr>\n",
       "    <tr>\n",
       "      <th>26</th>\n",
       "      <td>int64</td>\n",
       "      <td>int64</td>\n",
       "      <td>int64</td>\n",
       "    </tr>\n",
       "    <tr>\n",
       "      <th>27</th>\n",
       "      <td>int64</td>\n",
       "      <td>int64</td>\n",
       "      <td>int64</td>\n",
       "    </tr>\n",
       "    <tr>\n",
       "      <th>28</th>\n",
       "      <td>int64</td>\n",
       "      <td>int64</td>\n",
       "      <td>int64</td>\n",
       "    </tr>\n",
       "    <tr>\n",
       "      <th>29</th>\n",
       "      <td>int64</td>\n",
       "      <td>int64</td>\n",
       "      <td>int64</td>\n",
       "    </tr>\n",
       "    <tr>\n",
       "      <th>30</th>\n",
       "      <td>int64</td>\n",
       "      <td>int64</td>\n",
       "      <td>int64</td>\n",
       "    </tr>\n",
       "    <tr>\n",
       "      <th>...</th>\n",
       "      <td>...</td>\n",
       "      <td>...</td>\n",
       "      <td>...</td>\n",
       "    </tr>\n",
       "    <tr>\n",
       "      <th>914</th>\n",
       "      <td>int64</td>\n",
       "      <td>int64</td>\n",
       "      <td>int64</td>\n",
       "    </tr>\n",
       "    <tr>\n",
       "      <th>915</th>\n",
       "      <td>int64</td>\n",
       "      <td>int64</td>\n",
       "      <td>int64</td>\n",
       "    </tr>\n",
       "    <tr>\n",
       "      <th>916</th>\n",
       "      <td>int64</td>\n",
       "      <td>int64</td>\n",
       "      <td>int64</td>\n",
       "    </tr>\n",
       "    <tr>\n",
       "      <th>917</th>\n",
       "      <td>int64</td>\n",
       "      <td>int64</td>\n",
       "      <td>int64</td>\n",
       "    </tr>\n",
       "    <tr>\n",
       "      <th>918</th>\n",
       "      <td>int64</td>\n",
       "      <td>int64</td>\n",
       "      <td>int64</td>\n",
       "    </tr>\n",
       "    <tr>\n",
       "      <th>919</th>\n",
       "      <td>int64</td>\n",
       "      <td>int64</td>\n",
       "      <td>int64</td>\n",
       "    </tr>\n",
       "    <tr>\n",
       "      <th>920</th>\n",
       "      <td>int64</td>\n",
       "      <td>int64</td>\n",
       "      <td>int64</td>\n",
       "    </tr>\n",
       "    <tr>\n",
       "      <th>921</th>\n",
       "      <td>int64</td>\n",
       "      <td>int64</td>\n",
       "      <td>int64</td>\n",
       "    </tr>\n",
       "    <tr>\n",
       "      <th>922</th>\n",
       "      <td>int64</td>\n",
       "      <td>int64</td>\n",
       "      <td>int64</td>\n",
       "    </tr>\n",
       "    <tr>\n",
       "      <th>923</th>\n",
       "      <td>int64</td>\n",
       "      <td>int64</td>\n",
       "      <td>int64</td>\n",
       "    </tr>\n",
       "    <tr>\n",
       "      <th>924</th>\n",
       "      <td>int64</td>\n",
       "      <td>int64</td>\n",
       "      <td>int64</td>\n",
       "    </tr>\n",
       "    <tr>\n",
       "      <th>925</th>\n",
       "      <td>int64</td>\n",
       "      <td>int64</td>\n",
       "      <td>int64</td>\n",
       "    </tr>\n",
       "    <tr>\n",
       "      <th>926</th>\n",
       "      <td>int64</td>\n",
       "      <td>int64</td>\n",
       "      <td>int64</td>\n",
       "    </tr>\n",
       "    <tr>\n",
       "      <th>927</th>\n",
       "      <td>int64</td>\n",
       "      <td>int64</td>\n",
       "      <td>int64</td>\n",
       "    </tr>\n",
       "    <tr>\n",
       "      <th>928</th>\n",
       "      <td>int64</td>\n",
       "      <td>int64</td>\n",
       "      <td>int64</td>\n",
       "    </tr>\n",
       "    <tr>\n",
       "      <th>929</th>\n",
       "      <td>int64</td>\n",
       "      <td>int64</td>\n",
       "      <td>int64</td>\n",
       "    </tr>\n",
       "    <tr>\n",
       "      <th>930</th>\n",
       "      <td>int64</td>\n",
       "      <td>int64</td>\n",
       "      <td>int64</td>\n",
       "    </tr>\n",
       "    <tr>\n",
       "      <th>931</th>\n",
       "      <td>int64</td>\n",
       "      <td>int64</td>\n",
       "      <td>int64</td>\n",
       "    </tr>\n",
       "    <tr>\n",
       "      <th>932</th>\n",
       "      <td>int64</td>\n",
       "      <td>int64</td>\n",
       "      <td>int64</td>\n",
       "    </tr>\n",
       "    <tr>\n",
       "      <th>933</th>\n",
       "      <td>int64</td>\n",
       "      <td>int64</td>\n",
       "      <td>int64</td>\n",
       "    </tr>\n",
       "    <tr>\n",
       "      <th>934</th>\n",
       "      <td>int64</td>\n",
       "      <td>int64</td>\n",
       "      <td>int64</td>\n",
       "    </tr>\n",
       "    <tr>\n",
       "      <th>935</th>\n",
       "      <td>int64</td>\n",
       "      <td>int64</td>\n",
       "      <td>int64</td>\n",
       "    </tr>\n",
       "    <tr>\n",
       "      <th>936</th>\n",
       "      <td>int64</td>\n",
       "      <td>int64</td>\n",
       "      <td>int64</td>\n",
       "    </tr>\n",
       "    <tr>\n",
       "      <th>937</th>\n",
       "      <td>int64</td>\n",
       "      <td>int64</td>\n",
       "      <td>int64</td>\n",
       "    </tr>\n",
       "    <tr>\n",
       "      <th>938</th>\n",
       "      <td>int64</td>\n",
       "      <td>int64</td>\n",
       "      <td>int64</td>\n",
       "    </tr>\n",
       "    <tr>\n",
       "      <th>939</th>\n",
       "      <td>int64</td>\n",
       "      <td>int64</td>\n",
       "      <td>int64</td>\n",
       "    </tr>\n",
       "    <tr>\n",
       "      <th>940</th>\n",
       "      <td>int64</td>\n",
       "      <td>int64</td>\n",
       "      <td>int64</td>\n",
       "    </tr>\n",
       "    <tr>\n",
       "      <th>941</th>\n",
       "      <td>int64</td>\n",
       "      <td>int64</td>\n",
       "      <td>int64</td>\n",
       "    </tr>\n",
       "    <tr>\n",
       "      <th>942</th>\n",
       "      <td>int64</td>\n",
       "      <td>int64</td>\n",
       "      <td>int64</td>\n",
       "    </tr>\n",
       "    <tr>\n",
       "      <th>943</th>\n",
       "      <td>int64</td>\n",
       "      <td>int64</td>\n",
       "      <td>int64</td>\n",
       "    </tr>\n",
       "  </tbody>\n",
       "</table>\n",
       "<p>943 rows × 3 columns</p>\n",
       "</div>"
      ],
      "text/plain": [
       "        movie_id rating unix_timestamp\n",
       "user_id                               \n",
       "1          int64  int64          int64\n",
       "2          int64  int64          int64\n",
       "3          int64  int64          int64\n",
       "4          int64  int64          int64\n",
       "5          int64  int64          int64\n",
       "6          int64  int64          int64\n",
       "7          int64  int64          int64\n",
       "8          int64  int64          int64\n",
       "9          int64  int64          int64\n",
       "10         int64  int64          int64\n",
       "11         int64  int64          int64\n",
       "12         int64  int64          int64\n",
       "13         int64  int64          int64\n",
       "14         int64  int64          int64\n",
       "15         int64  int64          int64\n",
       "16         int64  int64          int64\n",
       "17         int64  int64          int64\n",
       "18         int64  int64          int64\n",
       "19         int64  int64          int64\n",
       "20         int64  int64          int64\n",
       "21         int64  int64          int64\n",
       "22         int64  int64          int64\n",
       "23         int64  int64          int64\n",
       "24         int64  int64          int64\n",
       "25         int64  int64          int64\n",
       "26         int64  int64          int64\n",
       "27         int64  int64          int64\n",
       "28         int64  int64          int64\n",
       "29         int64  int64          int64\n",
       "30         int64  int64          int64\n",
       "...          ...    ...            ...\n",
       "914        int64  int64          int64\n",
       "915        int64  int64          int64\n",
       "916        int64  int64          int64\n",
       "917        int64  int64          int64\n",
       "918        int64  int64          int64\n",
       "919        int64  int64          int64\n",
       "920        int64  int64          int64\n",
       "921        int64  int64          int64\n",
       "922        int64  int64          int64\n",
       "923        int64  int64          int64\n",
       "924        int64  int64          int64\n",
       "925        int64  int64          int64\n",
       "926        int64  int64          int64\n",
       "927        int64  int64          int64\n",
       "928        int64  int64          int64\n",
       "929        int64  int64          int64\n",
       "930        int64  int64          int64\n",
       "931        int64  int64          int64\n",
       "932        int64  int64          int64\n",
       "933        int64  int64          int64\n",
       "934        int64  int64          int64\n",
       "935        int64  int64          int64\n",
       "936        int64  int64          int64\n",
       "937        int64  int64          int64\n",
       "938        int64  int64          int64\n",
       "939        int64  int64          int64\n",
       "940        int64  int64          int64\n",
       "941        int64  int64          int64\n",
       "942        int64  int64          int64\n",
       "943        int64  int64          int64\n",
       "\n",
       "[943 rows x 3 columns]"
      ]
     },
     "execution_count": 24,
     "metadata": {},
     "output_type": "execute_result"
    }
   ],
   "source": [
    "# list all occupations and if they are male or female dominant\n",
    "# your code here\n",
    "grouped_users.dtypes"
   ]
  },
  {
   "cell_type": "code",
   "execution_count": 25,
   "metadata": {
    "collapsed": false,
    "slideshow": {
     "slide_type": "slide"
    }
   },
   "outputs": [
    {
     "ename": "SyntaxError",
     "evalue": "Missing parentheses in call to 'print' (<ipython-input-25-a8e062c79ee3>, line 1)",
     "output_type": "error",
     "traceback": [
      "\u001b[0;36m  File \u001b[0;32m\"<ipython-input-25-a8e062c79ee3>\"\u001b[0;36m, line \u001b[0;32m1\u001b[0m\n\u001b[0;31m    print 'number of male users: '\u001b[0m\n\u001b[0m                                 ^\u001b[0m\n\u001b[0;31mSyntaxError\u001b[0m\u001b[0;31m:\u001b[0m Missing parentheses in call to 'print'\n"
     ]
    }
   ],
   "source": [
    "print 'number of male users: '\n",
    "print sum(users['sex'] == 'M')\n",
    "\n",
    "print 'number of female users: '\n",
    "print sum(users['sex'] == 'F')"
   ]
  },
  {
   "cell_type": "markdown",
   "metadata": {
    "slideshow": {
     "slide_type": "slide"
    }
   },
   "source": [
    "Pandas \"wrapup\"\n",
    "==========\n",
    "\n",
    "- create data frames\n",
    "- get sub-frames\n",
    "- filter data \n",
    "- use group-by\n",
    "- apply a user defined function\n",
    "\n",
    "\n",
    "![cute panda](images/cute_panda.jpg)"
   ]
  },
  {
   "cell_type": "markdown",
   "metadata": {
    "slideshow": {
     "slide_type": "slide"
    }
   },
   "source": [
    "Python data scraping\n",
    "====================\n",
    "\n",
    "* Why scrape the web?\n",
    "    - vast source of information\n",
    "    - automate tasks\n",
    "    - keep up with sites\n",
    "    - fun!\n",
    "\n",
    "** Can you think of examples ? **"
   ]
  },
  {
   "cell_type": "markdown",
   "metadata": {
    "slideshow": {
     "slide_type": "slide"
    }
   },
   "source": [
    "Read and Tweet!\n",
    "=================\n",
    "\n",
    "![ReadTweet](http://developer.nytimes.com/files/readtweet.jpg)\n",
    "\n",
    "* by Justin Blinder\n",
    "* http://projects.justinblinder.com/We-Read-We-Tweet"
   ]
  },
  {
   "cell_type": "markdown",
   "metadata": {
    "slideshow": {
     "slide_type": "skip"
    }
   },
   "source": [
    "“We Read, We Tweet” geographically visualizes the dissemination of New York Times articles through Twitter. Each line connects the location of a tweet to the contextual location of the New York Times article it referenced. The lines are generated in a sequence based on the time in which a tweet occurs. The project explores digital news distribution in a temporal and spatial context through the social space of Twitter."
   ]
  },
  {
   "cell_type": "markdown",
   "metadata": {
    "slideshow": {
     "slide_type": "slide"
    }
   },
   "source": [
    "Twitter Sentiments\n",
    "=================\n",
    "\n",
    "![TwitterSentiments](http://www.csc.ncsu.edu/faculty/healey/tweet_viz/figs/tweet-viz-ex.png\n",
    " \"Twitter Sentiments\")\n",
    "\n",
    "* by Healey and Ramaswamy\n",
    "* http://www.csc.ncsu.edu/faculty/healey/tweet_viz/tweet_app/"
   ]
  },
  {
   "cell_type": "markdown",
   "metadata": {
    "slideshow": {
     "slide_type": "skip"
    }
   },
   "source": [
    "Type a keyword into the input field, then click the Query button. Recent tweets that contain your keyword are pulled from Twitter and visualized in the Sentiment tab as circles. Hover your mouse over a tweet or click on it to see its text."
   ]
  },
  {
   "cell_type": "markdown",
   "metadata": {
    "slideshow": {
     "slide_type": "slide"
    }
   },
   "source": [
    "Python data scraping\n",
    "====================\n",
    "\n",
    "* copyrights and permission:\n",
    "    - be careful and polite\n",
    "    - give credit\n",
    "    - care about media law\n",
    "    - don't be evil (no spam, overloading sites, etc.)"
   ]
  },
  {
   "cell_type": "markdown",
   "metadata": {
    "slideshow": {
     "slide_type": "slide"
    }
   },
   "source": [
    "Robots.txt\n",
    "==========\n",
    "\n",
    "![Robots.txt](images/robots_txt.jpg \"Robots.txt\")"
   ]
  },
  {
   "cell_type": "markdown",
   "metadata": {
    "slideshow": {
     "slide_type": "slide"
    }
   },
   "source": [
    "Robots.txt\n",
    "==========\n",
    "\n",
    "* specified by web site owner\n",
    "* gives instructions to web robots (aka your script)\n",
    "* is located at the top-level directory of the web server\n",
    "\n",
    "http://www.example.com/robots.txt\n",
    "\n",
    "If you want you can also have a look at\n",
    "\n",
    "http://google.com/robots.txt"
   ]
  },
  {
   "cell_type": "markdown",
   "metadata": {
    "slideshow": {
     "slide_type": "slide"
    }
   },
   "source": [
    "Robots.txt\n",
    "==========\n",
    "\n",
    "*** What does this one do? ***"
   ]
  },
  {
   "cell_type": "raw",
   "metadata": {},
   "source": [
    "\n",
    "User-agent: Google\n",
    "Disallow:\n",
    "\n",
    "User-agent: *\n",
    "Disallow: /"
   ]
  },
  {
   "cell_type": "markdown",
   "metadata": {
    "slideshow": {
     "slide_type": "slide"
    }
   },
   "source": [
    "Things to consider:\n",
    "-------------------\n",
    "\n",
    "* can be just ignored\n",
    "* can be a security risk - *** Why? ***"
   ]
  },
  {
   "cell_type": "markdown",
   "metadata": {
    "slideshow": {
     "slide_type": "slide"
    }
   },
   "source": [
    "Scraping with Python:\n",
    "=====================\n",
    "\n",
    "* scraping is all about HTML tags\n",
    "* bad news: \n",
    "    - need to learn about tags\n",
    "    - websites can be ugly"
   ]
  },
  {
   "cell_type": "markdown",
   "metadata": {
    "slideshow": {
     "slide_type": "slide"
    }
   },
   "source": [
    "HTML\n",
    "=====\n",
    "\n",
    "* HyperText Markup Language\n",
    "\n",
    "* standard for creating webpages\n",
    "\n",
    "* HTML tags \n",
    "    - have angle brackets\n",
    "    - typically come in pairs"
   ]
  },
  {
   "cell_type": "markdown",
   "metadata": {
    "slideshow": {
     "slide_type": "skip"
    }
   },
   "source": [
    "This is an example for a minimal webpage defined in HTML tags. The root tag is `<html>` and then you have the `<head>` tag. This part of the page typically includes the title of the page and might also have other meta information like the author or keywords that are important for search engines. The `<body>` tag marks the actual content of the page. You can play around with the `<h2>` tag trying different header levels. They range from 1 to 6. "
   ]
  },
  {
   "cell_type": "code",
   "execution_count": null,
   "metadata": {
    "collapsed": false,
    "slideshow": {
     "slide_type": "slide"
    }
   },
   "outputs": [],
   "source": [
    "htmlString = \"\"\"<!DOCTYPE html>\n",
    "<html>\n",
    "  <head>\n",
    "    <title>This is a title</title>\n",
    "  </head>\n",
    "  <body>\n",
    "    <h2> Test </h2>\n",
    "    <p>Hello world!</p>\n",
    "  </body>\n",
    "</html>\"\"\"\n",
    "\n",
    "htmlOutput = HTML(htmlString)\n",
    "htmlOutput"
   ]
  },
  {
   "cell_type": "markdown",
   "metadata": {
    "slideshow": {
     "slide_type": "slide"
    }
   },
   "source": [
    "Useful Tags\n",
    "===========\n",
    "\n",
    "* heading\n",
    "`<h1></h1> ... <h6></h6>`\n",
    "\n",
    "* paragraph\n",
    "`<p></p>` \n",
    "\n",
    "* line break\n",
    "`<br>` \n",
    "\n",
    "* link with attribute\n",
    "\n",
    "`<a href=\"http://www.example.com/\">An example link</a>`\n"
   ]
  },
  {
   "cell_type": "markdown",
   "metadata": {
    "slideshow": {
     "slide_type": "slide"
    }
   },
   "source": [
    "Scraping with Python:\n",
    "=====================\n",
    "\n",
    "* example of a beautifully simple webpage:\n",
    "\n",
    "http://www.crummy.com/software/BeautifulSoup"
   ]
  },
  {
   "cell_type": "markdown",
   "metadata": {
    "slideshow": {
     "slide_type": "slide"
    }
   },
   "source": [
    "Scraping with Python:\n",
    "=====================\n",
    "\n",
    "* good news: \n",
    "    - some browsers help\n",
    "    - look for: inspect element\n",
    "    - need only basic html\n",
    "    \n",
    "** Try 'Ctrl-Shift I' in Chrome **\n",
    "\n",
    "** Try 'Command-Option I' in Safari **\n"
   ]
  },
  {
   "cell_type": "markdown",
   "metadata": {
    "slideshow": {
     "slide_type": "slide"
    }
   },
   "source": [
    "Scraping with Python\n",
    "==================\n",
    "\n",
    "* different useful libraries:\n",
    "    - urllib\n",
    "    - beautifulsoup\n",
    "    - pattern\n",
    "    - soupy\n",
    "    - LXML\n",
    "    - ...\n",
    "    "
   ]
  },
  {
   "cell_type": "markdown",
   "metadata": {
    "slideshow": {
     "slide_type": "skip"
    }
   },
   "source": [
    "The following cell just defines a url as a string and then reads the data from that url using the `urllib` library. If you uncomment the print command you see that we got the whole HTML content of the page into the string variable source."
   ]
  },
  {
   "cell_type": "code",
   "execution_count": 29,
   "metadata": {
    "collapsed": true,
    "slideshow": {
     "slide_type": "slide"
    }
   },
   "outputs": [
    {
     "name": "stdout",
     "output_type": "stream",
     "text": [
      "b'<!DOCTYPE HTML PUBLIC \"-//W3C//DTD HTML 4.0 Transitional//EN\"\\n\"http://www.w3.org/TR/REC-html40/transitional.dtd\">\\n<html>\\n<head>\\n<meta http-equiv=\"Content-Type\" content=\"text/html; charset=utf-8\">\\n<title>Beautiful Soup: We called him Tortoise because he taught us.</title>\\n<link rev=\"made\" href=\"mailto:leonardr@segfault.org\">\\n<link rel=\"stylesheet\" type=\"text/css\" href=\"/nb/themes/Default/nb.css\">\\n<meta name=\"Description\" content=\"Beautiful Soup: a library designed for screen-scraping HTML and XML.\">\\n<meta name=\"generator\" content=\"Markov Approximation 1.4 (module: leonardr)\">\\n<meta name=\"author\" content=\"Leonard Richardson\">\\n</head>\\n<body bgcolor=\"white\" text=\"black\" link=\"blue\" vlink=\"660066\" alink=\"red\">\\n<img align=\"right\" src=\"10.1.jpg\" width=\"250\"><br />\\n\\n<p>You didn\\'t write that awful page. You\\'re just trying to get some\\ndata out of it. Beautiful Soup is here to help. Since 2004, it\\'s been\\nsaving programmers hours or days of work on quick-turnaround\\nscreen scraping projects.</p>\\n\\n<div align=\"center\">\\n\\n<a href=\"bs4/download/\"><h1>Beautiful Soup</h1></a>\\n\\n<p>\"A tremendous boon.\" -- Python411 Podcast</p>\\n\\n<p>[ <a href=\"#Download\">Download</a> | <a\\nhref=\"bs4/doc/\">Documentation</a> | <a href=\"#HallOfFame\">Hall of Fame</a> | <a href=\"https://code.launchpad.net/beautifulsoup\">Source</a> | <a href=\"https://groups.google.com/forum/?fromgroups#!forum/beautifulsoup\">Discussion group</a> ]</p>\\n\\n<small>If Beautiful Soup has saved you a lot of time and money, the\\nbest way to pay me back is to check out <a\\nhref=\"http://www.candlemarkandgleam.com/shop/constellation-games/\"><i>Constellation\\nGames</i>, my sci-fi novel about alien video games</a>.<br />You can\\n<a\\nhref=\"http://constellation.crummy.com/Constellation%20Games%20excerpt.html\">read\\nthe first two chapters for free</a>, and the full novel starts at 5\\nUSD. Thanks!</small> </div>\\n\\n<p><i>If you have questions, send them to <a\\nhref=\"https://groups.google.com/forum/?fromgroups#!forum/beautifulsoup\">the discussion\\ngroup</a>. If you find a bug, <a href=\"https://bugs.launchpad.net/beautifulsoup/\">file it</a>.</i></p>\\n\\n<p>Beautiful Soup is a Python library designed for quick turnaround\\nprojects like screen-scraping. Three features make it powerful:\\n\\n<ol>\\n\\n<li>Beautiful Soup provides a few simple methods and Pythonic idioms\\nfor navigating, searching, and modifying a parse tree: a toolkit for\\ndissecting a document and extracting what you need. It doesn\\'t take\\nmuch code to write an application\\n\\n<li>Beautiful Soup automatically converts incoming documents to\\nUnicode and outgoing documents to UTF-8. You don\\'t have to think\\nabout encodings, unless the document doesn\\'t specify an encoding and\\nBeautiful Soup can\\'t detect one. Then you just have to specify the\\noriginal encoding.\\n\\n<li>Beautiful Soup sits on top of popular Python parsers like <a\\nhref=\"http://lxml.de/\">lxml</a> and <a\\nhref=\"http://code.google.com/p/html5lib/\">html5lib</a>, allowing you\\nto try out different parsing strategies or trade speed for\\nflexibility.\\n\\n</ol>\\n\\n<p>Beautiful Soup parses anything you give it, and does the tree\\ntraversal stuff for you. You can tell it \"Find all the links\", or\\n\"Find all the links of class <tt>externalLink</tt>\", or \"Find all the\\nlinks whose urls match \"foo.com\", or \"Find the table heading that\\'s\\ngot bold text, then give me that text.\"\\n\\n<p>Valuable data that was once locked up in poorly-designed websites\\nis now within your reach. Projects that would have taken hours take\\nonly minutes with Beautiful Soup.\\n\\n<p>Interested? <a href=\"bs4/doc/\">Read more.</a>\\n\\n<a name=\"Download\"><h2>Download Beautiful Soup</h2></a>\\n\\n<p>The current release is <a href=\"bs4/download/\">Beautiful Soup\\n4.5.3</a> (January 2, 2017). You can install Beautiful Soup 4 with\\n<code>pip install beautifulsoup4</code>.\\n\\n<p>In Debian and Ubuntu, Beautiful Soup is available as the\\n<code>python-bs4</code> package (for Python 2) or the\\n<code>python3-bs4</code> package (for Python 3). In Fedora it\\'s\\navailable as the <code>python-beautifulsoup4</code> package.\\n\\n<p>Beautiful Soup is licensed under the MIT license, so you can also\\ndownload the tarball, drop the <code>bs4/</code> directory into almost\\nany Python application (or into your library path) and start using it\\nimmediately. (If you want to do this under Python 3, you will need to\\nmanually convert the code using <code>2to3</code>.)\\n\\n<p>Beautiful Soup 4 works on both Python 2 (2.7+) and Python 3.\\n\\n<h3>Beautiful Soup 3</h3>\\n\\n<p>Beautiful Soup 3 was the official release line of Beautiful Soup\\nfrom May 2006 to March 2012. It is considered stable, and only\\ncritical security bugs will be fixed. <a\\nhref=\"http://www.crummy.com/software/BeautifulSoup/bs3/documentation.html\">Here\\'s\\nthe Beautiful Soup 3 documentation.</a>\\n\\n<p>Beautiful Soup 3 works only under Python 2.x. It is licensed under\\nthe same license as Python itself.\\n\\n<p>The current release of Beautiful Soup 3 is <a\\nhref=\"download/3.x/BeautifulSoup-3.2.1.tar.gz\">3.2.1</a> (February 16,\\n2012). You can install Beautiful Soup 3 with <code>pip install\\nBeautifulSoup</code>. It\\'s also available as\\n<code>python-beautifulsoup</code> in Debian and Ubuntu, and as\\n<code>python-BeautifulSoup</code> in Fedora.\\n\\n<p>You can also download the tarball and use\\n<code>BeautifulSoup.py</code> in your project directly.\\n\\n\\n<a name=\"HallOfFame\"><h2>Hall of Fame</h2></a>\\n\\n<p>Over the years, Beautiful Soup has been used in hundreds of\\ndifferent projects. There\\'s no way I can list them all, but I want to\\nhighlight a few high-profile projects. Beautiful Soup isn\\'t what makes\\nthese projects interesting, but it did make their completion easier:\\n\\n<ul>\\n\\n<li><a\\n href=\"http://www.nytimes.com/2007/10/25/arts/design/25vide.html\">\"Movable\\n Type\"</a>, a work of digital art on display in the lobby of the New\\n York Times building, uses Beautiful Soup to scrape news feeds.\\n\\n<li>Reddit uses Beautiful Soup to <a\\nhref=\"https://github.com/reddit/reddit/blob/85f9cff3e2ab9bb8f19b96acd8da4ebacc079f04/r2/r2/lib/media.py\">parse\\na page that\\'s been linked to and find a representative image</a>.\\n\\n<li>Alexander Harrowell uses Beautiful Soup to <a\\n href=\"http://www.harrowell.org.uk/viktormap.html\">track the business\\n activities</a> of an arms merchant.\\n\\n<li>The developers of Python itself used Beautiful Soup to <a\\nhref=\"http://svn.python.org/view/tracker/importer/\">migrate the Python\\nbug tracker from Sourceforge to Roundup</a>.\\n\\n<li>The <a href=\"http://www2.ljworld.com/\">Lawrence Journal-World</a>\\nuses Beautiful Soup to <A\\nhref=\"http://www.b-list.org/weblog/2010/nov/02/news-done-broke/\">gather\\nstatewide election results</a>.\\n\\n<li>The <a href=\"http://esrl.noaa.gov/gsd/fab/\">NOAA\\'s Forecast\\nApplications Branch</a> uses Beautiful Soup in <a\\nhref=\"http://laps.noaa.gov/topograbber/\">TopoGrabber</a>, a script for\\ndownloading \"high resolution USGS datasets.\"\\n\\n</ul>\\n\\n<p>If you\\'ve used Beautiful Soup in a project you\\'d like me to know\\nabout, please do send email to me or <a\\nhref=\"http://groups.google.com/group/beautifulsoup/\">the discussion\\ngroup</a>.\\n\\n<h2>Development</h2>\\n\\n<p>Development happens at <a\\nhref=\"https://launchpad.net/beautifulsoup\">Launchpad</a>. You can <a\\nhref=\"https://code.launchpad.net/beautifulsoup/\">get the source\\ncode</a> or <a href=\"https://bugs.launchpad.net/beautifulsoup/\">file\\nbugs</a>.<hr><table><tr><td valign=\"top\">\\n<p>This document (<a href=\"/source/software/BeautifulSoup/index.bhtml\">source</a>) is part of Crummy, the webspace of <a href=\"/self/\">Leonard Richardson</a> (<a href=\"/self/contact.html\">contact information</a>). It was last modified on Monday, January 02 2017, 16:03:29 Nowhere Standard Time and last built on Thursday, February 23 2017, 12:00:02 Nowhere Standard Time.</p><p><table class=\"licenseText\"><tr><td><a href=\"http://creativecommons.org/licenses/by-sa/2.0/\"><img border=\"0\" src=\"/nb//resources/img/somerights20.jpg\"></a></td><td valign=\"top\">Crummy is &copy; 1996-2017 Leonard Richardson. Unless otherwise noted, all text licensed under a <a href=\"http://creativecommons.org/licenses/by-sa/2.0/\">Creative Commons License</a>.</td></tr></table></span><!--<rdf:RDF xmlns=\"http://web.resource.org/cc/\" xmlns:dc=\"http://purl.org/dc/elements/1.1/\" xmlns:rdf=\"http://www.w3.org/1999/02/22-rdf-syntax-ns#\"><Work rdf:about=\"http://www.crummy.com/\"><dc:title>Crummy: The Site</dc:title><dc:rights><Agent><dc:title>Crummy: the Site</dc:title></Agent></dc:rights><dc:format>text/html</dc:format><license rdf:resource=http://creativecommons.org/licenses/by-sa/2.0//></Work><License rdf:about=\"http://creativecommons.org/licenses/by-sa/2.0/\"></License></rdf:RDF>--></p></td><td valign=top><p><b>Document tree:</b>\\n<dl><dd><a href=\"http://www.crummy.com/\">http://www.crummy.com/</a><dl><dd><a href=\"http://www.crummy.com/software/\">software/</a><dl><dd><a href=\"http://www.crummy.com/software/BeautifulSoup/\">BeautifulSoup/</a></dl>\\n</dl>\\n</dl>\\n\\n\\nSite Search:\\n\\n<form method=\"get\" action=\"/search/\">\\n        <input type=\"text\" name=\"q\" maxlength=\"255\" value=\"\"></input>\\n        </form>\\n        </td>\\n\\n</tr>\\n\\n</table>\\n</body>\\n</html>\\n'\n"
     ]
    }
   ],
   "source": [
    "url = 'http://www.crummy.com/software/BeautifulSoup'\n",
    "source = urllib.request.urlopen(url).read()\n",
    "print(source)"
   ]
  },
  {
   "cell_type": "markdown",
   "metadata": {
    "slideshow": {
     "slide_type": "slide"
    }
   },
   "source": [
    "Quiz :\n",
    "======\n",
    "\n",
    "* Is the word 'Alice' mentioned on the beautiful soup homepage?\n",
    "* How often does the word 'Soup' occur on the site?\n",
    "    - hint: use `.count()`\n",
    "* At what index occurs the substring 'alien video games' ?\n",
    "    - hint: use `.find()`"
   ]
  },
  {
   "cell_type": "code",
   "execution_count": 30,
   "metadata": {
    "collapsed": false,
    "slideshow": {
     "slide_type": "slide"
    }
   },
   "outputs": [
    {
     "name": "stdout",
     "output_type": "stream",
     "text": [
      "False\n",
      "42\n",
      "1639\n"
     ]
    }
   ],
   "source": [
    "## is 'Alice' in source?\n",
    "print(b\"Alice\" in source)\n",
    "\n",
    "## count occurences of 'Soup'\n",
    "print(source.count(b'Soup'))\n",
    "## find index of 'alien video games'\n",
    "position = source.index(b'alien video games')\n",
    "print(position)"
   ]
  },
  {
   "cell_type": "markdown",
   "metadata": {
    "slideshow": {
     "slide_type": "slide"
    }
   },
   "source": [
    "Beautiful Soup\n",
    "==============\n",
    "\n",
    "* designed to make your life easier\n",
    "* many good functions for parsing html code"
   ]
  },
  {
   "cell_type": "markdown",
   "metadata": {
    "slideshow": {
     "slide_type": "slide"
    }
   },
   "source": [
    "Some examples\n",
    "=============\n"
   ]
  },
  {
   "cell_type": "code",
   "execution_count": 45,
   "metadata": {
    "collapsed": false
   },
   "outputs": [
    {
     "name": "stderr",
     "output_type": "stream",
     "text": [
      "/Users/theerit/anaconda/lib/python3.6/site-packages/bs4/__init__.py:181: UserWarning: No parser was explicitly specified, so I'm using the best available HTML parser for this system (\"lxml\"). This usually isn't a problem, but if you run this code on another system, or in a different virtual environment, it may use a different parser and behave differently.\n",
      "\n",
      "The code that caused this warning is on line 193 of the file /Users/theerit/anaconda/lib/python3.6/runpy.py. To get rid of this warning, change code that looks like this:\n",
      "\n",
      " BeautifulSoup([your markup])\n",
      "\n",
      "to this:\n",
      "\n",
      " BeautifulSoup([your markup], \"lxml\")\n",
      "\n",
      "  markup_type=markup_type))\n"
     ]
    },
    {
     "data": {
      "text/plain": [
       "[<a href=\"bs4/download/\"><h1>Beautiful Soup</h1></a>,\n",
       " <a href=\"#Download\">Download</a>,\n",
       " <a href=\"bs4/doc/\">Documentation</a>,\n",
       " <a href=\"#HallOfFame\">Hall of Fame</a>,\n",
       " <a href=\"https://code.launchpad.net/beautifulsoup\">Source</a>,\n",
       " <a href=\"https://groups.google.com/forum/?fromgroups#!forum/beautifulsoup\">Discussion group</a>,\n",
       " <a href=\"http://www.candlemarkandgleam.com/shop/constellation-games/\"><i>Constellation\n",
       " Games</i>, my sci-fi novel about alien video games</a>,\n",
       " <a href=\"http://constellation.crummy.com/Constellation%20Games%20excerpt.html\">read\n",
       " the first two chapters for free</a>,\n",
       " <a href=\"https://groups.google.com/forum/?fromgroups#!forum/beautifulsoup\">the discussion\n",
       " group</a>,\n",
       " <a href=\"https://bugs.launchpad.net/beautifulsoup/\">file it</a>,\n",
       " <a href=\"http://lxml.de/\">lxml</a>,\n",
       " <a href=\"http://code.google.com/p/html5lib/\">html5lib</a>,\n",
       " <a href=\"bs4/doc/\">Read more.</a>,\n",
       " <a name=\"Download\"><h2>Download Beautiful Soup</h2></a>,\n",
       " <a href=\"bs4/download/\">Beautiful Soup\n",
       " 4.5.3</a>,\n",
       " <a href=\"http://www.crummy.com/software/BeautifulSoup/bs3/documentation.html\">Here's\n",
       " the Beautiful Soup 3 documentation.</a>,\n",
       " <a href=\"download/3.x/BeautifulSoup-3.2.1.tar.gz\">3.2.1</a>,\n",
       " <a name=\"HallOfFame\"><h2>Hall of Fame</h2></a>,\n",
       " <a href=\"http://www.nytimes.com/2007/10/25/arts/design/25vide.html\">\"Movable\n",
       "  Type\"</a>,\n",
       " <a href=\"https://github.com/reddit/reddit/blob/85f9cff3e2ab9bb8f19b96acd8da4ebacc079f04/r2/r2/lib/media.py\">parse\n",
       " a page that's been linked to and find a representative image</a>,\n",
       " <a href=\"http://www.harrowell.org.uk/viktormap.html\">track the business\n",
       "  activities</a>,\n",
       " <a href=\"http://svn.python.org/view/tracker/importer/\">migrate the Python\n",
       " bug tracker from Sourceforge to Roundup</a>,\n",
       " <a href=\"http://www2.ljworld.com/\">Lawrence Journal-World</a>,\n",
       " <a href=\"http://www.b-list.org/weblog/2010/nov/02/news-done-broke/\">gather\n",
       " statewide election results</a>,\n",
       " <a href=\"http://esrl.noaa.gov/gsd/fab/\">NOAA's Forecast\n",
       " Applications Branch</a>,\n",
       " <a href=\"http://laps.noaa.gov/topograbber/\">TopoGrabber</a>,\n",
       " <a href=\"http://groups.google.com/group/beautifulsoup/\">the discussion\n",
       " group</a>,\n",
       " <a href=\"https://launchpad.net/beautifulsoup\">Launchpad</a>,\n",
       " <a href=\"https://code.launchpad.net/beautifulsoup/\">get the source\n",
       " code</a>,\n",
       " <a href=\"https://bugs.launchpad.net/beautifulsoup/\">file\n",
       " bugs</a>,\n",
       " <a href=\"/source/software/BeautifulSoup/index.bhtml\">source</a>,\n",
       " <a href=\"/self/\">Leonard Richardson</a>,\n",
       " <a href=\"/self/contact.html\">contact information</a>,\n",
       " <a href=\"http://creativecommons.org/licenses/by-sa/2.0/\"><img border=\"0\" src=\"/nb//resources/img/somerights20.jpg\"/></a>,\n",
       " <a href=\"http://creativecommons.org/licenses/by-sa/2.0/\">Creative Commons License</a>,\n",
       " <a href=\"http://www.crummy.com/\">http://www.crummy.com/</a>,\n",
       " <a href=\"http://www.crummy.com/software/\">software/</a>,\n",
       " <a href=\"http://www.crummy.com/software/BeautifulSoup/\">BeautifulSoup/</a>]"
      ]
     },
     "execution_count": 45,
     "metadata": {},
     "output_type": "execute_result"
    }
   ],
   "source": [
    "## get bs4 object\n",
    "soup = bs4.BeautifulSoup(source)\n",
    " \n",
    "## compare the two print statements\n",
    "#print (soup)\n",
    "#print (soup.prettify())\n",
    "\n",
    "## show how to find all a tags\n",
    "soup.findAll('a')\n",
    "\n",
    "## ***Why does this not work? ***\n",
    "#soup.findAll('Soup')"
   ]
  },
  {
   "cell_type": "markdown",
   "metadata": {
    "slideshow": {
     "slide_type": "slide"
    }
   },
   "source": [
    "Some examples\n",
    "============="
   ]
  },
  {
   "cell_type": "code",
   "execution_count": 26,
   "metadata": {
    "collapsed": false
   },
   "outputs": [
    {
     "name": "stdout",
     "output_type": "stream",
     "text": [
      "On branch master\n",
      "Your branch is up-to-date with 'origin/master'.\n",
      "Changes not staged for commit:\n",
      "\tmodified:   ../Lectures/02-DataScraping.ipynb\n",
      "\tmodified:   ../Lectures/02-DataScrapingQuizzes.ipynb\n",
      "\n",
      "no changes added to commit\n"
     ]
    },
    {
     "name": "stderr",
     "output_type": "stream",
     "text": [
      "Everything up-to-date\n"
     ]
    }
   ],
   "source": [
    "%%bash\n",
    "git add 02-DataScrapingQuizzes.ipynb\n",
    "git commit -m 'Remove all git code and change into after lecture mode'\n",
    "git push"
   ]
  },
  {
   "cell_type": "markdown",
   "metadata": {},
   "source": [
    "## href is attribute that contain link"
   ]
  },
  {
   "cell_type": "code",
   "execution_count": 44,
   "metadata": {
    "collapsed": false
   },
   "outputs": [
    {
     "data": {
      "text/plain": [
       "['bs4/download/',\n",
       " '#Download',\n",
       " 'bs4/doc/',\n",
       " '#HallOfFame',\n",
       " 'https://code.launchpad.net/beautifulsoup',\n",
       " 'https://groups.google.com/forum/?fromgroups#!forum/beautifulsoup',\n",
       " 'http://www.candlemarkandgleam.com/shop/constellation-games/',\n",
       " 'http://constellation.crummy.com/Constellation%20Games%20excerpt.html',\n",
       " 'https://groups.google.com/forum/?fromgroups#!forum/beautifulsoup',\n",
       " 'https://bugs.launchpad.net/beautifulsoup/',\n",
       " 'http://lxml.de/',\n",
       " 'http://code.google.com/p/html5lib/',\n",
       " 'bs4/doc/',\n",
       " None,\n",
       " 'bs4/download/',\n",
       " 'http://www.crummy.com/software/BeautifulSoup/bs3/documentation.html',\n",
       " 'download/3.x/BeautifulSoup-3.2.1.tar.gz',\n",
       " None,\n",
       " 'http://www.nytimes.com/2007/10/25/arts/design/25vide.html',\n",
       " 'https://github.com/reddit/reddit/blob/85f9cff3e2ab9bb8f19b96acd8da4ebacc079f04/r2/r2/lib/media.py',\n",
       " 'http://www.harrowell.org.uk/viktormap.html',\n",
       " 'http://svn.python.org/view/tracker/importer/',\n",
       " 'http://www2.ljworld.com/',\n",
       " 'http://www.b-list.org/weblog/2010/nov/02/news-done-broke/',\n",
       " 'http://esrl.noaa.gov/gsd/fab/',\n",
       " 'http://laps.noaa.gov/topograbber/',\n",
       " 'http://groups.google.com/group/beautifulsoup/',\n",
       " 'https://launchpad.net/beautifulsoup',\n",
       " 'https://code.launchpad.net/beautifulsoup/',\n",
       " 'https://bugs.launchpad.net/beautifulsoup/',\n",
       " '/source/software/BeautifulSoup/index.bhtml',\n",
       " '/self/',\n",
       " '/self/contact.html',\n",
       " 'http://creativecommons.org/licenses/by-sa/2.0/',\n",
       " 'http://creativecommons.org/licenses/by-sa/2.0/',\n",
       " 'http://www.crummy.com/',\n",
       " 'http://www.crummy.com/software/',\n",
       " 'http://www.crummy.com/software/BeautifulSoup/']"
      ]
     },
     "execution_count": 44,
     "metadata": {},
     "output_type": "execute_result"
    }
   ],
   "source": [
    "## get attribute value from an element:\n",
    "## find tag: this only returns the first occurrence, not all tags in the string\n",
    "first_tag = soup.find('a')\n",
    "\n",
    "\n",
    "## get attribute `href`\n",
    "first_tag.get('href')\n",
    "\n",
    "## get all links in the page\n",
    "link_list = [l.get('href') for l in soup.findAll('a')]\n",
    "link_list"
   ]
  },
  {
   "cell_type": "code",
   "execution_count": 46,
   "metadata": {
    "collapsed": false,
    "slideshow": {
     "slide_type": "slide"
    }
   },
   "outputs": [],
   "source": [
    "## filter all external links\n",
    "# create an empty list to collect the valid links\n",
    "external_links = []\n",
    "\n",
    "# write a loop to filter the links\n",
    "# if it starts with 'http' we are happy\n",
    "for l in link_list:\n",
    "    if l is not None and l[:4] == 'http':\n",
    "        external_links.append(l)\n",
    "\n",
    "# this throws an error! It says something about 'NoneType'"
   ]
  },
  {
   "cell_type": "code",
   "execution_count": 49,
   "metadata": {
    "collapsed": false,
    "slideshow": {
     "slide_type": "slide"
    }
   },
   "outputs": [
    {
     "name": "stdout",
     "output_type": "stream",
     "text": [
      "2\n"
     ]
    }
   ],
   "source": [
    "# lets investigate. Have a close look at the link_list:\n",
    "link_list\n",
    "\n",
    "# Seems that there are None elements!\n",
    "# Let's verify\n",
    "print (sum([l is None for l in link_list]))\n",
    "\n",
    "# So there are two elements in the list that are None!"
   ]
  },
  {
   "cell_type": "code",
   "execution_count": 50,
   "metadata": {
    "collapsed": false,
    "slideshow": {
     "slide_type": "slide"
    }
   },
   "outputs": [
    {
     "data": {
      "text/plain": [
       "['https://code.launchpad.net/beautifulsoup',\n",
       " 'https://groups.google.com/forum/?fromgroups#!forum/beautifulsoup',\n",
       " 'http://www.candlemarkandgleam.com/shop/constellation-games/',\n",
       " 'http://constellation.crummy.com/Constellation%20Games%20excerpt.html',\n",
       " 'https://groups.google.com/forum/?fromgroups#!forum/beautifulsoup',\n",
       " 'https://bugs.launchpad.net/beautifulsoup/',\n",
       " 'http://lxml.de/',\n",
       " 'http://code.google.com/p/html5lib/',\n",
       " 'http://www.crummy.com/software/BeautifulSoup/bs3/documentation.html',\n",
       " 'http://www.nytimes.com/2007/10/25/arts/design/25vide.html',\n",
       " 'https://github.com/reddit/reddit/blob/85f9cff3e2ab9bb8f19b96acd8da4ebacc079f04/r2/r2/lib/media.py',\n",
       " 'http://www.harrowell.org.uk/viktormap.html',\n",
       " 'http://svn.python.org/view/tracker/importer/',\n",
       " 'http://www2.ljworld.com/',\n",
       " 'http://www.b-list.org/weblog/2010/nov/02/news-done-broke/',\n",
       " 'http://esrl.noaa.gov/gsd/fab/',\n",
       " 'http://laps.noaa.gov/topograbber/',\n",
       " 'http://groups.google.com/group/beautifulsoup/',\n",
       " 'https://launchpad.net/beautifulsoup',\n",
       " 'https://code.launchpad.net/beautifulsoup/',\n",
       " 'https://bugs.launchpad.net/beautifulsoup/',\n",
       " 'http://creativecommons.org/licenses/by-sa/2.0/',\n",
       " 'http://creativecommons.org/licenses/by-sa/2.0/',\n",
       " 'http://www.crummy.com/',\n",
       " 'http://www.crummy.com/software/',\n",
       " 'http://www.crummy.com/software/BeautifulSoup/']"
      ]
     },
     "execution_count": 50,
     "metadata": {},
     "output_type": "execute_result"
    }
   ],
   "source": [
    "# Let's filter those objects out in the for loop\n",
    "external_links = []\n",
    "\n",
    "# write a loop to filter the links\n",
    "# if it is not None and starts with 'http' we are happy\n",
    "for l in link_list:\n",
    "    if l is not None and l[:4] == 'http':\n",
    "        external_links.append(l)\n",
    "        \n",
    "external_links"
   ]
  },
  {
   "cell_type": "markdown",
   "metadata": {
    "slideshow": {
     "slide_type": "skip"
    }
   },
   "source": [
    "Note: The above `if` condition works because of lazy evaluation in Python. The `and` statement becomes `False` if the first part is `False`, so there is no need to ever evaluate the second part. Thus a `None` entry in the list gets never asked about its first four characters. "
   ]
  },
  {
   "cell_type": "code",
   "execution_count": 57,
   "metadata": {
    "collapsed": false,
    "slideshow": {
     "slide_type": "slide"
    }
   },
   "outputs": [
    {
     "data": {
      "text/plain": [
       "['https://code.launchpad.net/beautifulsoup',\n",
       " 'https://groups.google.com/forum/?fromgroups#!forum/beautifulsoup',\n",
       " 'http://www.candlemarkandgleam.com/shop/constellation-games/',\n",
       " 'http://constellation.crummy.com/Constellation%20Games%20excerpt.html',\n",
       " 'https://groups.google.com/forum/?fromgroups#!forum/beautifulsoup',\n",
       " 'https://bugs.launchpad.net/beautifulsoup/',\n",
       " 'http://lxml.de/',\n",
       " 'http://code.google.com/p/html5lib/',\n",
       " 'http://www.crummy.com/software/BeautifulSoup/bs3/documentation.html',\n",
       " 'http://www.nytimes.com/2007/10/25/arts/design/25vide.html',\n",
       " 'https://github.com/reddit/reddit/blob/85f9cff3e2ab9bb8f19b96acd8da4ebacc079f04/r2/r2/lib/media.py',\n",
       " 'http://www.harrowell.org.uk/viktormap.html',\n",
       " 'http://svn.python.org/view/tracker/importer/',\n",
       " 'http://www2.ljworld.com/',\n",
       " 'http://www.b-list.org/weblog/2010/nov/02/news-done-broke/',\n",
       " 'http://esrl.noaa.gov/gsd/fab/',\n",
       " 'http://laps.noaa.gov/topograbber/',\n",
       " 'http://groups.google.com/group/beautifulsoup/',\n",
       " 'https://launchpad.net/beautifulsoup',\n",
       " 'https://code.launchpad.net/beautifulsoup/',\n",
       " 'https://bugs.launchpad.net/beautifulsoup/',\n",
       " 'http://creativecommons.org/licenses/by-sa/2.0/',\n",
       " 'http://creativecommons.org/licenses/by-sa/2.0/',\n",
       " 'http://www.crummy.com/',\n",
       " 'http://www.crummy.com/software/',\n",
       " 'http://www.crummy.com/software/BeautifulSoup/']"
      ]
     },
     "execution_count": 57,
     "metadata": {},
     "output_type": "execute_result"
    }
   ],
   "source": [
    "# and we can put this in a list comprehension as well, it almost reads like \n",
    "# a sentence.\n",
    "\n",
    "[l for l in link_list if l is not None and l.startswith('http')]\n",
    "\n",
    "#Give same result as above"
   ]
  },
  {
   "cell_type": "markdown",
   "metadata": {
    "slideshow": {
     "slide_type": "slide"
    }
   },
   "source": [
    "Parsing the Tree\n",
    "================\n",
    "\n"
   ]
  },
  {
   "cell_type": "code",
   "execution_count": 58,
   "metadata": {
    "collapsed": false
   },
   "outputs": [
    {
     "name": "stderr",
     "output_type": "stream",
     "text": [
      "/Users/theerit/anaconda/lib/python3.6/site-packages/bs4/__init__.py:181: UserWarning: No parser was explicitly specified, so I'm using the best available HTML parser for this system (\"lxml\"). This usually isn't a problem, but if you run this code on another system, or in a different virtual environment, it may use a different parser and behave differently.\n",
      "\n",
      "The code that caused this warning is on line 193 of the file /Users/theerit/anaconda/lib/python3.6/runpy.py. To get rid of this warning, change code that looks like this:\n",
      "\n",
      " BeautifulSoup([your markup])\n",
      "\n",
      "to this:\n",
      "\n",
      " BeautifulSoup([your markup], \"lxml\")\n",
      "\n",
      "  markup_type=markup_type))\n"
     ]
    },
    {
     "data": {
      "text/plain": [
       "<body><h3> Test </h3><p>Hello world!</p></body>"
      ]
     },
     "execution_count": 58,
     "metadata": {},
     "output_type": "execute_result"
    }
   ],
   "source": [
    "# redifining `s` without any line breaks\n",
    "s = \"\"\"<!DOCTYPE html><html><head><title>This is a title</title></head><body><h3> Test </h3><p>Hello world!</p></body></html>\"\"\"\n",
    "## get bs4 object\n",
    "tree = bs4.BeautifulSoup(s)\n",
    "\n",
    "## get html root node\n",
    "root_node = tree.html\n",
    "\n",
    "## get head from root using contents\n",
    "head = root_node.contents[0]\n",
    "\n",
    "## get body from root\n",
    "body = root_node.contents[1]\n",
    "\n",
    "## could directly access body\n",
    "tree.body"
   ]
  },
  {
   "cell_type": "markdown",
   "metadata": {
    "slideshow": {
     "slide_type": "slide"
    }
   },
   "source": [
    "Quiz:\n",
    "=====\n",
    "\n",
    "* Find the `h3` tag by parsing the tree starting at `body`\n",
    "* Create a list of all __Hall of Fame__ entries listed on the Beautiful Soup webpage\n",
    "    - hint: it is the only unordered list in the page (tag `ul`)\n"
   ]
  },
  {
   "cell_type": "code",
   "execution_count": 62,
   "metadata": {
    "collapsed": false,
    "slideshow": {
     "slide_type": "slide"
    }
   },
   "outputs": [
    {
     "data": {
      "text/plain": [
       "<h3> Test </h3>"
      ]
     },
     "execution_count": 62,
     "metadata": {},
     "output_type": "execute_result"
    }
   ],
   "source": [
    "## get h3 tag from body\n",
    "tree.body.contents[0]"
   ]
  },
  {
   "cell_type": "code",
   "execution_count": 76,
   "metadata": {
    "collapsed": false,
    "slideshow": {
     "slide_type": "slide"
    }
   },
   "outputs": [
    {
     "data": {
      "text/plain": [
       "[[<a href=\"http://www.nytimes.com/2007/10/25/arts/design/25vide.html\">\"Movable\n",
       "   Type\"</a>,\n",
       "  ', a work of digital art on display in the lobby of the New\\n York Times building, uses Beautiful Soup to scrape news feeds.\\n\\n'],\n",
       " ['Reddit uses Beautiful Soup to ',\n",
       "  <a href=\"https://github.com/reddit/reddit/blob/85f9cff3e2ab9bb8f19b96acd8da4ebacc079f04/r2/r2/lib/media.py\">parse\n",
       "  a page that's been linked to and find a representative image</a>,\n",
       "  '.\\n\\n'],\n",
       " ['Alexander Harrowell uses Beautiful Soup to ',\n",
       "  <a href=\"http://www.harrowell.org.uk/viktormap.html\">track the business\n",
       "   activities</a>,\n",
       "  ' of an arms merchant.\\n\\n'],\n",
       " ['The developers of Python itself used Beautiful Soup to ',\n",
       "  <a href=\"http://svn.python.org/view/tracker/importer/\">migrate the Python\n",
       "  bug tracker from Sourceforge to Roundup</a>,\n",
       "  '.\\n\\n'],\n",
       " ['The ',\n",
       "  <a href=\"http://www2.ljworld.com/\">Lawrence Journal-World</a>,\n",
       "  '\\nuses Beautiful Soup to ',\n",
       "  <a href=\"http://www.b-list.org/weblog/2010/nov/02/news-done-broke/\">gather\n",
       "  statewide election results</a>,\n",
       "  '.\\n\\n'],\n",
       " ['The ', <a href=\"http://esrl.noaa.gov/gsd/fab/\">NOAA's Forecast\n",
       "  Applications Branch</a>, ' uses Beautiful Soup in ', <a href=\"http://laps.noaa.gov/topograbber/\">TopoGrabber</a>, ', a script for\\ndownloading \"high resolution USGS datasets.\"\\n\\n']]"
      ]
     },
     "execution_count": 76,
     "metadata": {},
     "output_type": "execute_result"
    }
   ],
   "source": [
    "## use ul as entry point\n",
    "entry_point = soup.find('ul')\n",
    "#entry_point\n",
    "\n",
    "## get hall of fame list from entry point\n",
    "## skip the first entry \n",
    "hall_of_fame = entry_point.contents[1:]\n",
    "hall_of_fame\n",
    "\n",
    "## reformat into a list containing strings\n",
    "## it is ok to have a list of lists\n",
    "tmp = []\n",
    "for li in hall_of_fame:\n",
    "    tmp.append(li.contents)\n",
    "tmp"
   ]
  },
  {
   "cell_type": "markdown",
   "metadata": {
    "slideshow": {
     "slide_type": "slide"
    }
   },
   "source": [
    "`tmp` now is actually a list of lists containing the hall of fame entries. \n",
    "Here is some advanced Python on how to print really just one entry per list item.\n",
    "\n",
    "The cool things about this are: \n",
    "* The use of `\"\"` to just access the `join` function of strings.\n",
    "* The `join` function itself\n",
    "* that you can actually have two nested for loops in a list comprehension"
   ]
  },
  {
   "cell_type": "code",
   "execution_count": 91,
   "metadata": {
    "collapsed": true,
    "slideshow": {
     "slide_type": "-"
    }
   },
   "outputs": [
    {
     "name": "stdout",
     "output_type": "stream",
     "text": [
      "['<a href=\"http://www.nytimes.com/2007/10/25/arts/design/25vide.html\">\"Movable\\n Type\"</a>, a work of digital art on display in the lobby of the New\\n York Times building, uses Beautiful Soup to scrape news feeds.\\n\\n', 'Reddit uses Beautiful Soup to <a href=\"https://github.com/reddit/reddit/blob/85f9cff3e2ab9bb8f19b96acd8da4ebacc079f04/r2/r2/lib/media.py\">parse\\na page that\\'s been linked to and find a representative image</a>.\\n\\n', 'Alexander Harrowell uses Beautiful Soup to <a href=\"http://www.harrowell.org.uk/viktormap.html\">track the business\\n activities</a> of an arms merchant.\\n\\n', 'The developers of Python itself used Beautiful Soup to <a href=\"http://svn.python.org/view/tracker/importer/\">migrate the Python\\nbug tracker from Sourceforge to Roundup</a>.\\n\\n', 'The <a href=\"http://www2.ljworld.com/\">Lawrence Journal-World</a>\\nuses Beautiful Soup to <a href=\"http://www.b-list.org/weblog/2010/nov/02/news-done-broke/\">gather\\nstatewide election results</a>.\\n\\n', 'The <a href=\"http://esrl.noaa.gov/gsd/fab/\">NOAA\\'s Forecast\\nApplications Branch</a> uses Beautiful Soup in <a href=\"http://laps.noaa.gov/topograbber/\">TopoGrabber</a>, a script for\\ndownloading \"high resolution USGS datasets.\"\\n\\n']\n",
      "<a href=\"http://www.nytimes.com/2007/10/25/arts/design/25vide.html\">\"Movable\n",
      " Type\"</a>, a work of digital art on display in the lobby of the New\n",
      " York Times building, uses Beautiful Soup to scrape news feeds.\n",
      "\n",
      "\n",
      "Reddit uses Beautiful Soup to <a href=\"https://github.com/reddit/reddit/blob/85f9cff3e2ab9bb8f19b96acd8da4ebacc079f04/r2/r2/lib/media.py\">parse\n",
      "a page that's been linked to and find a representative image</a>.\n",
      "\n",
      "\n",
      "Alexander Harrowell uses Beautiful Soup to <a href=\"http://www.harrowell.org.uk/viktormap.html\">track the business\n",
      " activities</a> of an arms merchant.\n",
      "\n",
      "\n",
      "The developers of Python itself used Beautiful Soup to <a href=\"http://svn.python.org/view/tracker/importer/\">migrate the Python\n",
      "bug tracker from Sourceforge to Roundup</a>.\n",
      "\n",
      "\n",
      "The <a href=\"http://www2.ljworld.com/\">Lawrence Journal-World</a>\n",
      "uses Beautiful Soup to <a href=\"http://www.b-list.org/weblog/2010/nov/02/news-done-broke/\">gather\n",
      "statewide election results</a>.\n",
      "\n",
      "\n",
      "The <a href=\"http://esrl.noaa.gov/gsd/fab/\">NOAA's Forecast\n",
      "Applications Branch</a> uses Beautiful Soup in <a href=\"http://laps.noaa.gov/topograbber/\">TopoGrabber</a>, a script for\n",
      "downloading \"high resolution USGS datasets.\"\n",
      "\n",
      "\n"
     ]
    }
   ],
   "source": [
    "test =  [\"\".join(str(a) for a in sublist) for sublist in tmp]\n",
    "print(test)\n",
    "print ('\\n'.join(test))\n",
    "print()\n",
    "#Dummy nothing important"
   ]
  },
  {
   "cell_type": "markdown",
   "metadata": {
    "slideshow": {
     "slide_type": "slide"
    }
   },
   "source": [
    "Advanced Example\n",
    "===============\n",
    "\n",
    "Idea by [Jesse Steinweg-Woods](https://jessesw.com/Data-Science-Skills/)\n",
    "--------------------------------------------------------------------------------"
   ]
  },
  {
   "cell_type": "markdown",
   "metadata": {
    "slideshow": {
     "slide_type": "slide"
    }
   },
   "source": [
    "Scraping data science skills\n",
    "=============================\n",
    "\n",
    "- What skills are in demand for data scientists?\n",
    "- Should we have a lecture on Spark or only on MapReduce?\n",
    "\n",
    "We want to scrape the information from job advertisements for data scientists from indeed.com\n",
    "Let's scrape and find out!"
   ]
  },
  {
   "cell_type": "code",
   "execution_count": 107,
   "metadata": {
    "collapsed": true,
    "slideshow": {
     "slide_type": "slide"
    }
   },
   "outputs": [
    {
     "data": {
      "text/plain": [
       "<!DOCTYPE html>\n",
       "<html lang=\"en\">\n",
       "<head>\n",
       "<meta content=\"text/html;charset=utf-8\" http-equiv=\"content-type\"/>\n",
       "<!-- pll --><script src=\"/s/03a831f/en_US.js\" type=\"text/javascript\"></script>\n",
       "<link href=\"/s/750d4a3/jobsearch_all.css\" rel=\"stylesheet\" type=\"text/css\"/>\n",
       "<link href=\"http://rss.indeed.com/rss?q=data+scientist\" rel=\"alternate\" title=\"Data Scientist Jobs, Employment\" type=\"application/rss+xml\"/>\n",
       "<link href=\"/m/jobs?q=data+scientist\" media=\"handheld\" rel=\"alternate\"/>\n",
       "<script type=\"text/javascript\">\n",
       "    \n",
       "    window['closureReadyCallbacks'] = [];\n",
       "\n",
       "    function call_when_jsall_loaded(cb) {\n",
       "        if (window['closureReady']) {\n",
       "            cb();\n",
       "        } else {\n",
       "            window['closureReadyCallbacks'].push(cb);\n",
       "        }\n",
       "    }\n",
       "</script>\n",
       "<script src=\"/s/2025759/jobsearch-all-compiled.js\" type=\"text/javascript\"></script>\n",
       "<script type=\"text/javascript\">\n",
       "var pingUrlsForGA = [];\n",
       "\n",
       "var searchUID = '1b9lhuao0bs8rcmh';\n",
       "var tk = '1b9lhuao0bs8rcmh';\n",
       "\n",
       "var loggedIn = false;\n",
       "var myindeed = true;\n",
       "var userEmail = '';\n",
       "var tellFriendEmail = '';\n",
       "var globalLoginURL = 'http:\\/\\/www.indeed.com\\/account\\/login?dest=%2Fq-data-scientist-jobs.html';\n",
       "var globalRegisterURL = 'http:\\/\\/www.indeed.com\\/account\\/register?dest=%2Fq-data-scientist-jobs.html';\n",
       "var searchKey = 'bebb41335ed80f2a';\n",
       "var searchState = 'q=data+scientist&amp;';\n",
       "var searchQS = 'q=data+scientist';\n",
       "var eventType = 'jobsearch';\n",
       "var locale = 'en_US';\n",
       "function clk(id) { var a = document.getElementById(id); var hr = a.href; var si = a.href.indexOf('&jsa='); if (si > 0) return; var jsh = hr + '&tk=1b9lhuao0bs8rcmh&jsa=9152'; a.href = jsh; }\n",
       "function sjomd(id) { var a = document.getElementById(id); var hr = a.href; var ocs = hr.indexOf('&oc=1'); if (ocs < 0) return; var oce = ocs + 5; a.href = hr.substring(0, ocs) + hr.substring(oce); }\n",
       "function sjoc(id, sal) { var a = document.getElementById(id); a.href = a.href + '&oc=1&sal='+sal; }\n",
       "function ptk(st,p) {document.cookie = 'PTK=\"tk=1b9lhuao0bs8rcmh&type=jobsearch&subtype='+st+(p?'&'+p:'')+'\"; path=/';}\n",
       "function rbptk(st, c, p) { ptk(st, 'cat='+c+(p?'&p='+p:''));}\n",
       "</script>\n",
       "<script type=\"text/javascript\">\n",
       "function loadJSAsync( ) {\n",
       "for ( var i = 0; i < arguments.length; i++ ) {\n",
       "var url = arguments[i];\n",
       "(function() {\n",
       "var s = document.createElement(\"script\"), el = document.getElementsByTagName(\"script\")[0];\n",
       "s.async = true;\n",
       "s.src = url;\n",
       "el.parentNode.insertBefore(s, el);\n",
       "})();\n",
       "}\n",
       "}\n",
       "</script>\n",
       "<meta content=\"23,095  Data Scientist Jobs available on Indeed.com.  one search.  all jobs.\" name=\"description\"/>\n",
       "<meta content=\"Data Scientist Jobs, Employment,  careers,  employment,  job listings,  job search,  search engine, work in \" name=\"keywords\"/>\n",
       "<meta content=\"origin\" name=\"referrer\"/>\n",
       "<link href=\"/q-Data-Scientist-jobs.html\" rel=\"canonical\"/>\n",
       "<link href=\"/jobs?q=data+scientist&amp;start=10\" rel=\"next\"/><script type=\"text/javascript\">\n",
       "var indeedCsrfToken = 'oxqqDDHHQNFCuj9NQzJUZuZAYF4XPZ10';\n",
       "var hashedCsrfToken = '72eb40a29d57120bfe71c830c371fec7';\n",
       "</script>\n",
       "<style type=\"text/css\">\n",
       ".jasxcustomfonttst-useCustomHostedFontFullPage *{font-family:\"Open Sans\", sans-serif !important}.jasxcustomfonttst-useLato *{font-family:\"Lato\", sans-serif !important}.jasxcustomfonttst-useFira *{font-family:\"Fira Sans\", sans-serif !important}.jasxcustomfonttst-useGibson *{font-family:\"Gibson\", sans-serif !important}.jasxcustomfonttst-useAvenir *{font-family:\"Avenir Next\", sans-serif !important}.comment_bubble a,.comment_bubble a:link,.comment_bubble a:visited{color:#77c}.footer a,.footer a:link,.footer a:visited{color:#77c}.footer .sl:visited{color:#77c}.jsf .sl{color:#77c}.sl,.sl:link,.sl:visited{color:#77c}#cookie-alert .learn-more,#cookie-alert .learn-more :visited{color:#77c}#jobsearch .sl{color:#77c}#secondary_nav a,#secondary_nav a:link,#secondary_nav a:visited{color:#77c}.arrowStub{border-top-color:#666}.carouselInlineAd .cmp-note{color:#6F6F6F}.cmp_header{color:#666}.cmp_meta{color:#666}.comment_bubble{color:#666}.date,.visits{color:#808080}.dd-disabled{color:#666}.dd-disabled .dd-button-arrow{color:#666}.hp_welcome_message{color:#6F6F6F}.inwrap input{border-bottom-color:#aaa;border-\\@LINE_END\\@-color:#aaa}.ipadPromoCopy{color:#666}.itaText{color:#6F6F6F}.jsf .label{color:#aaa}.location{color:#666}.nps-popover-x-span{color:#666}.popover-x-span{color:#666}.rjl{color:#666}.rsc{color:#aaa}.rsh{color:#6F6F6F}.svh{color:#6F6F6F}.sjh{color:#666}.sup_grey{color:#aaa}#fromageMsg{color:#666}#jobsearch .label,#jobsearch .label label{color:#aaa}#not-likely-div{color:#808080}#original_radius_result{color:#666}#question-intro-div{color:#808080}#userOptionsLabel.active b{color:#666}#userOptionsLabel.active .arrowStub{border-bottom-color:#666}#very-likely-div{color:#808080}.jasxcolorcontrasttst-blueOnly .comment_bubble a,.jasxcolorcontrasttst-blueOnly .comment_bubble a:link,.jasxcolorcontrasttst-blueOnly .comment_bubble a:visited{color:#6D6DC3}.jasxcolorcontrasttst-blueOnly .footer a,.jasxcolorcontrasttst-blueOnly .footer a:link,.jasxcolorcontrasttst-blueOnly .footer a:visited{color:#6D6DC3}.jasxcolorcontrasttst-blueOnly .footer .sl:visited{color:#6D6DC3}.jasxcolorcontrasttst-blueOnly .jsf .sl{color:#6D6DC3}.jasxcolorcontrasttst-blueOnly .sl,.jasxcolorcontrasttst-blueOnly .sl:link,.jasxcolorcontrasttst-blueOnly .sl:visited{color:#6D6DC3}.jasxcolorcontrasttst-blueOnly #cookie-alert .learn-more,.jasxcolorcontrasttst-blueOnly #cookie-alert .learn-more :visited{color:#6D6DC3}.jasxcolorcontrasttst-blueOnly #jobsearch .sl{color:#6D6DC3}.jasxcolorcontrasttst-blueOnly #secondary_nav a,.jasxcolorcontrasttst-blueOnly #secondary_nav a:link,.jasxcolorcontrasttst-blueOnly #secondary_nav a:visited{color:#6D6DC3}.jasxcolorcontrasttst-blueOnly .arrowStub{border-top-color:#666}.jasxcolorcontrasttst-blueOnly .carouselInlineAd .cmp-note{color:#6F6F6F}.jasxcolorcontrasttst-blueOnly .cmp_header{color:#666}.jasxcolorcontrasttst-blueOnly .cmp_meta{color:#666}.jasxcolorcontrasttst-blueOnly .comment_bubble{color:#666}.jasxcolorcontrasttst-blueOnly .date,.jasxcolorcontrasttst-blueOnly .visits{color:#808080}.jasxcolorcontrasttst-blueOnly .dd-disabled{color:#666}.jasxcolorcontrasttst-blueOnly .dd-disabled .dd-button-arrow{color:#666}.jasxcolorcontrasttst-blueOnly .hp_welcome_message{color:#6F6F6F}.jasxcolorcontrasttst-blueOnly .inwrap input{border-bottom-color:#aaa;border-\\@LINE_END\\@-color:#aaa}.jasxcolorcontrasttst-blueOnly .ipadPromoCopy{color:#666}.jasxcolorcontrasttst-blueOnly .itaText{color:#6F6F6F}.jasxcolorcontrasttst-blueOnly .jsf .label{color:#aaa}.jasxcolorcontrasttst-blueOnly .location{color:#666}.jasxcolorcontrasttst-blueOnly .nps-popover-x-span{color:#666}.jasxcolorcontrasttst-blueOnly .popover-x-span{color:#666}.jasxcolorcontrasttst-blueOnly .rjl{color:#666}.jasxcolorcontrasttst-blueOnly .rsc{color:#aaa}.jasxcolorcontrasttst-blueOnly .rsh{color:#6F6F6F}.jasxcolorcontrasttst-blueOnly .svh{color:#6F6F6F}.jasxcolorcontrasttst-blueOnly .sjh{color:#666}.jasxcolorcontrasttst-blueOnly .sup_grey{color:#aaa}.jasxcolorcontrasttst-blueOnly #fromageMsg{color:#666}.jasxcolorcontrasttst-blueOnly #jobsearch .label,.jasxcolorcontrasttst-blueOnly #jobsearch .label label{color:#aaa}.jasxcolorcontrasttst-blueOnly #not-likely-div{color:#808080}.jasxcolorcontrasttst-blueOnly #original_radius_result{color:#666}.jasxcolorcontrasttst-blueOnly #question-intro-div{color:#808080}.jasxcolorcontrasttst-blueOnly #userOptionsLabel.active b{color:#666}.jasxcolorcontrasttst-blueOnly #userOptionsLabel.active .arrowStub{border-bottom-color:#666}.jasxcolorcontrasttst-blueOnly #very-likely-div{color:#808080}.jasxcolorcontrasttst-greyOnly .comment_bubble a,.jasxcolorcontrasttst-greyOnly .comment_bubble a:link,.jasxcolorcontrasttst-greyOnly .comment_bubble a:visited{color:#77c}.jasxcolorcontrasttst-greyOnly .footer a,.jasxcolorcontrasttst-greyOnly .footer a:link,.jasxcolorcontrasttst-greyOnly .footer a:visited{color:#77c}.jasxcolorcontrasttst-greyOnly .footer .sl:visited{color:#77c}.jasxcolorcontrasttst-greyOnly .jsf .sl{color:#77c}.jasxcolorcontrasttst-greyOnly .sl,.jasxcolorcontrasttst-greyOnly .sl:link,.jasxcolorcontrasttst-greyOnly .sl:visited{color:#77c}.jasxcolorcontrasttst-greyOnly #cookie-alert .learn-more,.jasxcolorcontrasttst-greyOnly #cookie-alert .learn-more :visited{color:#77c}.jasxcolorcontrasttst-greyOnly #jobsearch .sl{color:#77c}.jasxcolorcontrasttst-greyOnly #secondary_nav a,.jasxcolorcontrasttst-greyOnly #secondary_nav a:link,.jasxcolorcontrasttst-greyOnly #secondary_nav a:visited{color:#77c}.jasxcolorcontrasttst-greyOnly .arrowStub{border-top-color:#666}.jasxcolorcontrasttst-greyOnly .carouselInlineAd .cmp-note{color:#666}.jasxcolorcontrasttst-greyOnly .cmp_header{color:#666}.jasxcolorcontrasttst-greyOnly .cmp_meta{color:#666}.jasxcolorcontrasttst-greyOnly .comment_bubble{color:#666}.jasxcolorcontrasttst-greyOnly .date,.jasxcolorcontrasttst-greyOnly .visits{color:#666}.jasxcolorcontrasttst-greyOnly .dd-disabled{color:#666}.jasxcolorcontrasttst-greyOnly .dd-disabled .dd-button-arrow{color:#666}.jasxcolorcontrasttst-greyOnly .hp_welcome_message{color:#666}.jasxcolorcontrasttst-greyOnly .inwrap input{border-bottom-color:#666;border-\\@LINE_END\\@-color:#666}.jasxcolorcontrasttst-greyOnly .ipadPromoCopy{color:#666}.jasxcolorcontrasttst-greyOnly .itaText{color:#666}.jasxcolorcontrasttst-greyOnly .jsf .label{color:#666}.jasxcolorcontrasttst-greyOnly .location{color:#666}.jasxcolorcontrasttst-greyOnly .nps-popover-x-span{color:#666}.jasxcolorcontrasttst-greyOnly .popover-x-span{color:#666}.jasxcolorcontrasttst-greyOnly .rjl{color:#666}.jasxcolorcontrasttst-greyOnly .rsc{color:#666}.jasxcolorcontrasttst-greyOnly .rsh{color:#666}.jasxcolorcontrasttst-greyOnly .svh{color:#666}.jasxcolorcontrasttst-greyOnly .sjh{color:#666}.jasxcolorcontrasttst-greyOnly .sup_grey{color:#666}.jasxcolorcontrasttst-greyOnly #fromageMsg{color:#666}.jasxcolorcontrasttst-greyOnly #jobsearch .label,.jasxcolorcontrasttst-greyOnly #jobsearch .label label{color:#666}.jasxcolorcontrasttst-greyOnly #not-likely-div{color:#666}.jasxcolorcontrasttst-greyOnly #original_radius_result{color:#666}.jasxcolorcontrasttst-greyOnly #question-intro-div{color:#666}.jasxcolorcontrasttst-greyOnly #userOptionsLabel.active b{color:#666}.jasxcolorcontrasttst-greyOnly #userOptionsLabel.active .arrowStub{border-bottom-color:#666}.jasxcolorcontrasttst-greyOnly #very-likely-div{color:#666}.jasxcolorcontrasttst-greyAndBlue .comment_bubble a,.jasxcolorcontrasttst-greyAndBlue .comment_bubble a:link,.jasxcolorcontrasttst-greyAndBlue .comment_bubble a:visited{color:#6D6DC3}.jasxcolorcontrasttst-greyAndBlue .footer a,.jasxcolorcontrasttst-greyAndBlue .footer a:link,.jasxcolorcontrasttst-greyAndBlue .footer a:visited{color:#6D6DC3}.jasxcolorcontrasttst-greyAndBlue .footer .sl:visited{color:#6D6DC3}.jasxcolorcontrasttst-greyAndBlue .jsf .sl{color:#6D6DC3}.jasxcolorcontrasttst-greyAndBlue .sl,.jasxcolorcontrasttst-greyAndBlue .sl:link,.jasxcolorcontrasttst-greyAndBlue .sl:visited{color:#6D6DC3}.jasxcolorcontrasttst-greyAndBlue #cookie-alert .learn-more,.jasxcolorcontrasttst-greyAndBlue #cookie-alert .learn-more :visited{color:#6D6DC3}.jasxcolorcontrasttst-greyAndBlue #jobsearch .sl{color:#6D6DC3}.jasxcolorcontrasttst-greyAndBlue #secondary_nav a,.jasxcolorcontrasttst-greyAndBlue #secondary_nav a:link,.jasxcolorcontrasttst-greyAndBlue #secondary_nav a:visited{color:#6D6DC3}.jasxcolorcontrasttst-greyAndBlue .arrowStub{border-top-color:#666}.jasxcolorcontrasttst-greyAndBlue .carouselInlineAd .cmp-note{color:#666}.jasxcolorcontrasttst-greyAndBlue .cmp_header{color:#666}.jasxcolorcontrasttst-greyAndBlue .cmp_meta{color:#666}.jasxcolorcontrasttst-greyAndBlue .comment_bubble{color:#666}.jasxcolorcontrasttst-greyAndBlue .date,.jasxcolorcontrasttst-greyAndBlue .visits{color:#666}.jasxcolorcontrasttst-greyAndBlue .dd-disabled{color:#666}.jasxcolorcontrasttst-greyAndBlue .dd-disabled .dd-button-arrow{color:#666}.jasxcolorcontrasttst-greyAndBlue .hp_welcome_message{color:#666}.jasxcolorcontrasttst-greyAndBlue .inwrap input{border-bottom-color:#666;border-\\@LINE_END\\@-color:#666}.jasxcolorcontrasttst-greyAndBlue .ipadPromoCopy{color:#666}.jasxcolorcontrasttst-greyAndBlue .itaText{color:#666}.jasxcolorcontrasttst-greyAndBlue .jsf .label{color:#666}.jasxcolorcontrasttst-greyAndBlue .location{color:#666}.jasxcolorcontrasttst-greyAndBlue .nps-popover-x-span{color:#666}.jasxcolorcontrasttst-greyAndBlue .popover-x-span{color:#666}.jasxcolorcontrasttst-greyAndBlue .rjl{color:#666}.jasxcolorcontrasttst-greyAndBlue .rsc{color:#666}.jasxcolorcontrasttst-greyAndBlue .rsh{color:#666}.jasxcolorcontrasttst-greyAndBlue .svh{color:#666}.jasxcolorcontrasttst-greyAndBlue .sjh{color:#666}.jasxcolorcontrasttst-greyAndBlue .sup_grey{color:#666}.jasxcolorcontrasttst-greyAndBlue #fromageMsg{color:#666}.jasxcolorcontrasttst-greyAndBlue #jobsearch .label,.jasxcolorcontrasttst-greyAndBlue #jobsearch .label label{color:#666}.jasxcolorcontrasttst-greyAndBlue #not-likely-div{color:#666}.jasxcolorcontrasttst-greyAndBlue #original_radius_result{color:#666}.jasxcolorcontrasttst-greyAndBlue #question-intro-div{color:#666}.jasxcolorcontrasttst-greyAndBlue #userOptionsLabel.active b{color:#666}.jasxcolorcontrasttst-greyAndBlue #userOptionsLabel.active .arrowStub{border-bottom-color:#666}.jasxcolorcontrasttst-greyAndBlue #very-likely-div{color:#666}\n",
       "</style>\n",
       "<style type=\"text/css\">\n",
       "#resultsCol { padding-top: 0; }\n",
       ".searchCount { margin-top: 6px; }\n",
       ".showing { padding-top: 9px; padding-bottom: 9px; }\n",
       "\n",
       ".brdr { height: 1px; overflow: hidden; background-color: #ccc; }\n",
       "\n",
       "#bjobalerts { margin-top: 0; }\n",
       "\n",
       "/* Tall window sizes */\n",
       "@media only screen and (min-height:780px){\n",
       ".showing { padding-bottom: 0; }\n",
       "}\n",
       "\n",
       "/* Wide window sizes */\n",
       "@media only screen and (min-width:1125px){\n",
       ".brdr  { margin-left: 12px; margin-right: 12px; }\n",
       "}\n",
       "\n",
       "a,a:link,.link,.btn,.btn:hover{text-decoration:none}a:hover,.link:hover{text-decoration:underline}.dya-container a{text-decoration:underline !important}</style>\n",
       "<script>\n",
       "function onLoadHandler() {\n",
       "\n",
       "document.js.reset();\n",
       "jobSeenInit('1b9lhuao0bs8rcmh');\n",
       "\n",
       "if ( document.radius_update ) { document.radius_update.reset(); }\n",
       "\n",
       "}\n",
       "\n",
       "initLogInitialUserInteraction('1b9lhuao0bs8rcmh', 'serp');\n",
       "\n",
       "window.onload = onLoadHandler;\n",
       "</script>\n",
       "<link href=\"android-app://com.indeed.android.jobsearch/http/www.indeed.com/m/jobs?q=data+scientist\" rel=\"alternate\"/>\n",
       "<title>Data Scientist Jobs, Employment\n",
       "|\n",
       "Indeed.com</title>\n",
       "<style>\n",
       "</style>\n",
       "<style type=\"text/css\">\n",
       ".btn,.sg-btn{display:inline-block;padding:9px 15px;border:1px solid #9a99ac;border-bottom-color:#a2a2a2;-webkit-border-radius:6px;-moz-border-radius:6px;-ms-border-radius:6px;-o-border-radius:6px;border-radius:6px;background-color:#D9D9E2;background-image:-moz-linear-gradient(top, #f8f8f9, #D9D9E2);background-image:-webkit-gradient(linear, 0 0, 0 100%, from(#f8f8f9), to(#D9D9E2));background-image:-webkit-linear-gradient(top, #f8f8f9, #D9D9E2);background-image:linear-gradient(to bottom, #f8f8f9, #D9D9E2);background-repeat:repeat-x;-webkit-box-shadow:0 1px 5px rgba(0,0,0,0.2);-moz-box-shadow:0 1px 5px rgba(0,0,0,0.2);-ms-box-shadow:0 1px 5px rgba(0,0,0,0.2);-o-box-shadow:0 1px 5px rgba(0,0,0,0.2);box-shadow:0 1px 5px rgba(0,0,0,0.2);color:#333;vertical-align:middle;text-align:center;text-decoration:none;text-shadow:0 1px #fff;font-weight:700;font-size:16px;font-family:\"Helvetica Neue\",Helvetica,Arial,\"Lucida Grande\",sans-serif;line-height:22px;filter:progid:DXImageTransform.Microsoft.gradient(startColorstr='#fff8f8f9', endColorstr='#ffe6e6e6', GradientType=0);cursor:pointer;-webkit-user-select:none;-moz-user-select:none;-ms-user-select:none;-o-user-select:none;user-select:none;-webkit-touch-callout:none;-webkit-highlight:none;-webkit-tap-highlight-color:transparent;text-overflow:ellipsis;white-space:nowrap;overflow:hidden}.btn.active,.btn.sg-active,.btn:active,.btn.disabled,.btn.sg-disabled,.btn[disabled],.sg-btn.active,.sg-btn.sg-active,.sg-btn:active,.sg-btn.disabled,.sg-btn.sg-disabled,.sg-btn[disabled]{outline:none;background-color:#f8f8f9;color:#333}.btn:focus,.sg-btn:focus{outline:0;box-shadow:0 0 1px 0 #1642bb;-webkit-transition:box-shadow 0.2s linear;-moz-transition:box-shadow 0.2s linear;transition:box-shadow 0.2s linear}.btn.active,.btn.sg-active,.btn:active,.sg-btn.active,.sg-btn.sg-active,.sg-btn:active{background-color:#f8f8f9;background-image:none;-webkit-box-shadow:inset 0 2px 4px rgba(0,0,0,0.15),0 1px 2px rgba(0,0,0,0.05);-moz-box-shadow:inset 0 2px 4px rgba(0,0,0,0.15),0 1px 2px rgba(0,0,0,0.05);box-shadow:inset 0 2px 4px rgba(0,0,0,0.15),0 1px 2px rgba(0,0,0,0.05)}.btn.disabled,.btn.sg-disabled,.btn[disabled],.sg-btn.disabled,.sg-btn.sg-disabled,.sg-btn[disabled]{background-color:#f8f8f9;background-image:none;-webkit-box-shadow:none;-moz-box-shadow:none;box-shadow:none;opacity:.65;filter:alpha(opacity=65);cursor:default}.btn-primary,.sg-btn-primary{border-color:#1642bb;background-color:#5585f2;background-image:-moz-linear-gradient(top, #6598ff, #2e5ad7);background-image:-webkit-gradient(linear, 0 0, 0 100%, from(#6598ff), to(#2e5ad7));background-image:-webkit-linear-gradient(top, #6598ff, #2e5ad7);background-image:linear-gradient(to bottom, #6598ff, #2e5ad7);background-repeat:repeat-x;color:#F8F8F9;text-shadow:0 -1px #0f2299;-ms-filter:progid:DXImageTransform.Microsoft.dropshadow(OffX=0, OffY=-1, Color=#e80f2299, Positive=true);filter:progid:DXImageTransform.Microsoft.dropshadow(OffX=0, OffY=-1, Color=#e80f2299, Positive=true);filter:progid:DXImageTransform.Microsoft.gradient(startColorstr='#ff6598fe', endColorstr='#ff3c69e0', GradientType=0);zoom:1}.btn-primary.active,.btn-primary.sg-active,.btn-primary:active,.btn-primary.disabled,.btn-primary.sg-disabled,.btn-primary[disabled],.sg-btn-primary.active,.sg-btn-primary.sg-active,.sg-btn-primary:active,.sg-btn-primary.disabled,.sg-btn-primary.sg-disabled,.sg-btn-primary[disabled]{background-color:#2e5ad7;color:#F8F8F9}.btn-primary:focus,.sg-btn-primary:focus{box-shadow:0 0 1px 0 #000}.btn-special,.sg-btn-special{border-color:#ba3200;background-color:#5585f2;background-image:-moz-linear-gradient(top, #f60, #f14200);background-image:-webkit-gradient(linear, 0 0, 0 100%, from(#f60), to(#f14200));background-image:-webkit-linear-gradient(top, #f60, #f14200);background-image:linear-gradient(to bottom, #f60, #f14200);background-repeat:repeat-x;color:#F8F8F9;text-shadow:0 -1px #000;-ms-filter:progid:DXImageTransform.Microsoft.dropshadow(OffX=0, OffY=-1, Color=#e80f2299, Positive=true);filter:progid:DXImageTransform.Microsoft.dropshadow(OffX=0, OffY=-1, Color=#e80f2299, Positive=true);filter:progid:DXImageTransform.Microsoft.gradient(startColorstr='#ff6598fe', endColorstr='#ff3c69e0', GradientType=0);zoom:1}.btn-special.active,.btn-special.sg-active,.btn-special:active,.btn-special.disabled,.btn-special.sg-disabled,.btn-special[disabled],.sg-btn-special.active,.sg-btn-special.sg-active,.sg-btn-special:active,.sg-btn-special.disabled,.sg-btn-special.sg-disabled,.sg-btn-special[disabled]{background-color:#f14200;color:#F8F8F9}.btn-special:focus,.sg-btn-special:focus{box-shadow:0 0 1px 0 #000}.btn-danger,.sg-btn-danger{border-color:#83121b;background-color:#5585f2;background-image:-moz-linear-gradient(top, #d1787f, #b01825);background-image:-webkit-gradient(linear, 0 0, 0 100%, from(#d1787f), to(#b01825));background-image:-webkit-linear-gradient(top, #d1787f, #b01825);background-image:linear-gradient(to bottom, #d1787f, #b01825);background-repeat:repeat-x;color:#F8F8F9;text-shadow:0 -1px #000;-ms-filter:progid:DXImageTransform.Microsoft.dropshadow(OffX=0, OffY=-1, Color=#e80f2299, Positive=true);filter:progid:DXImageTransform.Microsoft.dropshadow(OffX=0, OffY=-1, Color=#e80f2299, Positive=true);filter:progid:DXImageTransform.Microsoft.gradient(startColorstr='#ff6598fe', endColorstr='#ff3c69e0', GradientType=0);zoom:1}.btn-danger.active,.btn-danger.sg-active,.btn-danger:active,.btn-danger.disabled,.btn-danger.sg-disabled,.btn-danger[disabled],.sg-btn-danger.active,.sg-btn-danger.sg-active,.sg-btn-danger:active,.sg-btn-danger.disabled,.sg-btn-danger.sg-disabled,.sg-btn-danger[disabled]{background-color:#b01825;color:#F8F8F9}.btn-danger:focus,.sg-btn-danger:focus{box-shadow:0 0 1px 0 #000}input.btn,input.sg-btn{-webkit-appearance:none}button.btn::-moz-focus-inner,button.sg-btn::-moz-focus-inner{border:0}.btn-sm,.sg-btn-sm,.btn-xs,.sg-bt-xs{padding:6px 12px}.btn-xs,.sg-btn-xs{padding:3px 6px;line-height:15px}.btn-md,.sg-btn-md{padding:6px 6px}.btn-lg,.sg-btn-lg{padding:9px 18px;border-radius:6px;font-size:18px}.btn-block,.sg-btn-block{display:block;margin:9px auto;-webkit-box-sizing:border-box !important;-moz-box-sizing:border-box !important;box-sizing:border-box !important;max-width:352px}.btn-block-compact,.sg-btn-block-compact{margin:2px auto}input.btn-block,input.sg-btn-block,button.btn-block,button.sg-btn-block{width:100%;max-width:351px}.btn-block+.btn-block,.sg-btn-block+.sg-btn-block{margin-top:5px}#buttonContainer .btn,#buttonContainer .sg-btn{margin:0}.btn-icon .cssImage{margin-bottom:-40px;position:relative;top:-27px}.btn-pair{-webkit-box-sizing:border-box !important;-moz-box-sizing:border-box !important;box-sizing:border-box !important;width:49%}.comment_bubble a,.comment_bubble a:link,.comment_bubble a:visited{color:#77c}.footer a,.footer a:link,.footer a:visited{color:#77c}.footer .sl:visited{color:#77c}.jsf .sl{color:#77c}.sl,.sl:link,.sl:visited{color:#77c}#cookie-alert .learn-more,#cookie-alert .learn-more :visited{color:#77c}#jobsearch .sl{color:#77c}#secondary_nav a,#secondary_nav a:link,#secondary_nav a:visited{color:#77c}.arrowStub{border-top-color:#666}.carouselInlineAd .cmp-note{color:#6F6F6F}.cmp_header{color:#666}.cmp_meta{color:#666}.comment_bubble{color:#666}.date,.visits{color:#808080}.dd-disabled{color:#666}.dd-disabled .dd-button-arrow{color:#666}.hp_welcome_message{color:#6F6F6F}.inwrap input{border-bottom-color:#aaa;border-\\@LINE_END\\@-color:#aaa}.ipadPromoCopy{color:#666}.itaText{color:#6F6F6F}.jsf .label{color:#aaa}.location{color:#666}.nps-popover-x-span{color:#666}.popover-x-span{color:#666}.rjl{color:#666}.rsc{color:#aaa}.rsh{color:#6F6F6F}.svh{color:#6F6F6F}.sjh{color:#666}.sup_grey{color:#aaa}#fromageMsg{color:#666}#jobsearch .label,#jobsearch .label label{color:#aaa}#not-likely-div{color:#808080}#original_radius_result{color:#666}#question-intro-div{color:#808080}#userOptionsLabel.active b{color:#666}#userOptionsLabel.active .arrowStub{border-bottom-color:#666}#very-likely-div{color:#808080}.jasxcolorcontrasttst-blueOnly .comment_bubble a,.jasxcolorcontrasttst-blueOnly .comment_bubble a:link,.jasxcolorcontrasttst-blueOnly .comment_bubble a:visited{color:#6D6DC3}.jasxcolorcontrasttst-blueOnly .footer a,.jasxcolorcontrasttst-blueOnly .footer a:link,.jasxcolorcontrasttst-blueOnly .footer a:visited{color:#6D6DC3}.jasxcolorcontrasttst-blueOnly .footer .sl:visited{color:#6D6DC3}.jasxcolorcontrasttst-blueOnly .jsf .sl{color:#6D6DC3}.jasxcolorcontrasttst-blueOnly .sl,.jasxcolorcontrasttst-blueOnly .sl:link,.jasxcolorcontrasttst-blueOnly .sl:visited{color:#6D6DC3}.jasxcolorcontrasttst-blueOnly #cookie-alert .learn-more,.jasxcolorcontrasttst-blueOnly #cookie-alert .learn-more :visited{color:#6D6DC3}.jasxcolorcontrasttst-blueOnly #jobsearch .sl{color:#6D6DC3}.jasxcolorcontrasttst-blueOnly #secondary_nav a,.jasxcolorcontrasttst-blueOnly #secondary_nav a:link,.jasxcolorcontrasttst-blueOnly #secondary_nav a:visited{color:#6D6DC3}.jasxcolorcontrasttst-blueOnly .arrowStub{border-top-color:#666}.jasxcolorcontrasttst-blueOnly .carouselInlineAd .cmp-note{color:#6F6F6F}.jasxcolorcontrasttst-blueOnly .cmp_header{color:#666}.jasxcolorcontrasttst-blueOnly .cmp_meta{color:#666}.jasxcolorcontrasttst-blueOnly .comment_bubble{color:#666}.jasxcolorcontrasttst-blueOnly .date,.jasxcolorcontrasttst-blueOnly .visits{color:#808080}.jasxcolorcontrasttst-blueOnly .dd-disabled{color:#666}.jasxcolorcontrasttst-blueOnly .dd-disabled .dd-button-arrow{color:#666}.jasxcolorcontrasttst-blueOnly .hp_welcome_message{color:#6F6F6F}.jasxcolorcontrasttst-blueOnly .inwrap input{border-bottom-color:#aaa;border-\\@LINE_END\\@-color:#aaa}.jasxcolorcontrasttst-blueOnly .ipadPromoCopy{color:#666}.jasxcolorcontrasttst-blueOnly .itaText{color:#6F6F6F}.jasxcolorcontrasttst-blueOnly .jsf .label{color:#aaa}.jasxcolorcontrasttst-blueOnly .location{color:#666}.jasxcolorcontrasttst-blueOnly .nps-popover-x-span{color:#666}.jasxcolorcontrasttst-blueOnly .popover-x-span{color:#666}.jasxcolorcontrasttst-blueOnly .rjl{color:#666}.jasxcolorcontrasttst-blueOnly .rsc{color:#aaa}.jasxcolorcontrasttst-blueOnly .rsh{color:#6F6F6F}.jasxcolorcontrasttst-blueOnly .svh{color:#6F6F6F}.jasxcolorcontrasttst-blueOnly .sjh{color:#666}.jasxcolorcontrasttst-blueOnly .sup_grey{color:#aaa}.jasxcolorcontrasttst-blueOnly #fromageMsg{color:#666}.jasxcolorcontrasttst-blueOnly #jobsearch .label,.jasxcolorcontrasttst-blueOnly #jobsearch .label label{color:#aaa}.jasxcolorcontrasttst-blueOnly #not-likely-div{color:#808080}.jasxcolorcontrasttst-blueOnly #original_radius_result{color:#666}.jasxcolorcontrasttst-blueOnly #question-intro-div{color:#808080}.jasxcolorcontrasttst-blueOnly #userOptionsLabel.active b{color:#666}.jasxcolorcontrasttst-blueOnly #userOptionsLabel.active .arrowStub{border-bottom-color:#666}.jasxcolorcontrasttst-blueOnly #very-likely-div{color:#808080}.jasxcolorcontrasttst-greyOnly .comment_bubble a,.jasxcolorcontrasttst-greyOnly .comment_bubble a:link,.jasxcolorcontrasttst-greyOnly .comment_bubble a:visited{color:#77c}.jasxcolorcontrasttst-greyOnly .footer a,.jasxcolorcontrasttst-greyOnly .footer a:link,.jasxcolorcontrasttst-greyOnly .footer a:visited{color:#77c}.jasxcolorcontrasttst-greyOnly .footer .sl:visited{color:#77c}.jasxcolorcontrasttst-greyOnly .jsf .sl{color:#77c}.jasxcolorcontrasttst-greyOnly .sl,.jasxcolorcontrasttst-greyOnly .sl:link,.jasxcolorcontrasttst-greyOnly .sl:visited{color:#77c}.jasxcolorcontrasttst-greyOnly #cookie-alert .learn-more,.jasxcolorcontrasttst-greyOnly #cookie-alert .learn-more :visited{color:#77c}.jasxcolorcontrasttst-greyOnly #jobsearch .sl{color:#77c}.jasxcolorcontrasttst-greyOnly #secondary_nav a,.jasxcolorcontrasttst-greyOnly #secondary_nav a:link,.jasxcolorcontrasttst-greyOnly #secondary_nav a:visited{color:#77c}.jasxcolorcontrasttst-greyOnly .arrowStub{border-top-color:#666}.jasxcolorcontrasttst-greyOnly .carouselInlineAd .cmp-note{color:#666}.jasxcolorcontrasttst-greyOnly .cmp_header{color:#666}.jasxcolorcontrasttst-greyOnly .cmp_meta{color:#666}.jasxcolorcontrasttst-greyOnly .comment_bubble{color:#666}.jasxcolorcontrasttst-greyOnly .date,.jasxcolorcontrasttst-greyOnly .visits{color:#666}.jasxcolorcontrasttst-greyOnly .dd-disabled{color:#666}.jasxcolorcontrasttst-greyOnly .dd-disabled .dd-button-arrow{color:#666}.jasxcolorcontrasttst-greyOnly .hp_welcome_message{color:#666}.jasxcolorcontrasttst-greyOnly .inwrap input{border-bottom-color:#666;border-\\@LINE_END\\@-color:#666}.jasxcolorcontrasttst-greyOnly .ipadPromoCopy{color:#666}.jasxcolorcontrasttst-greyOnly .itaText{color:#666}.jasxcolorcontrasttst-greyOnly .jsf .label{color:#666}.jasxcolorcontrasttst-greyOnly .location{color:#666}.jasxcolorcontrasttst-greyOnly .nps-popover-x-span{color:#666}.jasxcolorcontrasttst-greyOnly .popover-x-span{color:#666}.jasxcolorcontrasttst-greyOnly .rjl{color:#666}.jasxcolorcontrasttst-greyOnly .rsc{color:#666}.jasxcolorcontrasttst-greyOnly .rsh{color:#666}.jasxcolorcontrasttst-greyOnly .svh{color:#666}.jasxcolorcontrasttst-greyOnly .sjh{color:#666}.jasxcolorcontrasttst-greyOnly .sup_grey{color:#666}.jasxcolorcontrasttst-greyOnly #fromageMsg{color:#666}.jasxcolorcontrasttst-greyOnly #jobsearch .label,.jasxcolorcontrasttst-greyOnly #jobsearch .label label{color:#666}.jasxcolorcontrasttst-greyOnly #not-likely-div{color:#666}.jasxcolorcontrasttst-greyOnly #original_radius_result{color:#666}.jasxcolorcontrasttst-greyOnly #question-intro-div{color:#666}.jasxcolorcontrasttst-greyOnly #userOptionsLabel.active b{color:#666}.jasxcolorcontrasttst-greyOnly #userOptionsLabel.active .arrowStub{border-bottom-color:#666}.jasxcolorcontrasttst-greyOnly #very-likely-div{color:#666}.jasxcolorcontrasttst-greyAndBlue .comment_bubble a,.jasxcolorcontrasttst-greyAndBlue .comment_bubble a:link,.jasxcolorcontrasttst-greyAndBlue .comment_bubble a:visited{color:#6D6DC3}.jasxcolorcontrasttst-greyAndBlue .footer a,.jasxcolorcontrasttst-greyAndBlue .footer a:link,.jasxcolorcontrasttst-greyAndBlue .footer a:visited{color:#6D6DC3}.jasxcolorcontrasttst-greyAndBlue .footer .sl:visited{color:#6D6DC3}.jasxcolorcontrasttst-greyAndBlue .jsf .sl{color:#6D6DC3}.jasxcolorcontrasttst-greyAndBlue .sl,.jasxcolorcontrasttst-greyAndBlue .sl:link,.jasxcolorcontrasttst-greyAndBlue .sl:visited{color:#6D6DC3}.jasxcolorcontrasttst-greyAndBlue #cookie-alert .learn-more,.jasxcolorcontrasttst-greyAndBlue #cookie-alert .learn-more :visited{color:#6D6DC3}.jasxcolorcontrasttst-greyAndBlue #jobsearch .sl{color:#6D6DC3}.jasxcolorcontrasttst-greyAndBlue #secondary_nav a,.jasxcolorcontrasttst-greyAndBlue #secondary_nav a:link,.jasxcolorcontrasttst-greyAndBlue #secondary_nav a:visited{color:#6D6DC3}.jasxcolorcontrasttst-greyAndBlue .arrowStub{border-top-color:#666}.jasxcolorcontrasttst-greyAndBlue .carouselInlineAd .cmp-note{color:#666}.jasxcolorcontrasttst-greyAndBlue .cmp_header{color:#666}.jasxcolorcontrasttst-greyAndBlue .cmp_meta{color:#666}.jasxcolorcontrasttst-greyAndBlue .comment_bubble{color:#666}.jasxcolorcontrasttst-greyAndBlue .date,.jasxcolorcontrasttst-greyAndBlue .visits{color:#666}.jasxcolorcontrasttst-greyAndBlue .dd-disabled{color:#666}.jasxcolorcontrasttst-greyAndBlue .dd-disabled .dd-button-arrow{color:#666}.jasxcolorcontrasttst-greyAndBlue .hp_welcome_message{color:#666}.jasxcolorcontrasttst-greyAndBlue .inwrap input{border-bottom-color:#666;border-\\@LINE_END\\@-color:#666}.jasxcolorcontrasttst-greyAndBlue .ipadPromoCopy{color:#666}.jasxcolorcontrasttst-greyAndBlue .itaText{color:#666}.jasxcolorcontrasttst-greyAndBlue .jsf .label{color:#666}.jasxcolorcontrasttst-greyAndBlue .location{color:#666}.jasxcolorcontrasttst-greyAndBlue .nps-popover-x-span{color:#666}.jasxcolorcontrasttst-greyAndBlue .popover-x-span{color:#666}.jasxcolorcontrasttst-greyAndBlue .rjl{color:#666}.jasxcolorcontrasttst-greyAndBlue .rsc{color:#666}.jasxcolorcontrasttst-greyAndBlue .rsh{color:#666}.jasxcolorcontrasttst-greyAndBlue .svh{color:#666}.jasxcolorcontrasttst-greyAndBlue .sjh{color:#666}.jasxcolorcontrasttst-greyAndBlue .sup_grey{color:#666}.jasxcolorcontrasttst-greyAndBlue #fromageMsg{color:#666}.jasxcolorcontrasttst-greyAndBlue #jobsearch .label,.jasxcolorcontrasttst-greyAndBlue #jobsearch .label label{color:#666}.jasxcolorcontrasttst-greyAndBlue #not-likely-div{color:#666}.jasxcolorcontrasttst-greyAndBlue #original_radius_result{color:#666}.jasxcolorcontrasttst-greyAndBlue #question-intro-div{color:#666}.jasxcolorcontrasttst-greyAndBlue #userOptionsLabel.active b{color:#666}.jasxcolorcontrasttst-greyAndBlue #userOptionsLabel.active .arrowStub{border-bottom-color:#666}.jasxcolorcontrasttst-greyAndBlue #very-likely-div{color:#666}#refineresultscol{width:184px}#refineresults{width:180px}#branding-td{width:186px;text-align:center}.ltr #searchCount{margin-right:4px;margin-left:4px}.ltr #resultsCol .sorting{padding-right:4px}.ltr #resultsCol .showing{padding-left:4px}.ltr #jobsearch{padding-left:4px}.rtl #searchCount{margin-left:4px;margin-right:4px}.rtl #resultsCol .sorting{padding-left:4px}.rtl #resultsCol .showing{padding-right:4px}.rtl #jobsearch{padding-right:4px}.jaui,.hasu .gasc,.row,.message,.oocs{padding-left:4px;padding-right:4px}#resumePromo{padding-left:4px;padding-right:4px}#primePromo{padding-left:4px;padding-right:4px}#walkInJobsPromo{padding-left:4px;padding-right:4px}@media only screen and (min-width: 1125px){.ltr #refineresults{padding-left:15px}.ltr #branding img{margin-left:16px;margin-right:28px}.rtl #refineresults{padding-right:15px}.rtl #branding img{margin-right:16px;margin-left:28px}.ltr #searchCount{margin-right:12px;margin-left:12px}.ltr #resultsCol .sorting{padding-right:12px}.ltr #resultsCol .showing{padding-left:12px}.ltr #jobsearch{padding-left:12px}.rtl #searchCount{margin-left:12px;margin-right:12px}.rtl #resultsCol .sorting{padding-left:12px}.rtl #resultsCol .showing{padding-right:12px}.rtl #jobsearch{padding-right:12px}.jaui,.hasu .gasc,.row,.message,.oocs{padding-left:12px;padding-right:12px}#resumePromo{padding-left:12px;padding-right:12px}#primePromo{padding-left:12px;padding-right:12px}#walkInJobsPromo{padding-left:12px;padding-right:12px}#resultsBody{width:1125px}#refineresultscol,#branding-td{width:225px}#refineresults{width:210px}}@media only screen and (min-width: 1250px){#resultsBody{width:1250px}#auxCol{width:315px}#refineresultscol,#branding-td{width:275px}#refineresults{width:260px}.ltr #refineresults{padding-left:15px}.ltr #branding img{margin-left:16px;margin-right:28px}.rtl #refineresults{padding-right:15px}.rtl #branding img{margin-right:16px;margin-left:28px}.ltr #searchCount{margin-right:12px;margin-left:12px}.ltr #resultsCol .sorting{padding-right:12px}.ltr #resultsCol .showing{padding-left:12px}.ltr #jobsearch{padding-left:12px}.rtl #searchCount{margin-left:12px;margin-right:12px}.rtl #resultsCol .sorting{padding-left:12px}.rtl #resultsCol .showing{padding-right:12px}.rtl #jobsearch{padding-right:12px}.jaui,.hasu .gasc,.row,.message,.oocs{padding-left:12px;padding-right:12px}#resumePromo{padding-left:12px;padding-right:12px}#primePromo{padding-left:12px;padding-right:12px}#walkInJobsPromo{padding-left:12px;padding-right:12px}}#branding-td{padding:5px 0 5px 0px}.resultsTop{padding-top:9px}\n",
       "</style>\n",
       "</head>\n",
       "<body class=\"ltr jasxcustomfonttst-inactive jasxcolorcontrasttst-inactive\" data-tn-application=\"jasx\" data-tn-olth=\"9d2bcadf63a72746e920e0ea88bc9d14\" data-tn-originlogid=\"1b9lhuao0bs8rcmh\" data-tn-originlogtype=\"jobsearch\">\n",
       "<div id=\"accessibilityBanner\"><span id=\"accessibilityText\">Skip to <!-- This is translated before reaching this state --><a class=\"accessibilityMenu\" href=\"#jobPostingsAnchor\" id=\"skipToJobs\">Job Postings</a>, <!-- This is translated before reaching this state --><a class=\"accessibilityMenu\" href=\"#what\" id=\"skipToSearch\">Search</a></span><a id=\"accessibilityClose\">Close</a></div><link href=\"/s/36397a3/accessibility.css\" rel=\"stylesheet\" type=\"text/css\"/>\n",
       "<script type=\"text/javascript\">\n",
       "createTabBar('1b9lhuao0bs8rcmh');\n",
       "</script>\n",
       "<style type=\"text/css\">\n",
       "body { margin-top: 0; margin-left: 0; margin-right: 0; padding-top: 0; padding-right: 0; padding-left: 0; }\n",
       "\n",
       "#g_nav { border-bottom:1px solid #ccc; margin-bottom: 9px; }\n",
       "\n",
       "#g_nav a,\n",
       "#g_nav a:visited { color: #00c; }\n",
       "\n",
       ".navBi { display: -moz-inline-box; display: inline-block; padding: 9px 12px; margin: 0; list-style-type: none; }\n",
       "</style>\n",
       "<div class=\"left\" data-tn-section=\"globalNav\" id=\"g_nav\" role=\"navigation\">\n",
       "<table cellpadding=\"0\" cellspacing=\"0\" width=\"100%\">\n",
       "<tr>\n",
       "<td nowrap=\"\"><style type=\"text/css\">\n",
       "#p_nav a.selected { font-weight: bold; text-decoration:none; color: #000 !important; }\n",
       "</style>\n",
       "<div id=\"p_nav\"><span class=\"navBi\"><a class=\"selected\" href=\"/\" id=\"jobsLink\" title=\"Jobs\">Find Jobs</a></span><span class=\"navBi\"><a href=\"/resumes?isid=find-resumes&amp;ikw=SERPtop&amp;co=US&amp;hl=en\" id=\"rezLink\">Find Resumes</a></span><span class=\"navBi\"><a href=\"/hire?hl=en&amp;cc=US\" id=\"empLink\" onclick=\"if ( this.href.match('&amp;isid=employerlink-US-control&amp;ikw=SERPtop') == null ) { this.href += '&amp;isid=employerlink-US-control&amp;ikw=SERPtop' };\">Employers / Post Job</a></span></div>\n",
       "</td>\n",
       "<td align=\"right\" nowrap=\"\"><style type=\"text/css\">\n",
       "\n",
       "\n",
       "#navpromo a,\n",
       "#navpromo a:visited {\n",
       "color: #f60;\n",
       "}\n",
       "\n",
       "\n",
       "#u_nav .login_unconfirmed,\n",
       "#u_nav .login_unconfirmed a,\n",
       "#u_nav .login_unconfirmed a:visited {\n",
       "color: #c00\n",
       "}\n",
       "\n",
       "#u_nav .resume_pending,\n",
       "#u_nav .resume_pending a,\n",
       "#u_nav .resume_pending a:visited {\n",
       "color: #c00\n",
       "}\n",
       "\n",
       "#userOptionsLabel {\n",
       "position: relative;\n",
       "z-index: 5;\n",
       "}\n",
       "\n",
       "#userOptionsLabel b {\n",
       "cursor: pointer;\n",
       "text-decoration: underline;\n",
       "position: relative;\n",
       "z-index: 5;\n",
       "}\n",
       "\n",
       "#userOptionsLabel:active {\n",
       "outline: none;\n",
       "}\n",
       "\n",
       "#userOptionsLabel.active {\n",
       "padding: 9px 11px;\n",
       "margin-bottom: -1px;\n",
       "_margin-bottom: 0px;\n",
       "border: 1px solid #ccc;\n",
       "border-top: 0;\n",
       "}\n",
       "\n",
       "#userOptionsLabel.active .arrowStub {\n",
       "border-width: 0 3px 3px;\n",
       "_border-width: 0px 3px 4px;\n",
       "border-color: transparent;\n",
       "top: -2px;\n",
       "border-style: dashed dashed solid;\n",
       "}\n",
       "\n",
       "#userOptionsLabel.active .halfPxlFix {\n",
       "background: #fff;\n",
       "bottom: -3px;\n",
       "height: 6px;\n",
       "left: 0;\n",
       "position: absolute;\n",
       "right: 0;\n",
       "border: 1px solid #fff;\n",
       "}\n",
       "\n",
       ".arrowStub {\n",
       "position: relative;\n",
       "border-style: solid dashed dashed;\n",
       "border-color: transparent;\n",
       "display: -moz-inline-box;\n",
       "display: inline-block;\n",
       "font-size: 0;\n",
       "height: 0;\n",
       "line-height: 0;\n",
       "width: 0;\n",
       "left: 4px;\n",
       "border-top-width: 3px;\n",
       "border-bottom-width: 0;\n",
       "border-right-width: 3px;\n",
       "padding-top: 1px;\n",
       "top: -1px;\n",
       "}\n",
       "\n",
       "#userOptions {\n",
       "z-index: 2;\n",
       "visibility: hidden;\n",
       "position: absolute;\n",
       "right: 0;\n",
       "x_right: -1px;\n",
       "top: 100%;\n",
       "padding: 9px 15px;\n",
       "border: 1px solid #ccc;\n",
       "background: #fff;\n",
       "min-width: 150px;\n",
       "_width: 150px;\n",
       "text-align: left;\n",
       "}\n",
       "\n",
       "#userOptions.open {\n",
       "visibility: visible;\n",
       "}\n",
       "\n",
       ".userOptionItem {\n",
       "margin: 6px 0;\n",
       "}\n",
       "\n",
       ".userOptionItem a {\n",
       "white-space: nowrap;\n",
       "}\n",
       "\n",
       ".userOptionGroup {\n",
       "border-top: 1px solid #e8e8e8;\n",
       "margin-top: 12px;\n",
       "}\n",
       "\n",
       ".userNameRepeat {\n",
       "color: #a8a8a8;\n",
       "padding-right: 48px;\n",
       "font-weight: bold;\n",
       "}\n",
       "\n",
       ".userOptionGroupHeader {\n",
       "font-weight: bold;\n",
       "margin: 6px 0;\n",
       "}\n",
       "\n",
       "</style>\n",
       "<div id=\"u_nav\">\n",
       "<script type=\"text/javascript\">\n",
       "function isUserOptionsOpen() {\n",
       "return document.getElementById('userOptions').className === 'open';\n",
       "}\n",
       "\n",
       "function hideUserOptions() {\n",
       "destroyKeyboardTrap();\n",
       "document.getElementById('userOptions').className = '';\n",
       "document.getElementById('userOptionsLabel').className = 'navBi';\n",
       "document.getElementById('userOptionsLabel').setAttribute('aria-label', 'open user action drop down menu');\n",
       "}\n",
       "function toggleUserOptions(e) {\n",
       "var options = document.getElementById('userOptions');\n",
       "var label = document.getElementById('userOptionsLabel');\n",
       "if (isUserOptionsOpen()) {\n",
       "hideUserOptions();\n",
       "if (!e.keyCode) {\n",
       "label.blur();\n",
       "}\n",
       "} else {\n",
       "options.className = 'open';\n",
       "label.className = 'navBi active navMenuDropDown';\n",
       "label.setAttribute('aria-label', 'close user action drop down menu');\n",
       "document.onclick = function() {\n",
       "hideUserOptions();\n",
       "document.onclick = function() {\n",
       "};\n",
       "};\n",
       "if (e.keyCode && (e.keyCode == 13 || e.keyCode == 32)) {\n",
       "var fL = document.getElementById('userOptions').getElementsByTagName('a')[0];\n",
       "if (fL) {\n",
       "fL.focus();\n",
       "}\n",
       "}\n",
       "else {\n",
       "label.blur();\n",
       "}\n",
       "createKeyboardTrap(document.getElementById('user_actions'), 'navMenuDropDown', hideUserOptions);\n",
       "}\n",
       "stopPropagation(e);\n",
       "\n",
       "}\n",
       "\n",
       "\n",
       "function createKeyboardTrap(containingElement, dropdownLinkClass) {\n",
       "var dropdownLinks = containingElement.getElementsByClassName(dropdownLinkClass);\n",
       "var numLinks = dropdownLinks.length;\n",
       "\n",
       "document.onkeydown = function(e) {\n",
       "if (e.keyCode === 9) {\n",
       "if (e.target === dropdownLinks[0] && e.shiftKey) {\n",
       "dropdownLinks[numLinks -1].focus();\n",
       "e.preventDefault();\n",
       "} else if (e.target === dropdownLinks[numLinks -1] && !e.shiftKey) {\n",
       "dropdownLinks[0].focus();\n",
       "e.preventDefault()\n",
       "}\n",
       "} else if (e.keyCode === 27) {\n",
       "hideUserOptions();\n",
       "}\n",
       "}\n",
       "}\n",
       "\n",
       "function destroyKeyboardTrap() {\n",
       "document.onkeydown = null;\n",
       "}\n",
       "\n",
       "function stopPropagation(e) {\n",
       "var e = e || window.event;\n",
       "e.stopPropagation ? e.stopPropagation() : e.cancelBubble = true;\n",
       "}\n",
       "\n",
       "</script>\n",
       "<script>\n",
       "\n",
       "function regExpEscape(s) {\n",
       "    return String(s).replace(/([-()\\[\\]{}+?*.$\\^|,:#<!\\\\])/g, '\\\\$1').\n",
       "            replace(/\\x08/g, '\\\\x08');\n",
       "}\n",
       "\n",
       "\n",
       "function appendParamsOnce(url, params) {\n",
       "    var useParams = params.replace(/^(\\?|\\&)/, '');\n",
       "    if (url.match(new RegExp('[\\\\?|\\\\&]' + regExpEscape(useParams))) == null) {\n",
       "        return url += (url.indexOf('?') > 0 ? '&' : '?' ) + useParams;\n",
       "    }\n",
       "    return url;\n",
       "}\n",
       "\n",
       "</script>\n",
       "<div id=\"user_actions\">\n",
       "<span class=\"navBi\"><span class=\"resume-promo\" id=\"navpromo\">\n",
       "<a href=\"/promo/resume\" onclick=\"window.location=this.href + '?from=nav&amp;subfrom=rezprmstd&amp;trk.origin=jobsearch&amp;trk.variant=rezprmstd&amp;trk.tk=1b9lhuao0bs8rcmh'; return false;\">Upload your resume</a>\n",
       "</span></span>\n",
       "<span class=\"navBi\"><a href=\"http://www.indeed.com/account/login?dest=%2Fjobs%3Fq%3Ddata%2Bscientist\" id=\"userOptionsLabel\" rel=\"nofollow\">Sign in</a></span>\n",
       "</div>\n",
       "</div>\n",
       "</td>\n",
       "</tr>\n",
       "</table>\n",
       "</div>\n",
       "<style type=\"text/css\">\n",
       ".jasxcustomfonttst-useCustomHostedFontFullPage *{font-family:\"Open Sans\", sans-serif !important}.jasxcustomfonttst-useLato *{font-family:\"Lato\", sans-serif !important}.jasxcustomfonttst-useFira *{font-family:\"Fira Sans\", sans-serif !important}.jasxcustomfonttst-useGibson *{font-family:\"Gibson\", sans-serif !important}.jasxcustomfonttst-useAvenir *{font-family:\"Avenir Next\", sans-serif !important}.comment_bubble a,.comment_bubble a:link,.comment_bubble a:visited{color:#77c}.footer a,.footer a:link,.footer a:visited{color:#77c}.footer .sl:visited{color:#77c}.jsf .sl{color:#77c}.sl,.sl:link,.sl:visited{color:#77c}#cookie-alert .learn-more,#cookie-alert .learn-more :visited{color:#77c}#jobsearch .sl{color:#77c}#secondary_nav a,#secondary_nav a:link,#secondary_nav a:visited{color:#77c}.arrowStub{border-top-color:#666}.carouselInlineAd .cmp-note{color:#6F6F6F}.cmp_header{color:#666}.cmp_meta{color:#666}.comment_bubble{color:#666}.date,.visits{color:#808080}.dd-disabled{color:#666}.dd-disabled .dd-button-arrow{color:#666}.hp_welcome_message{color:#6F6F6F}.inwrap input{border-bottom-color:#aaa;border-\\@LINE_END\\@-color:#aaa}.ipadPromoCopy{color:#666}.itaText{color:#6F6F6F}.jsf .label{color:#aaa}.location{color:#666}.nps-popover-x-span{color:#666}.popover-x-span{color:#666}.rjl{color:#666}.rsc{color:#aaa}.rsh{color:#6F6F6F}.svh{color:#6F6F6F}.sjh{color:#666}.sup_grey{color:#aaa}#fromageMsg{color:#666}#jobsearch .label,#jobsearch .label label{color:#aaa}#not-likely-div{color:#808080}#original_radius_result{color:#666}#question-intro-div{color:#808080}#userOptionsLabel.active b{color:#666}#userOptionsLabel.active .arrowStub{border-bottom-color:#666}#very-likely-div{color:#808080}.jasxcolorcontrasttst-blueOnly .comment_bubble a,.jasxcolorcontrasttst-blueOnly .comment_bubble a:link,.jasxcolorcontrasttst-blueOnly .comment_bubble a:visited{color:#6D6DC3}.jasxcolorcontrasttst-blueOnly .footer a,.jasxcolorcontrasttst-blueOnly .footer a:link,.jasxcolorcontrasttst-blueOnly .footer a:visited{color:#6D6DC3}.jasxcolorcontrasttst-blueOnly .footer .sl:visited{color:#6D6DC3}.jasxcolorcontrasttst-blueOnly .jsf .sl{color:#6D6DC3}.jasxcolorcontrasttst-blueOnly .sl,.jasxcolorcontrasttst-blueOnly .sl:link,.jasxcolorcontrasttst-blueOnly .sl:visited{color:#6D6DC3}.jasxcolorcontrasttst-blueOnly #cookie-alert .learn-more,.jasxcolorcontrasttst-blueOnly #cookie-alert .learn-more :visited{color:#6D6DC3}.jasxcolorcontrasttst-blueOnly #jobsearch .sl{color:#6D6DC3}.jasxcolorcontrasttst-blueOnly #secondary_nav a,.jasxcolorcontrasttst-blueOnly #secondary_nav a:link,.jasxcolorcontrasttst-blueOnly #secondary_nav a:visited{color:#6D6DC3}.jasxcolorcontrasttst-blueOnly .arrowStub{border-top-color:#666}.jasxcolorcontrasttst-blueOnly .carouselInlineAd .cmp-note{color:#6F6F6F}.jasxcolorcontrasttst-blueOnly .cmp_header{color:#666}.jasxcolorcontrasttst-blueOnly .cmp_meta{color:#666}.jasxcolorcontrasttst-blueOnly .comment_bubble{color:#666}.jasxcolorcontrasttst-blueOnly .date,.jasxcolorcontrasttst-blueOnly .visits{color:#808080}.jasxcolorcontrasttst-blueOnly .dd-disabled{color:#666}.jasxcolorcontrasttst-blueOnly .dd-disabled .dd-button-arrow{color:#666}.jasxcolorcontrasttst-blueOnly .hp_welcome_message{color:#6F6F6F}.jasxcolorcontrasttst-blueOnly .inwrap input{border-bottom-color:#aaa;border-\\@LINE_END\\@-color:#aaa}.jasxcolorcontrasttst-blueOnly .ipadPromoCopy{color:#666}.jasxcolorcontrasttst-blueOnly .itaText{color:#6F6F6F}.jasxcolorcontrasttst-blueOnly .jsf .label{color:#aaa}.jasxcolorcontrasttst-blueOnly .location{color:#666}.jasxcolorcontrasttst-blueOnly .nps-popover-x-span{color:#666}.jasxcolorcontrasttst-blueOnly .popover-x-span{color:#666}.jasxcolorcontrasttst-blueOnly .rjl{color:#666}.jasxcolorcontrasttst-blueOnly .rsc{color:#aaa}.jasxcolorcontrasttst-blueOnly .rsh{color:#6F6F6F}.jasxcolorcontrasttst-blueOnly .svh{color:#6F6F6F}.jasxcolorcontrasttst-blueOnly .sjh{color:#666}.jasxcolorcontrasttst-blueOnly .sup_grey{color:#aaa}.jasxcolorcontrasttst-blueOnly #fromageMsg{color:#666}.jasxcolorcontrasttst-blueOnly #jobsearch .label,.jasxcolorcontrasttst-blueOnly #jobsearch .label label{color:#aaa}.jasxcolorcontrasttst-blueOnly #not-likely-div{color:#808080}.jasxcolorcontrasttst-blueOnly #original_radius_result{color:#666}.jasxcolorcontrasttst-blueOnly #question-intro-div{color:#808080}.jasxcolorcontrasttst-blueOnly #userOptionsLabel.active b{color:#666}.jasxcolorcontrasttst-blueOnly #userOptionsLabel.active .arrowStub{border-bottom-color:#666}.jasxcolorcontrasttst-blueOnly #very-likely-div{color:#808080}.jasxcolorcontrasttst-greyOnly .comment_bubble a,.jasxcolorcontrasttst-greyOnly .comment_bubble a:link,.jasxcolorcontrasttst-greyOnly .comment_bubble a:visited{color:#77c}.jasxcolorcontrasttst-greyOnly .footer a,.jasxcolorcontrasttst-greyOnly .footer a:link,.jasxcolorcontrasttst-greyOnly .footer a:visited{color:#77c}.jasxcolorcontrasttst-greyOnly .footer .sl:visited{color:#77c}.jasxcolorcontrasttst-greyOnly .jsf .sl{color:#77c}.jasxcolorcontrasttst-greyOnly .sl,.jasxcolorcontrasttst-greyOnly .sl:link,.jasxcolorcontrasttst-greyOnly .sl:visited{color:#77c}.jasxcolorcontrasttst-greyOnly #cookie-alert .learn-more,.jasxcolorcontrasttst-greyOnly #cookie-alert .learn-more :visited{color:#77c}.jasxcolorcontrasttst-greyOnly #jobsearch .sl{color:#77c}.jasxcolorcontrasttst-greyOnly #secondary_nav a,.jasxcolorcontrasttst-greyOnly #secondary_nav a:link,.jasxcolorcontrasttst-greyOnly #secondary_nav a:visited{color:#77c}.jasxcolorcontrasttst-greyOnly .arrowStub{border-top-color:#666}.jasxcolorcontrasttst-greyOnly .carouselInlineAd .cmp-note{color:#666}.jasxcolorcontrasttst-greyOnly .cmp_header{color:#666}.jasxcolorcontrasttst-greyOnly .cmp_meta{color:#666}.jasxcolorcontrasttst-greyOnly .comment_bubble{color:#666}.jasxcolorcontrasttst-greyOnly .date,.jasxcolorcontrasttst-greyOnly .visits{color:#666}.jasxcolorcontrasttst-greyOnly .dd-disabled{color:#666}.jasxcolorcontrasttst-greyOnly .dd-disabled .dd-button-arrow{color:#666}.jasxcolorcontrasttst-greyOnly .hp_welcome_message{color:#666}.jasxcolorcontrasttst-greyOnly .inwrap input{border-bottom-color:#666;border-\\@LINE_END\\@-color:#666}.jasxcolorcontrasttst-greyOnly .ipadPromoCopy{color:#666}.jasxcolorcontrasttst-greyOnly .itaText{color:#666}.jasxcolorcontrasttst-greyOnly .jsf .label{color:#666}.jasxcolorcontrasttst-greyOnly .location{color:#666}.jasxcolorcontrasttst-greyOnly .nps-popover-x-span{color:#666}.jasxcolorcontrasttst-greyOnly .popover-x-span{color:#666}.jasxcolorcontrasttst-greyOnly .rjl{color:#666}.jasxcolorcontrasttst-greyOnly .rsc{color:#666}.jasxcolorcontrasttst-greyOnly .rsh{color:#666}.jasxcolorcontrasttst-greyOnly .svh{color:#666}.jasxcolorcontrasttst-greyOnly .sjh{color:#666}.jasxcolorcontrasttst-greyOnly .sup_grey{color:#666}.jasxcolorcontrasttst-greyOnly #fromageMsg{color:#666}.jasxcolorcontrasttst-greyOnly #jobsearch .label,.jasxcolorcontrasttst-greyOnly #jobsearch .label label{color:#666}.jasxcolorcontrasttst-greyOnly #not-likely-div{color:#666}.jasxcolorcontrasttst-greyOnly #original_radius_result{color:#666}.jasxcolorcontrasttst-greyOnly #question-intro-div{color:#666}.jasxcolorcontrasttst-greyOnly #userOptionsLabel.active b{color:#666}.jasxcolorcontrasttst-greyOnly #userOptionsLabel.active .arrowStub{border-bottom-color:#666}.jasxcolorcontrasttst-greyOnly #very-likely-div{color:#666}.jasxcolorcontrasttst-greyAndBlue .comment_bubble a,.jasxcolorcontrasttst-greyAndBlue .comment_bubble a:link,.jasxcolorcontrasttst-greyAndBlue .comment_bubble a:visited{color:#6D6DC3}.jasxcolorcontrasttst-greyAndBlue .footer a,.jasxcolorcontrasttst-greyAndBlue .footer a:link,.jasxcolorcontrasttst-greyAndBlue .footer a:visited{color:#6D6DC3}.jasxcolorcontrasttst-greyAndBlue .footer .sl:visited{color:#6D6DC3}.jasxcolorcontrasttst-greyAndBlue .jsf .sl{color:#6D6DC3}.jasxcolorcontrasttst-greyAndBlue .sl,.jasxcolorcontrasttst-greyAndBlue .sl:link,.jasxcolorcontrasttst-greyAndBlue .sl:visited{color:#6D6DC3}.jasxcolorcontrasttst-greyAndBlue #cookie-alert .learn-more,.jasxcolorcontrasttst-greyAndBlue #cookie-alert .learn-more :visited{color:#6D6DC3}.jasxcolorcontrasttst-greyAndBlue #jobsearch .sl{color:#6D6DC3}.jasxcolorcontrasttst-greyAndBlue #secondary_nav a,.jasxcolorcontrasttst-greyAndBlue #secondary_nav a:link,.jasxcolorcontrasttst-greyAndBlue #secondary_nav a:visited{color:#6D6DC3}.jasxcolorcontrasttst-greyAndBlue .arrowStub{border-top-color:#666}.jasxcolorcontrasttst-greyAndBlue .carouselInlineAd .cmp-note{color:#666}.jasxcolorcontrasttst-greyAndBlue .cmp_header{color:#666}.jasxcolorcontrasttst-greyAndBlue .cmp_meta{color:#666}.jasxcolorcontrasttst-greyAndBlue .comment_bubble{color:#666}.jasxcolorcontrasttst-greyAndBlue .date,.jasxcolorcontrasttst-greyAndBlue .visits{color:#666}.jasxcolorcontrasttst-greyAndBlue .dd-disabled{color:#666}.jasxcolorcontrasttst-greyAndBlue .dd-disabled .dd-button-arrow{color:#666}.jasxcolorcontrasttst-greyAndBlue .hp_welcome_message{color:#666}.jasxcolorcontrasttst-greyAndBlue .inwrap input{border-bottom-color:#666;border-\\@LINE_END\\@-color:#666}.jasxcolorcontrasttst-greyAndBlue .ipadPromoCopy{color:#666}.jasxcolorcontrasttst-greyAndBlue .itaText{color:#666}.jasxcolorcontrasttst-greyAndBlue .jsf .label{color:#666}.jasxcolorcontrasttst-greyAndBlue .location{color:#666}.jasxcolorcontrasttst-greyAndBlue .nps-popover-x-span{color:#666}.jasxcolorcontrasttst-greyAndBlue .popover-x-span{color:#666}.jasxcolorcontrasttst-greyAndBlue .rjl{color:#666}.jasxcolorcontrasttst-greyAndBlue .rsc{color:#666}.jasxcolorcontrasttst-greyAndBlue .rsh{color:#666}.jasxcolorcontrasttst-greyAndBlue .svh{color:#666}.jasxcolorcontrasttst-greyAndBlue .sjh{color:#666}.jasxcolorcontrasttst-greyAndBlue .sup_grey{color:#666}.jasxcolorcontrasttst-greyAndBlue #fromageMsg{color:#666}.jasxcolorcontrasttst-greyAndBlue #jobsearch .label,.jasxcolorcontrasttst-greyAndBlue #jobsearch .label label{color:#666}.jasxcolorcontrasttst-greyAndBlue #not-likely-div{color:#666}.jasxcolorcontrasttst-greyAndBlue #original_radius_result{color:#666}.jasxcolorcontrasttst-greyAndBlue #question-intro-div{color:#666}.jasxcolorcontrasttst-greyAndBlue #userOptionsLabel.active b{color:#666}.jasxcolorcontrasttst-greyAndBlue #userOptionsLabel.active .arrowStub{border-bottom-color:#666}.jasxcolorcontrasttst-greyAndBlue #very-likely-div{color:#666}\n",
       "\n",
       ".indeedLogo {\n",
       "background: url(/images/medium_logo.png) no-repeat;\n",
       "\n",
       "margin: 8px 0 0 9px;\n",
       "border: 0;\n",
       "width: 166px;\n",
       "height: 64px;\n",
       "-webkit-background-size: 155px 43px;\n",
       "background-size: 155px 43px;\n",
       "}\n",
       "@media (-webkit-min-device-pixel-ratio: 2),\n",
       "(   min--moz-device-pixel-ratio: 2),\n",
       "(     -o-min-device-pixel-ratio: 2/1),\n",
       "(        min-device-pixel-ratio: 2),\n",
       "(                min-resolution: 192dpi),\n",
       "(                min-resolution: 2dppx) {\n",
       ".indeedLogo {\n",
       "background: url(/images/medium_logo@2x.png) no-repeat;\n",
       "-webkit-background-size: 155px 43px;\n",
       "background-size: 155px 43px;\n",
       "}\n",
       "}\n",
       "#branding img { border: 0; }\n",
       "#jobsearch { margin: 0 }\n",
       ".inwrap { border-right: 1px solid #e8e8e8;border-bottom: 1px solid #e8e8e8;display:inline-block; }\n",
       ".inwrap input { box-sizing: border-box; margin:0; height: 30px; font-family:Arial,sans-serif;border:1px solid #ccc; -webkit-border-radius: 0; -webkit-appearance: none; }\n",
       ".inwrap .input_text { font-size:18px;padding:3px 6px;_margin: -1px 0; }\n",
       ".inwrap .input_submit {color:#614041;font-size:15px;height:30px;background: #e8e8e8; padding:3px 9px;cursor:pointer;_padding:3px;}\n",
       ".inwrap .input_submit:active { background: #ccc; }\n",
       ".lnav  {width:100%;line-height:1;;font-size:10pt;}\n",
       ".jsf .label {font-size:12px; line-height:1.2;padding-top:0;font-weight:normal;white-space:nowrap;padding-right:1.5em}\n",
       ".jsf .label label {font-weight:normal}\n",
       ".jsf .sl { font-size: 11px; white-space: nowrap; }\n",
       ".npb { padding-bottom: 0; color: #f60; text-transform: lowercase;font-weight:bold; }\n",
       ".npl { padding-left: 0 }\n",
       "iframe { display:block; }\n",
       ".acd { border: 1px solid #333; background: #fff; position:absolute; width:100%; z-index: 1; }\n",
       ".aci { font-size: 18px; padding:1px 6px; cursor:pointer; }\n",
       ".acis { background:#36c; color:#fff; }\n",
       "\n",
       "#tjobalerts .ws_label,\n",
       "#bjobalerts .ws_label,\n",
       "#tjobalerts .member,\n",
       "#bjobalerts .member{ z-index: 1; }\n",
       "#acr td { padding-top:0; padding-bottom:0; }\n",
       "#acr td .h { display:none; }\n",
       "\n",
       "#what { width: 280px; }\n",
       "#where { width: 260px; }\n",
       ".inwrapBorder{border:1px solid #1c4ed9;border-top-color:#2f62f1;border-bottom-color:#133fbb;display:inline-block;width:auto}.inwrapBorderTop{border-top:1px solid #69F;display:inline-block;background-color:#3163f2;filter:progid:DXImageTransform.Microsoft.gradient(startColorstr='#3163F2',endColorstr='#2B57D5');background:-webkit-gradient(linear,left top,left bottom,from(#3163f2),to(#2b57d5));background:-moz-linear-gradient(top,#3163f2,#2b57d5);background:linear-gradient(top,#3163f2,#2b57d5)}.inwrapBorder .input_submit{background:transparent;border:0;color:#fff;font-family:Arial;font-size:15px;margin:0;padding:4px 9px;cursor:pointer;_padding:3px}.inwrapBorder a.input_submit{text-decoration:none;display:block}.inwrapBorder:hover{border-color:#235af6;border-top-color:#4072ff;border-bottom-color:#1e4fd9}.inwrapBorderTop:hover{border-top-color:#7ba7ff;background-color:#4273ff;filter:progid:DXImageTransform.Microsoft.gradient(startColorstr='#4273ff',endColorstr='#3364f1');background:-webkit-gradient(linear,left top,left bottom,from(#4273ff),to(#3364f1));background:-moz-linear-gradient(top,#4273ff,#3364f1);background:linear-gradient(top,#4273ff,#3364f1)}.inwrapBorder:active{border-color:#536db7;border-top-color:#4b69c1;border-bottom-color:#3753a6}.inwrapBorder:active .inwrapBorderTop{border-top-color:#6c82c1;background-color:#4b69c1;filter:progid:DXImageTransform.Microsoft.gradient(startColorstr='#4b69c1',endColorstr='#3753a6');background:-webkit-gradient(linear,left top,left bottom,from(#4b69c1),to(#3753a6));background:-moz-linear-gradient(top,#4b69c1,#3753a6);background:linear-gradient(top,#4b69c1,#3753a6)}.roundedCorner{display:inline-block;zoom:1;*display:inline;vertical-align:baseline;margin:0 2px;outline:0;cursor:pointer;text-align:center;text-decoration:none;font:15px/100% Arial,Helvetica,sans-serif;padding:.5em 2em .55em;text-shadow:0 1px 1px rgba(0,0,0,.3);-webkit-border-radius:.5em;-moz-border-radius:.5em;border-radius:.5em;-webkit-box-shadow:0 1px 2px rgba(0,0,0,.2);-moz-box-shadow:0 1px 2px rgba(0,0,0,.2);box-shadow:0 1px 2px rgba(0,0,0,.2)}.roundedCorner:hover{text-decoration:none}.roundedCorner:active{position:relative;top:1px}.bigrounded{-webkit-border-radius:2em;-moz-border-radius:2em;border-radius:2em}.medium{font-size:12px;padding:.4em 1.5em .42em}.small{font-size:11px;padding:.2em 1em .275em}.indeedblue{color:#d9eef7;border:solid 1px #1c4ed9;background:#3163f2;background:-webkit-gradient(linear,left top,left bottom,from(#2f62f1),to(#133fbb));background:-moz-linear-gradient(top,#2f62f1,#133fbb);filter:progid:DXImageTransform.Microsoft.gradient(startColorstr='#2F62F1',endColorstr='#133FBB')}.indeedblue:hover,.indeedblue:focus{background:#235af6;background:-webkit-gradient(linear,left top,left bottom,from(#4072ff),to(#1e4fd9));background:-moz-linear-gradient(top,#4072ff,#1e4fd9);filter:progid:DXImageTransform.Microsoft.gradient(startColorstr='#4072ff',endColorstr='#1e4fd9')}.indeedblue:active{color:#d9eef7;background:-webkit-gradient(linear,left top,left bottom,from(#4b69c1),to(#3753a6));background:-moz-linear-gradient(top,#4b69c1,#3753a6);filter:progid:DXImageTransform.Microsoft.gradient(startColorstr='#4b69c1',endColorstr='#3753a6')}</style>\n",
       "<span id=\"hidden_colon\" style=\"display:none\">:</span>\n",
       "<table border=\"0\" cellpadding=\"0\" cellspacing=\"0\" class=\"jasxcolorcontrasttst-inactive\" role=\"banner\"><tr><td width=\"1125\"><table cellpadding=\"0\" cellspacing=\"0\" class=\"lnav\">\n",
       "<tr>\n",
       "<td id=\"branding-td\" style=\"vertical-align:top;\"><a href=\"/\" id=\"branding\" onmousedown=\"ptk('logo');\"><img alt=\"one search. all jobs. Indeed\" class=\"indeedLogo\" src=\"data:image/gif;base64,R0lGODlhAQABAJEAAAAAAP///////wAAACH5BAEHAAIALAAAAAABAAEAAAICVAEAOw==\" style=\"margin-bottom:6px;display:block;\" title=\"one search. all jobs. Indeed\"/></a></td>\n",
       "<td style=\"padding-top:3px;\" valign=\"top\">\n",
       "<form action=\"/jobs\" class=\"jsf\" id=\"jobsearch\" method=\"get\" name=\"js\" onsubmit=\"formptk('topsearch','where_ac','',['where_ac','what_ac'], ptk);formptk('topsearch','what_ac','w',['where_ac','what_ac'], ptk);\">\n",
       "<table align=\"left\" cellpadding=\"3\" cellspacing=\"0\">\n",
       "<tr>\n",
       "<td class=\"npb\"><label for=\"what\" id=\"what_label_top\">What</label></td>\n",
       "<td class=\"npb\" colspan=\"3\"><label for=\"where\" id=\"where_label_top\">Where</label></td>\n",
       "</tr>\n",
       "<tr role=\"search\">\n",
       "<td class=\"npl epr\"><span class=\"inwrap\"><input aria-labelledby=\"what_label_top hidden_colon what_label\" class=\"input_text\" id=\"what\" maxlength=\"512\" name=\"q\" size=\"31\" value=\"data scientist\"/></span><div style=\"width:250px\"><!-- --></div></td>\n",
       "<td class=\"npl epr\"><span class=\"inwrap\"><input aria-labelledby=\"where_label_top hidden_colon where_label\" class=\"input_text\" id=\"where\" maxlength=\"45\" name=\"l\" size=\"27\" value=\"\"/></span><div style=\"width:200px\"><!-- --></div></td>\n",
       "<td class=\"npl\" style=\"width:1px\"><span class=\"inwrapBorder\" style=\"width:auto;padding-right:0;\"><span class=\"inwrapBorderTop\"><input class=\"input_submit\" id=\"fj\" type=\"submit\" value=\"Find Jobs\"/></span></span></td>\n",
       "<td class=\"npl advanced-search\" style=\"width:240px;\"><div style=\"margin-left:12px; display:flex;\"><a class=\"sl\" href=\"/advanced_search?q=data+scientist\">Advanced Job Search</a></div></td>\n",
       "</tr>\n",
       "<tr id=\"acr\">\n",
       "<td><span class=\"h\"> </span></td>\n",
       "<td class=\"npl\" colspan=\"2\"><div style=\"position:relative;z-index:2\"><div class=\"acd\" id=\"acdiv\" style=\"display:none;\"></div></div></td>\n",
       "<td><span class=\"h\"> </span></td>\n",
       "</tr>\n",
       "<tr id=\"acr\">\n",
       "<td class=\"npl\" colspan=\"3\"><div style=\"position:relative;z-index:2\"><div class=\"acd\" id=\"what_acdiv\" style=\"display:none;\"></div></div></td>\n",
       "<td><span class=\"h\"> </span></td>\n",
       "</tr>\n",
       "<tr valign=\"baseline\">\n",
       "<td class=\"label\" id=\"what_label_cell\">\n",
       "<label aria-hidden=\"true\" for=\"what\" id=\"what_label\">job title, keywords or company</label>\n",
       "</td>\n",
       "<td class=\"label\" colspan=\"3\" id=\"where_label_cell\">\n",
       "<label aria-hidden=\"true\" for=\"where\" id=\"where_label\">city, state, or zip</label>\n",
       "</td>\n",
       "</tr>\n",
       "</table>\n",
       "</form>\n",
       "</td>\n",
       "</tr>\n",
       "</table>\n",
       "</td></tr></table>\n",
       "<script type=\"text/javascript\">\n",
       "\n",
       "        initAutocomplete('where_ac', gbid('where'), gbid('acdiv'), '/rpc/suggest?from=serp&tk=1b9lhuao0bs8rcmh', function() { formptk('topsearch','where_ac', '', ['where_ac','what_ac'], ptk); }, gbid('where'));\n",
       "        \n",
       "        initAutocomplete('what_ac', gbid('what'), gbid('what_acdiv'), '/rpc/suggest?what=true&tk=1b9lhuao0bs8rcmh', function () {formptk('topsearch', 'what_ac', 'w', ['where_ac','what_ac'], ptk);}, gbid('what'));\n",
       "        </script>\n",
       "<script type=\"text/javascript\">\n",
       "function rclk(el,jobdata,oc,sal) { var ocstr = oc ? '&onclick=1' : ''; document.cookie='RCLK=\"jk='+jobdata.jk+'&tk=1b9lhuao0bs8rcmh&from=web&rd='+jobdata.rd+'&qd=7tdTJLF8oc4dPpT7T_zGvGA3XpPBAN42oEhBbwa0-XP0q_5iKGXhGepJfZBzu_OoqAsIw9HujH0CztTTRaXSkBCdf90KmqCgO5Tc-DnD-jkUbVd-yFRwgvj3a5VHVFE5&ts=1487855889152&sal='+sal+ocstr+'\"; path=/'; return true;}\n",
       "function zrprclk(el,jobdata,oc) { var ocstr = oc ? '&onclick=1' : ''; document.cookie='RCLK=\"jk='+jobdata.jk+'&tk=1b9lhuao0bs8rcmh&from=reconzrp&rd='+jobdata.rd+'&qd=7tdTJLF8oc4dPpT7T_zGvGA3XpPBAN42oEhBbwa0-XP0q_5iKGXhGepJfZBzu_OoqAsIw9HujH0CztTTRaXSkBCdf90KmqCgO5Tc-DnD-jkUbVd-yFRwgvj3a5VHVFE5&ts=1487855889152'+ocstr+'\"; path=/'; return true;}\n",
       "function prjbottomclk(el,jobdata,oc) { var ocstr = oc ? '&onclick=1' : ''; document.cookie='RCLK=\"jk='+jobdata.jk+'&tk=1b9lhuao0bs8rcmh&from=reconserp&rd='+jobdata.rd+'&qd=7tdTJLF8oc4dPpT7T_zGvGA3XpPBAN42oEhBbwa0-XP0q_5iKGXhGepJfZBzu_OoqAsIw9HujH0CztTTRaXSkBCdf90KmqCgO5Tc-DnD-jkUbVd-yFRwgvj3a5VHVFE5&ts=1487855889152'+ocstr+'\"; path=/'; return true;}\n",
       "\n",
       "\n",
       "var jobmap = {};\n",
       "\n",
       "jobmap[0]= {jk:'ad7df58708e333df',efccid: 'e3a48f8a4a788271',srcid:'1da7746948f8bb7d',cmpid:'734cb5a01ee60f80',num:'0',srcname:'Microsoft',cmp:'Microsoft',cmpesc:'Microsoft',cmplnk:'/q-Microsoft-jobs.html',loc:'Cambridge, MA',country:'US',zip:'',city:'Cambridge',title:'Principal Data &amp; Applied Scientist',locid:'28b85bba6e466386',rd:'ifLLha17ynEBlt7hho3JcRgkX37emH0ekrmbpZuktJk'};\n",
       "\n",
       "jobmap[1]= {jk:'90b209b70d94a4c4',efccid: '8028746c46b6220b',srcid:'a3a306beea3ea31b',cmpid:'f1374be6a45f4b8a',num:'1',srcname:'Intel',cmp:'Intel',cmpesc:'Intel',cmplnk:'/q-Intel-jobs.html',loc:'Santa Clara, CA 95052',country:'US',zip:'95052',city:'Santa Clara',title:'Data Scientist - Saffron AI Solutions',locid:'762b6cb1bed18908',rd:'KMmgpPP_N8Ma8_Z5coeA6hgkX37emH0ekrmbpZuktJk'};\n",
       "\n",
       "jobmap[2]= {jk:'37f8798199e412aa',efccid: '029ff173a8157ab1',srcid:'e2862ffc7caa4a24',cmpid:'b96af0f21bb424b1',num:'2',srcname:'PrescribeWellness',cmp:'PrescribeWellness',cmpesc:'PrescribeWellness',cmplnk:'/q-PrescribeWellness-jobs.html',loc:'Hingham, MA',country:'US',zip:'',city:'Hingham',title:'Data Scientist',locid:'d99665c94f6ad04b',rd:'0nbXxlm8yujnNeH6qUX3_LmGj5FpbgGqH2Jf8USozo0'};\n",
       "\n",
       "jobmap[3]= {jk:'e6b020151b882269',efccid: '4a5140a5b21c89a9',srcid:'b19349626429c5db',cmpid:'dca1895e1760540c',num:'3',srcname:'Incedo',cmp:'Incedo',cmpesc:'Incedo',cmplnk:'/q-Incedo-jobs.html',loc:'Edison, NJ 08837',country:'US',zip:'08837',city:'Edison',title:'Jr Data\\/Research Analyst',locid:'6978f3e2f6212bdf',rd:'yiFpXy0V5VnR7pRG_LDt71rgftzp3mvOB_nNiDGwCkw'};\n",
       "\n",
       "jobmap[4]= {jk:'4fcf69a50ed97142',efccid: 'eacc908d242186c8',srcid:'af0d1f94256c76a3',cmpid:'822bc5d9a49270ea',num:'4',srcname:'Walmart',cmp:'Walmart',cmpesc:'Walmart',cmplnk:'/q-Walmart-jobs.html',loc:'Bentonville, AR 72712',country:'US',zip:'72712',city:'Bentonville',title:'Associate Data Scientist',locid:'63e1eee988f4ab71',rd:'UoSLGNYeoaCEbrc4zUQx74WUZfsqh4mk55lszt0kyew'};\n",
       "\n",
       "jobmap[5]= {jk:'076067f32375f667',efccid: '2b392226f1b411c9',srcid:'fadf97d857d2c3d4',cmpid:'f89deb5a97c7738a',num:'5',srcname:'Adobe',cmp:'Adobe',cmpesc:'Adobe',cmplnk:'/q-Adobe-jobs.html',loc:'San Jose, CA',country:'US',zip:'',city:'San Jose',title:'Data Scientist Intern',locid:'4a7e972a82badd7a',rd:'ypQSWt1Kpk7SEQoWpXENyhgkX37emH0ekrmbpZuktJk'};\n",
       "\n",
       "jobmap[6]= {jk:'654aaa1fa95caf5f',efccid: 'fcdbee5f182b50a7',srcid:'1a7b29cfa340ea0d',cmpid:'761c44c17d636bfe',num:'6',srcname:'Ford Motor Company',cmp:'Ford Motor Company',cmpesc:'Ford Motor Company',cmplnk:'/q-Ford-Motor-Company-jobs.html',loc:'Dearborn, MI',country:'US',zip:'',city:'Dearborn',title:'Data Scientist',locid:'98bf20002230fc57',rd:'A1kmjcdO9UbIpSbViw6K6lrgftzp3mvOB_nNiDGwCkw'};\n",
       "\n",
       "jobmap[7]= {jk:'aecd2349117e1dbf',efccid: '2a6f05286a26bf2a',srcid:'10d554f2883c46ab',cmpid:'b961bafcaabce98b',num:'7',srcname:'Komodo Health',cmp:'Komodo Health',cmpesc:'Komodo Health',cmplnk:'/q-Komodo-Health-jobs.html',loc:'New York, NY',country:'US',zip:'',city:'New York',title:'Data Scientist',locid:'45f6c4ded55c00bf',rd:'AIC5B1NZEYecQ3bNq-c_eLmGj5FpbgGqH2Jf8USozo0'};\n",
       "\n",
       "jobmap[8]= {jk:'04b27879f7ce90f9',efccid: '9c1aae822ec23e17',srcid:'0023e5c8443f1685',cmpid:'f7a0f0e88ce3d78e',num:'8',srcname:'Reed Elsevier',cmp:'Reed Elsevier',cmpesc:'Reed Elsevier',cmplnk:'/q-Reed-Elsevier-jobs.html',loc:'Philadelphia, PA',country:'US',zip:'',city:'Philadelphia',title:'Data Scientist',locid:'f6285c85bb4a85b4',rd:'id9YYX5O4_uiUP8-vquUmwm6b4j6YfJqCs6uLmLp6EM'};\n",
       "\n",
       "jobmap[9]= {jk:'cf179dd32274e950',efccid: '189991f496eb9ef7',srcid:'fa66034be37c7934',cmpid:'77fc3f137846b728',num:'9',srcname:'Indeed',cmp:'WiserOps, Inc.',cmpesc:'WiserOps, Inc.',cmplnk:'/q-WiserOps-jobs.html',loc:'New York, NY 10001',country:'US',zip:'10001',city:'New York',title:'Data Scientist',locid:'45f6c4ded55c00bf',rd:'0Pmsoov30oFk_hjTcso-wbmGj5FpbgGqH2Jf8USozo0'};\n",
       "</script>\n",
       "<style type=\"text/css\">\n",
       ".jobtitle {\n",
       "font-weight: bold;\n",
       "}\n",
       "td.snip b, span.company b, #femp_list .jobtitle, #cmpinfo_list .jobtitle, .jobtitle .new {\n",
       "font-weight: normal;\n",
       "}\n",
       "</style>\n",
       "<style type=\"text/css\">\n",
       "div.row table tr td.snip { line-height: 1.4; }\n",
       "</style>\n",
       "<table border=\"0\" cellpadding=\"0\" cellspacing=\"0\" id=\"resultsBody\" role=\"main\"><tr><td>\n",
       "<script type=\"text/javascript\">\n",
       "window['ree'] = \"pdsssps\";\n",
       "window['jas'] = \"ijwnZpxBO\";\n",
       "</script>\n",
       "<style type=\"text/css\">\n",
       ".basePromo{margin-top:8px;margin-bottom:13px;padding-left:12px;padding-right:12px}.redText{color:red}.bold{font-weight:bold}.basePromo.resume{font-size:14px;margin-top:5px}.basePromo.resume>img{height:20px;margin-right:5px;margin-bottom:3px;width:16px}</style>\n",
       "<table border=\"0\" cellpadding=\"0\" cellspacing=\"0\" id=\"pageContent\" width=\"100%\">\n",
       "<tr valign=\"top\">\n",
       "<td data-tn-section=\"refineBy\" id=\"refineresultscol\">\n",
       "<div id=\"refineresults\">\n",
       "<h1><font size=\"+1\">data scientist jobs</font></h1>\n",
       "<span aria-level=\"2\" role=\"heading\" style=\"height: 0; overflow: hidden; position: absolute;\">Filter results by:</span>\n",
       "<div style=\"margin-left: 6px; margin-bottom: 1em;\">Sort by: <nobr><b>relevance</b> -\n",
       "            <a href=\"/jobs?q=data+scientist&amp;sort=date\" rel=\"nofollow\">date</a></nobr></div>\n",
       "<div class=\"rbSection rbOpen\" id=\"rb_Salary Estimate\">\n",
       "<div class=\"rbHeader\">\n",
       "<span aria-level=\"3\" class=\"ws_bold\" role=\"heading\">\n",
       "Salary Estimate</span>\n",
       "</div>\n",
       "<div class=\"rbsrbo\" id=\"SALARY_rbo\">\n",
       "<ul class=\"rbList\">\n",
       "<li onmousedown=\"rbptk('rb', 'salest', '1');\">\n",
       "<a href=\"/q-data-scientist-$50,000-jobs.html\" rel=\"nofollow\" title=\"$50,000+ (18513)\">$50,000+</a> (18513)</li>\n",
       "<li onmousedown=\"rbptk('rb', 'salest', '2');\">\n",
       "<a href=\"/q-data-scientist-$65,000-jobs.html\" rel=\"nofollow\" title=\"$65,000+ (15341)\">$65,000+</a> (15341)</li>\n",
       "<li onmousedown=\"rbptk('rb', 'salest', '3');\">\n",
       "<a href=\"/q-data-scientist-$80,000-jobs.html\" rel=\"nofollow\" title=\"$80,000+ (11790)\">$80,000+</a> (11790)</li>\n",
       "<li onmousedown=\"rbptk('rb', 'salest', '4');\">\n",
       "<a href=\"/q-data-scientist-$95,000-jobs.html\" rel=\"nofollow\" title=\"$95,000+ (8290)\">$95,000+</a> (8290)</li>\n",
       "<li onmousedown=\"rbptk('rb', 'salest', '5');\">\n",
       "<a href=\"/q-data-scientist-$115,000-jobs.html\" rel=\"nofollow\" title=\"$115,000+ (4243)\">$115,000+</a> (4243)</li>\n",
       "</ul>\n",
       "</div>\n",
       "</div>\n",
       "<div class=\"rbSection rbOpen\" id=\"rb_Job Type\">\n",
       "<div class=\"rbHeader\">\n",
       "<span aria-level=\"3\" class=\"ws_bold\" role=\"heading\">\n",
       "Job Type</span>\n",
       "</div>\n",
       "<div class=\"rbsrbo\" id=\"JOB_TYPE_rbo\">\n",
       "<ul class=\"rbList\">\n",
       "<li onmousedown=\"rbptk('rb', 'jobtype', '1');\">\n",
       "<a href=\"/jobs?q=data+scientist&amp;jt=fulltime\" rel=\"nofollow\" title=\"Full-time (21267)\">Full-time</a> (21267)</li>\n",
       "<li onmousedown=\"rbptk('rb', 'jobtype', '2');\">\n",
       "<a href=\"/jobs?q=data+scientist&amp;jt=contract\" rel=\"nofollow\" title=\"Contract (1170)\">Contract</a> (1170)</li>\n",
       "<li onmousedown=\"rbptk('rb', 'jobtype', '3');\">\n",
       "<a href=\"/jobs?q=data+scientist&amp;jt=internship\" rel=\"nofollow\" title=\"Internship (717)\">Internship</a> (717)</li>\n",
       "<li onmousedown=\"rbptk('rb', 'jobtype', '4');\">\n",
       "<a href=\"/jobs?q=data+scientist&amp;jt=temporary\" rel=\"nofollow\" title=\"Temporary (579)\">Temporary</a> (579)</li>\n",
       "<li onmousedown=\"rbptk('rb', 'jobtype', '5');\">\n",
       "<a href=\"/jobs?q=data+scientist&amp;jt=parttime\" rel=\"nofollow\" title=\"Part-time (500)\">Part-time</a> (500)</li>\n",
       "<li onmousedown=\"rbptk('rb', 'jobtype', '6');\">\n",
       "<a href=\"/jobs?q=data+scientist&amp;jt=commission\" rel=\"nofollow\" title=\"Commission (61)\">Commission</a> (61)</li>\n",
       "</ul>\n",
       "</div>\n",
       "</div>\n",
       "<div class=\"rbSection rbOpen\" id=\"rb_Location\">\n",
       "<div class=\"rbHeader\">\n",
       "<span aria-level=\"3\" class=\"ws_bold\" role=\"heading\">\n",
       "Location</span>\n",
       "</div>\n",
       "<div class=\"rbsrbo\" id=\"LOCATION_rbo\">\n",
       "<ul class=\"rbList\">\n",
       "<li onmousedown=\"rbptk('rb', 'loc', '1');\">\n",
       "<a href=\"/jobs?q=data+scientist&amp;rbl=New+York,+NY&amp;jlid=45f6c4ded55c00bf\" rel=\"nofollow\" title=\"New York, NY (1946)\">New York, NY</a> (1946)</li>\n",
       "<li onmousedown=\"rbptk('rb', 'loc', '2');\">\n",
       "<a href=\"/jobs?q=data+scientist&amp;rbl=Seattle,+WA&amp;jlid=1e8a7dce52945215\" rel=\"nofollow\" title=\"Seattle, WA (1142)\">Seattle, WA</a> (1142)</li>\n",
       "<li onmousedown=\"rbptk('rb', 'loc', '3');\">\n",
       "<a href=\"/jobs?q=data+scientist&amp;rbl=San+Francisco,+CA&amp;jlid=6cf5e6d389fd6d6b\" rel=\"nofollow\" title=\"San Francisco, CA (865)\">San Francisco, CA</a> (865)</li>\n",
       "<li onmousedown=\"rbptk('rb', 'loc', '4');\">\n",
       "<a href=\"/jobs?q=data+scientist&amp;rbl=Cambridge,+MA&amp;jlid=28b85bba6e466386\" rel=\"nofollow\" title=\"Cambridge, MA (570)\">Cambridge, MA</a> (570)</li>\n",
       "<li onmousedown=\"rbptk('rb', 'loc', '5');\">\n",
       "<a href=\"/jobs?q=data+scientist&amp;rbl=Boston,+MA&amp;jlid=e167aeb8a259bcac\" rel=\"nofollow\" title=\"Boston, MA (560)\">Boston, MA</a> (560)</li>\n",
       "<li class=\"moreLi\" onmousedown=\"rbptk('rb', 'loc', '6');\">\n",
       "<a href=\"/jobs?q=data+scientist&amp;rbl=Chicago,+IL&amp;jlid=402d6ad50e16c894\" rel=\"nofollow\" title=\"Chicago, IL (520)\">Chicago, IL</a> (520)</li>\n",
       "<li class=\"moreLi\" onmousedown=\"rbptk('rb', 'loc', '7');\">\n",
       "<a href=\"/jobs?q=data+scientist&amp;rbl=San+Diego,+CA&amp;jlid=15daff915f69f903\" rel=\"nofollow\" title=\"San Diego, CA (414)\">San Diego, CA</a> (414)</li>\n",
       "<li class=\"moreLi\" onmousedown=\"rbptk('rb', 'loc', '8');\">\n",
       "<a href=\"/jobs?q=data+scientist&amp;rbl=Los+Angeles,+CA&amp;jlid=d05a4fe50c5af0a8\" rel=\"nofollow\" title=\"Los Angeles, CA (349)\">Los Angeles, CA</a> (349)</li>\n",
       "<li class=\"moreLi\" onmousedown=\"rbptk('rb', 'loc', '9');\">\n",
       "<a href=\"/jobs?q=data+scientist&amp;rbl=Washington,+DC&amp;jlid=c08ec92d8c031faa\" rel=\"nofollow\" title=\"Washington, DC (338)\">Washington, DC</a> (338)</li>\n",
       "<li class=\"moreLi\" onmousedown=\"rbptk('rb', 'loc', '10');\">\n",
       "<a href=\"/jobs?q=data+scientist&amp;rbl=Atlanta,+GA&amp;jlid=966e6327a98f7e81\" rel=\"nofollow\" title=\"Atlanta, GA (247)\">Atlanta, GA</a> (247)</li>\n",
       "<li class=\"moreLi\" onmousedown=\"rbptk('rb', 'loc', '11');\">\n",
       "<a href=\"/jobs?q=data+scientist&amp;rbl=Palo+Alto,+CA&amp;jlid=417f86aed2946c16\" rel=\"nofollow\" title=\"Palo Alto, CA (231)\">Palo Alto, CA</a> (231)</li>\n",
       "<li class=\"moreLi\" onmousedown=\"rbptk('rb', 'loc', '12');\">\n",
       "<a href=\"/jobs?q=data+scientist&amp;rbl=Philadelphia,+PA&amp;jlid=f6285c85bb4a85b4\" rel=\"nofollow\" title=\"Philadelphia, PA (211)\">Philadelphia, PA</a> (211)</li>\n",
       "<li class=\"moreLi\" onmousedown=\"rbptk('rb', 'loc', '13');\">\n",
       "<a href=\"/jobs?q=data+scientist&amp;rbl=Austin,+TX&amp;jlid=d2a39b6d57d82344\" rel=\"nofollow\" title=\"Austin, TX (202)\">Austin, TX</a> (202)</li>\n",
       "<li class=\"moreLi\" onmousedown=\"rbptk('rb', 'loc', '14');\">\n",
       "<a href=\"/jobs?q=data+scientist&amp;rbl=San+Jose,+CA&amp;jlid=4a7e972a82badd7a\" rel=\"nofollow\" title=\"San Jose, CA (196)\">San Jose, CA</a> (196)</li>\n",
       "</ul>\n",
       "<div class=\"more_link\"><span onclick=\"showAllRefinements('rb_Location'); return false;\" onkeyup=\"if (event.keyCode == 13) showAllRefinements('rb_Location'); return false;\" tabindex=\"0\">more »</span></div></div>\n",
       "</div>\n",
       "<div class=\"rbSection rbOpen\" id=\"rb_Company\">\n",
       "<div class=\"rbHeader\">\n",
       "<span aria-level=\"3\" class=\"ws_bold\" role=\"heading\">\n",
       "Company</span>\n",
       "</div>\n",
       "<div class=\"rbsrbo\" id=\"COMPANY_rbo\">\n",
       "<ul class=\"rbList\">\n",
       "<li onmousedown=\"rbptk('rb', 'cmp', '1');\">\n",
       "<a href=\"/jobs?q=data+scientist&amp;rbc=Amazon+Web+Services,+Inc.&amp;jcid=12db64101709fb92\" rel=\"nofollow\" title=\"Amazon Web Services, Inc. (708)\">Amazon Web Services, Inc.</a> (708)</li>\n",
       "<li onmousedown=\"rbptk('rb', 'cmp', '2');\">\n",
       "<a href=\"/jobs?q=data+scientist&amp;rbc=NYU+Langone+Medical+Center&amp;jcid=a259fc86b1470609\" rel=\"nofollow\" title=\"NYU Langone Medical Center (336)\">NYU Langone Medical Center</a> (336)</li>\n",
       "<li onmousedown=\"rbptk('rb', 'cmp', '3');\">\n",
       "<a href=\"/jobs?q=data+scientist&amp;rbc=Bristol-Myers+Squibb&amp;jcid=45f7e11d0973ee3a\" rel=\"nofollow\" title=\"Bristol-Myers Squibb (327)\">Bristol-Myers Squibb</a> (327)</li>\n",
       "<li onmousedown=\"rbptk('rb', 'cmp', '4');\">\n",
       "<a href=\"/jobs?q=data+scientist&amp;rbc=Selby+Jennings&amp;jcid=e46dcf251ad893cd\" rel=\"nofollow\" title=\"Selby Jennings (218)\">Selby Jennings</a> (218)</li>\n",
       "<li onmousedown=\"rbptk('rb', 'cmp', '5');\">\n",
       "<a href=\"/jobs?q=data+scientist&amp;rbc=Ball+Aerospace&amp;jcid=82c5e27e77990fa2\" rel=\"nofollow\" title=\"Ball Aerospace (192)\">Ball Aerospace</a> (192)</li>\n",
       "<li class=\"moreLi\" onmousedown=\"rbptk('rb', 'cmp', '6');\">\n",
       "<a href=\"/jobs?q=data+scientist&amp;rbc=Pfizer+Inc.&amp;jcid=5e118f74384e090a\" rel=\"nofollow\" title=\"Pfizer Inc. (165)\">Pfizer Inc.</a> (165)</li>\n",
       "<li class=\"moreLi\" onmousedown=\"rbptk('rb', 'cmp', '7');\">\n",
       "<a href=\"/jobs?q=data+scientist&amp;rbc=Booz+Allen+Hamilton&amp;jcid=4e041af1d0af1bc8\" rel=\"nofollow\" title=\"Booz Allen Hamilton (156)\">Booz Allen Hamilton</a> (156)</li>\n",
       "<li class=\"moreLi\" onmousedown=\"rbptk('rb', 'cmp', '8');\">\n",
       "<a href=\"/jobs?q=data+scientist&amp;rbc=Microsoft&amp;jcid=734cb5a01ee60f80\" rel=\"nofollow\" title=\"Microsoft (136)\">Microsoft</a> (136)</li>\n",
       "<li class=\"moreLi\" onmousedown=\"rbptk('rb', 'cmp', '9');\">\n",
       "<a href=\"/jobs?q=data+scientist&amp;rbc=Weill+Cornell+Medical+College&amp;jcid=eab46b3ba6851e42\" rel=\"nofollow\" title=\"Weill Cornell Medical College (115)\">Weill Cornell Medical College</a> (115)</li>\n",
       "<li class=\"moreLi\" onmousedown=\"rbptk('rb', 'cmp', '10');\">\n",
       "<a href=\"/jobs?q=data+scientist&amp;rbc=Mount+Sinai+Health+System&amp;jcid=c007936ceb766fe5\" rel=\"nofollow\" title=\"Mount Sinai Health System (114)\">Mount Sinai Health System</a> (114)</li>\n",
       "<li class=\"moreLi\" onmousedown=\"rbptk('rb', 'cmp', '11');\">\n",
       "<a href=\"/jobs?q=data+scientist&amp;rbc=ICF&amp;jcid=cc35f9c14f8799a9\" rel=\"nofollow\" title=\"ICF (114)\">ICF</a> (114)</li>\n",
       "<li class=\"moreLi\" onmousedown=\"rbptk('rb', 'cmp', '12');\">\n",
       "<a href=\"/jobs?q=data+scientist&amp;rbc=AbbVie&amp;jcid=8e5fe3bb72b1ffcf\" rel=\"nofollow\" title=\"AbbVie (110)\">AbbVie</a> (110)</li>\n",
       "<li class=\"moreLi\" onmousedown=\"rbptk('rb', 'cmp', '13');\">\n",
       "<a href=\"/jobs?q=data+scientist&amp;rbc=ADP&amp;jcid=e996c2d6855fe778\" rel=\"nofollow\" title=\"ADP (109)\">ADP</a> (109)</li>\n",
       "<li class=\"moreLi\" onmousedown=\"rbptk('rb', 'cmp', '14');\">\n",
       "<a href=\"/jobs?q=data+scientist&amp;rbc=Capital+One&amp;jcid=b85c5070c3d3d8c8\" rel=\"nofollow\" title=\"Capital One (103)\">Capital One</a> (103)</li>\n",
       "<li class=\"moreLi\" onmousedown=\"rbptk('rb', 'cmp', '15');\">\n",
       "<a href=\"/jobs?q=data+scientist&amp;rbc=Walmart+eCommerce&amp;jcid=8c49e99f20f89e48\" rel=\"nofollow\" title=\"Walmart eCommerce (102)\">Walmart eCommerce</a> (102)</li>\n",
       "</ul>\n",
       "<div class=\"more_link\"><span onclick=\"showAllRefinements('rb_Company'); return false;\" onkeyup=\"if (event.keyCode == 13) showAllRefinements('rb_Company'); return false;\" tabindex=\"0\">more »</span></div></div>\n",
       "</div>\n",
       "<div class=\"rbSection rbOpen\" id=\"rb_Experience Level\">\n",
       "<div class=\"rbHeader\">\n",
       "<span aria-level=\"3\" class=\"ws_bold\" role=\"heading\">\n",
       "Experience Level</span>\n",
       "</div>\n",
       "<div class=\"rbsrbo\" id=\"EXP_LVL_rbo\">\n",
       "<ul class=\"rbList\">\n",
       "<li onmousedown=\"rbptk('rb', 'explvl', '1');\">\n",
       "<a href=\"/jobs?q=data+scientist&amp;explvl=mid_level\" rel=\"nofollow\" title=\"Mid Level (9318)\">Mid Level</a> (9318)</li>\n",
       "<li onmousedown=\"rbptk('rb', 'explvl', '2');\">\n",
       "<a href=\"/jobs?q=data+scientist&amp;explvl=entry_level\" rel=\"nofollow\" title=\"Entry Level (6367)\">Entry Level</a> (6367)</li>\n",
       "<li onmousedown=\"rbptk('rb', 'explvl', '3');\">\n",
       "<a href=\"/jobs?q=data+scientist&amp;explvl=senior_level\" rel=\"nofollow\" title=\"Senior Level (3535)\">Senior Level</a> (3535)</li>\n",
       "</ul>\n",
       "</div>\n",
       "</div>\n",
       "</div>\n",
       "</td>\n",
       "<td id=\"resultsCol\">\n",
       "<div class=\"messageContainer\">\n",
       "<script type=\"text/javascript\">\n",
       "function setJaPromoCookie() {\n",
       "var expires = new Date();\n",
       "expires.setTime(expires.getTime() + (5 * 365 * 24 * 60 * 60 * 1000));\n",
       "setCookie(\"showJaPromo\", \"1\", expires);\n",
       "}\n",
       "function setRefineByCookie(refineByTypes) {\n",
       "var expires = new Date();\n",
       "expires.setTime(expires.getTime() + (10 * 1000));\n",
       "for (var i = 0; i < refineByTypes.length; i++) {\n",
       "setCookie(refineByTypes[i], \"1\", expires);\n",
       "}\n",
       "}\n",
       "</script>\n",
       "<p class=\"message\">Tip: Enter your zip code in the \"where\" box to show results in your area.</p>\n",
       "</div>\n",
       "<style type=\"text/css\">\n",
       "#increased_radius_result {\n",
       "font-size: 16px;\n",
       "font-style: italic;\n",
       "}\n",
       "#original_radius_result{\n",
       "font-size: 13px;\n",
       "font-style: italic;\n",
       "}\n",
       "</style>\n",
       "<div class=\"resultsTop\"><div id=\"searchCount\">Jobs 1 to 10 of 23,095</div>\n",
       "<div data-tn-section=\"primePromo\" id=\"primePromo\">\n",
       "<span class=\"new\">New!</span> <a href=\"/promo/prime\" onclick=\"this.href = appendParamsOnce( this.href, '?from=serptop&amp;subfrom=primeprmtop&amp;trk.origin=jobsearch&amp;trk.variant=primeprmtop&amp;trk.tk=1b9lhuao0bs8rcmh&amp;vertical=TECH&amp;x_isid=serptop&amp;x_ikw=data+scientist&amp;x_sid=serptop&amp;x_kw=data+scientist')\">Join Indeed Prime</a> - Get offers from great tech companies</div></div>\n",
       "<a id=\"jobPostingsAnchor\" tabindex=\"-1\"></a>\n",
       "<div class=\" row result\" data-jk=\"ad7df58708e333df\" data-tn-component=\"organicJob\" id=\"p_ad7df58708e333df\" itemscope=\"\" itemtype=\"http://schema.org/JobPosting\">\n",
       "<h2 class=\"jobtitle\" id=\"jl_ad7df58708e333df\">\n",
       "<a class=\"turnstileLink\" data-tn-element=\"jobTitle\" href=\"/rc/clk?jk=ad7df58708e333df&amp;fccid=734cb5a01ee60f80\" itemprop=\"title\" onclick=\"setRefineByCookie([]); return rclk(this,jobmap[0],true,0);\" onmousedown=\"return rclk(this,jobmap[0],0);\" rel=\"nofollow\" target=\"_blank\" title=\"Principal Data &amp; Applied Scientist\">Principal <b>Data</b> &amp; Applied <b>Scientist</b></a>\n",
       "</h2>\n",
       "<span class=\"company\" itemprop=\"hiringOrganization\" itemtype=\"http://schema.org/Organization\">\n",
       "<span itemprop=\"name\">\n",
       "<a href=\"/cmp/Microsoft\" onmousedown=\"this.href = appendParamsOnce(this.href, 'from=SERP&amp;campaignid=serp-linkcompanyname&amp;fromjk=ad7df58708e333df&amp;jcid=734cb5a01ee60f80')\" target=\"_blank\">\n",
       "        Microsoft</a></span>\n",
       "</span>\n",
       "\n",
       " - <a class=\"turnstileLink slNoUnderline \" data-tn-element=\"reviewStars\" data-tn-variant=\"cmplinktst2\" href=\"/cmp/Microsoft/reviews\" onmousedown=\"this.href = appendParamsOnce(this.href, '?campaignid=cmplinktst2&amp;from=SERP&amp;jt=Principal+Data+%26+Applied+Scientist&amp;fromjk=ad7df58708e333df&amp;jcid=734cb5a01ee60f80');\" target=\"_blank\" title=\"Microsoft reviews\">\n",
       "<span class=\"ratings\" style=\"height: 11px; line-height: 11px; background-image: url(/images/cmp/star_2_sm@2x.png); background-size: 12px 22px;width: 60px;\"><span class=\"rating\" style=\"height: 11px; line-height: 11px; background-image: url(/images/cmp/star_2_sm@2x.png); background-size: 12px 22px;background-position: 0 11px; width: 52.199997px;\"><!-- --></span></span><span class=\"slNoUnderline\">2,738 reviews</span></a>\n",
       " - <span itemprop=\"jobLocation\" itemscope=\"\" itemtype=\"http://schema.org/Place\"><span class=\"location\" itemprop=\"address\" itemscope=\"\" itemtype=\"http://schema.org/Postaladdress\"><span itemprop=\"addressLocality\">Cambridge, MA</span></span></span>\n",
       "<table border=\"0\" cellpadding=\"0\" cellspacing=\"0\">\n",
       "<tr>\n",
       "<td class=\"snip\">\n",
       "<div>\n",
       "<span class=\"summary\" itemprop=\"description\">\n",
       "Our partners are building amazing applications and we are looking for a <b>Data</b> <b>Scientist</b> with strong analytical and developer skills to join the DX Technical Team...</span>\n",
       "</div>\n",
       "<div class=\"result-link-bar-container\">\n",
       "<div class=\"result-link-bar\"><span class=\"date\">19 days ago</span> <span class=\"tt_set\" id=\"tt_set_0\">  -  <span class=\"savelink2\" id=\"savelink2_ad7df58708e333df\"><a class=\"sl resultLink save-job-link\" href=\"#\" id=\"sj_ad7df58708e333df\" onclick=\"changeJobState('ad7df58708e333df', 'save', 'linkbar', false);return false;\" title=\"Save this job to my.indeed\">save job</a></span> - <a class=\"sl resultLink more-link \" href=\"#\" id=\"tog_0\" onclick=\"toggleMoreLinks('ad7df58708e333df'); return false;\">more...</a></span><div class=\"edit_note_content\" id=\"editsaved2_ad7df58708e333df\" style=\"display:none;\"></div><script>window['result_ad7df58708e333df'] = {\"showSource\": false, \"source\": \"Microsoft\", \"loggedIn\": false, \"showMyJobsLinks\": true,\"undoAction\": \"unsave\",\"relativeJobAge\": \"19 days ago\",\"jobKey\": \"ad7df58708e333df\", \"myIndeedAvailable\": true, \"tellAFriendEnabled\": false, \"showMoreActionsLink\": true, \"resultNumber\": 0, \"jobStateChangedToSaved\": false, \"searchState\": \"q=data scientist&amp;\", \"basicPermaLink\": \"http://www.indeed.com\", \"saveJobFailed\": false, \"removeJobFailed\": false, \"requestPending\": false, \"notesEnabled\": true, \"currentPage\" : \"serp\", \"sponsored\" : false,\"reportJobButtonEnabled\": false, \"showMyJobsHired\": false, \"showSaveForSponsored\": false, \"showJobAge\": true};</script></div></div>\n",
       "<div class=\"tab-container\">\n",
       "<div class=\"more-links-container result-tab\" id=\"tt_display_0\" style=\"display:none;\"><a class=\"close-link closeLink\" href=\"#\" onclick=\"toggleMoreLinks('ad7df58708e333df'); return false;\" title=\"Close\"></a><div class=\"more_actions\" id=\"more_0\"><ul><li><span class=\"mat\">View all <a href=\"/q-Microsoft-l-Cambridge,-MA-jobs.html\" rel=\"nofollow\">Microsoft jobs in Cambridge, MA</a> - <a href=\"/l-Cambridge,-MA-jobs.html\">Cambridge jobs</a></span></li><li><span class=\"mat\">Salary Search: <a href=\"/salaries/Principal-Scientist-Salaries,-Cambridge-MA\" onmousedown=\"this.href = appendParamsOnce(this.href, '?campaignid=serp-more&amp;fromjk=ad7df58708e333df&amp;from=serp-more');\">Principal Scientist salaries in Cambridge, MA</a></span></li><li><span class=\"mat\">Learn more about working at <a href=\"/cmp/Microsoft\" onmousedown=\"this.href = appendParamsOnce(this.href, '?fromjk=ad7df58708e333df&amp;from=serp-more&amp;campaignid=serp-more&amp;jcid=734cb5a01ee60f80');\">Microsoft</a></span></li><li><span class=\"mat\"><a href=\"/cmp/Microsoft/faq\" onmousedown=\"this.href = appendParamsOnce(this.href, '?from=serp-more&amp;campaignid=serp-more&amp;fromjk=ad7df58708e333df&amp;jcid=734cb5a01ee60f80');\">Microsoft questions about work, benefits, interviews and hiring process:</a><ul><li><a href=\"/cmp/Microsoft/faq/what-is-the-work-environment-and-culture-like-at-microsoft?quid=1ams0agvb5nco8fi\" onmousedown=\"this.href = appendParamsOnce(this.href, '?from=serp-more&amp;campaignid=serp-more&amp;fromjk=ad7df58708e333df&amp;jcid=734cb5a01ee60f80');\">What is the work environment and culture like at Microsoft?</a></li><li><a href=\"/cmp/Microsoft/faq/does-this-company-hire-temporary-contract-workers-on-permanent?quid=1b3d15bs9akab8u6\" onmousedown=\"this.href = appendParamsOnce(this.href, '?from=serp-more&amp;campaignid=serp-more&amp;fromjk=ad7df58708e333df&amp;jcid=734cb5a01ee60f80');\">Does this company hire temporary/contract workers on permanent?</a></li></ul></span></li><li><span class=\"mat\">Related forums: <a href=\"/forum/cmp/Microsoft.html\">Microsoft</a> - <a href=\"/forum/loc/Cambridge-Massachusetts.html\">Cambridge, Massachusetts</a></span></li></ul></div></div><div class=\"dya-container result-tab\"></div>\n",
       "<div class=\"tellafriend-container result-tab email_job_content\"></div>\n",
       "<div class=\"sign-in-container result-tab\"></div>\n",
       "<div class=\"notes-container result-tab\"></div>\n",
       "</div>\n",
       "</td>\n",
       "</tr>\n",
       "</table>\n",
       "</div>\n",
       "<div class=\" row result\" data-jk=\"90b209b70d94a4c4\" data-tn-component=\"organicJob\" id=\"p_90b209b70d94a4c4\" itemscope=\"\" itemtype=\"http://schema.org/JobPosting\">\n",
       "<h2 class=\"jobtitle\" id=\"jl_90b209b70d94a4c4\">\n",
       "<a class=\"turnstileLink\" data-tn-element=\"jobTitle\" href=\"/rc/clk?jk=90b209b70d94a4c4&amp;fccid=f1374be6a45f4b8a\" itemprop=\"title\" onclick=\"setRefineByCookie([]); return rclk(this,jobmap[1],true,0);\" onmousedown=\"return rclk(this,jobmap[1],0);\" rel=\"nofollow\" target=\"_blank\" title=\"Data Scientist - Saffron AI Solutions\"><b>Data</b> <b>Scientist</b> - Saffron AI Solutions</a>\n",
       "</h2>\n",
       "<span class=\"company\" itemprop=\"hiringOrganization\" itemtype=\"http://schema.org/Organization\">\n",
       "<span itemprop=\"name\">\n",
       "<a href=\"/cmp/Intel\" onmousedown=\"this.href = appendParamsOnce(this.href, 'from=SERP&amp;campaignid=serp-linkcompanyname&amp;fromjk=90b209b70d94a4c4&amp;jcid=f1374be6a45f4b8a')\" target=\"_blank\">\n",
       "        Intel</a></span>\n",
       "</span>\n",
       "\n",
       " - <a class=\"turnstileLink slNoUnderline \" data-tn-element=\"reviewStars\" data-tn-variant=\"cmplinktst2\" href=\"/cmp/Intel/reviews\" onmousedown=\"this.href = appendParamsOnce(this.href, '?campaignid=cmplinktst2&amp;from=SERP&amp;jt=Data+Scientist+-+Saffron+AI+Solutions&amp;fromjk=90b209b70d94a4c4&amp;jcid=f1374be6a45f4b8a');\" target=\"_blank\" title=\"Intel reviews\">\n",
       "<span class=\"ratings\" style=\"height: 11px; line-height: 11px; background-image: url(/images/cmp/star_2_sm@2x.png); background-size: 12px 22px;width: 60px;\"><span class=\"rating\" style=\"height: 11px; line-height: 11px; background-image: url(/images/cmp/star_2_sm@2x.png); background-size: 12px 22px;background-position: 0 11px; width: 52.199997px;\"><!-- --></span></span><span class=\"slNoUnderline\">2,166 reviews</span></a>\n",
       " - <span itemprop=\"jobLocation\" itemscope=\"\" itemtype=\"http://schema.org/Place\"><span class=\"location\" itemprop=\"address\" itemscope=\"\" itemtype=\"http://schema.org/Postaladdress\"><span itemprop=\"addressLocality\">Santa Clara, CA 95052</span></span></span>\n",
       "<table border=\"0\" cellpadding=\"0\" cellspacing=\"0\">\n",
       "<tr>\n",
       "<td class=\"snip\">\n",
       "<div>\n",
       "<span class=\"summary\" itemprop=\"description\">\n",
       "Use predictive modeling, machine learning, <b>data</b> mining, and/or any other <b>data</b> analysis techniques to extract insights from large unstructured or structured <b>data</b>...</span>\n",
       "</div>\n",
       "<div class=\"result-link-bar-container\">\n",
       "<div class=\"result-link-bar\"><span class=\"date\">2 hours ago</span> <span class=\"tt_set\" id=\"tt_set_1\">  -  <span class=\"savelink2\" id=\"savelink2_90b209b70d94a4c4\"><a class=\"sl resultLink save-job-link\" href=\"#\" id=\"sj_90b209b70d94a4c4\" onclick=\"changeJobState('90b209b70d94a4c4', 'save', 'linkbar', false);return false;\" title=\"Save this job to my.indeed\">save job</a></span> - <a class=\"sl resultLink more-link \" href=\"#\" id=\"tog_1\" onclick=\"toggleMoreLinks('90b209b70d94a4c4'); return false;\">more...</a></span><div class=\"edit_note_content\" id=\"editsaved2_90b209b70d94a4c4\" style=\"display:none;\"></div><script>window['result_90b209b70d94a4c4'] = {\"showSource\": false, \"source\": \"Intel\", \"loggedIn\": false, \"showMyJobsLinks\": true,\"undoAction\": \"unsave\",\"relativeJobAge\": \"2 hours ago\",\"jobKey\": \"90b209b70d94a4c4\", \"myIndeedAvailable\": true, \"tellAFriendEnabled\": false, \"showMoreActionsLink\": true, \"resultNumber\": 1, \"jobStateChangedToSaved\": false, \"searchState\": \"q=data scientist&amp;\", \"basicPermaLink\": \"http://www.indeed.com\", \"saveJobFailed\": false, \"removeJobFailed\": false, \"requestPending\": false, \"notesEnabled\": true, \"currentPage\" : \"serp\", \"sponsored\" : false,\"reportJobButtonEnabled\": false, \"showMyJobsHired\": false, \"showSaveForSponsored\": false, \"showJobAge\": true};</script></div></div>\n",
       "<div class=\"tab-container\">\n",
       "<div class=\"more-links-container result-tab\" id=\"tt_display_1\" style=\"display:none;\"><a class=\"close-link closeLink\" href=\"#\" onclick=\"toggleMoreLinks('90b209b70d94a4c4'); return false;\" title=\"Close\"></a><div class=\"more_actions\" id=\"more_1\"><ul><li><span class=\"mat\">View all <a href=\"/q-Intel-l-Santa-Clara,-CA-jobs.html\" rel=\"nofollow\">Intel jobs in Santa Clara, CA</a> - <a href=\"/l-Santa-Clara,-CA-jobs.html\">Santa Clara jobs</a></span></li><li><span class=\"mat\">Salary Search: <a href=\"/salaries/Data-Scientist-Salaries,-Santa-Clara-CA\" onmousedown=\"this.href = appendParamsOnce(this.href, '?campaignid=serp-more&amp;fromjk=90b209b70d94a4c4&amp;from=serp-more');\">Data Scientist salaries in Santa Clara, CA</a></span></li><li><span class=\"mat\">Learn more about working at <a href=\"/cmp/Intel\" onmousedown=\"this.href = appendParamsOnce(this.href, '?fromjk=90b209b70d94a4c4&amp;from=serp-more&amp;campaignid=serp-more&amp;jcid=f1374be6a45f4b8a');\">Intel</a></span></li><li><span class=\"mat\"><a href=\"/cmp/Intel/faq\" onmousedown=\"this.href = appendParamsOnce(this.href, '?from=serp-more&amp;campaignid=serp-more&amp;fromjk=90b209b70d94a4c4&amp;jcid=f1374be6a45f4b8a');\">Intel questions about work, benefits, interviews and hiring process:</a><ul><li><a href=\"/cmp/Intel/faq/what-benefits-does-the-company-provide?quid=1alla1csvb85ab14\" onmousedown=\"this.href = appendParamsOnce(this.href, '?from=serp-more&amp;campaignid=serp-more&amp;fromjk=90b209b70d94a4c4&amp;jcid=f1374be6a45f4b8a');\">What benefits does the company provide?</a></li><li><a href=\"/cmp/Intel/faq/how-did-you-get-your-first-interview-at-intel?quid=1akoobgvtb83seu0\" onmousedown=\"this.href = appendParamsOnce(this.href, '?from=serp-more&amp;campaignid=serp-more&amp;fromjk=90b209b70d94a4c4&amp;jcid=f1374be6a45f4b8a');\">How did you get your first interview at Intel?</a></li></ul></span></li><li><span class=\"mat\">Related forums: <a href=\"/forum/loc/Santa-Clara-California.html\">Santa Clara, California</a> - <a href=\"/forum/cmp/Intel.html\">Intel</a></span></li></ul></div></div><div class=\"dya-container result-tab\"></div>\n",
       "<div class=\"tellafriend-container result-tab email_job_content\"></div>\n",
       "<div class=\"sign-in-container result-tab\"></div>\n",
       "<div class=\"notes-container result-tab\"></div>\n",
       "</div>\n",
       "</td>\n",
       "</tr>\n",
       "</table>\n",
       "</div>\n",
       "<div class=\" row result\" data-jk=\"37f8798199e412aa\" data-tn-component=\"organicJob\" id=\"p_37f8798199e412aa\" itemscope=\"\" itemtype=\"http://schema.org/JobPosting\">\n",
       "<h2 class=\"jobtitle\" id=\"jl_37f8798199e412aa\">\n",
       "<a class=\"turnstileLink\" data-tn-element=\"jobTitle\" href=\"/rc/clk?jk=37f8798199e412aa&amp;fccid=3471dc3e4d5391fa\" itemprop=\"title\" onclick=\"setRefineByCookie([]); return rclk(this,jobmap[2],true,0);\" onmousedown=\"return rclk(this,jobmap[2],0);\" rel=\"nofollow\" target=\"_blank\" title=\"Data Scientist\"><b>Data</b> <b>Scientist</b></a>\n",
       "</h2>\n",
       "<span class=\"company\" itemprop=\"hiringOrganization\" itemtype=\"http://schema.org/Organization\">\n",
       "<span itemprop=\"name\">\n",
       "    PrescribeWellness</span>\n",
       "</span>\n",
       "\n",
       " - <span itemprop=\"jobLocation\" itemscope=\"\" itemtype=\"http://schema.org/Place\"><span class=\"location\" itemprop=\"address\" itemscope=\"\" itemtype=\"http://schema.org/Postaladdress\"><span itemprop=\"addressLocality\">Hingham, MA</span></span></span>\n",
       "<table border=\"0\" cellpadding=\"0\" cellspacing=\"0\">\n",
       "<tr>\n",
       "<td class=\"snip\">\n",
       "<div>\n",
       "<span class=\"summary\" itemprop=\"description\">\n",
       "You will also be responsible for adhoc and custom projects requested by PrescribeWellness’ top clients and partners in order to improve patient health and...</span>\n",
       "</div>\n",
       "<div class=\"iaP\">\n",
       "<span class=\"iaLabel\"> Easily apply</span>\n",
       "</div>\n",
       "<div class=\"result-link-bar-container\">\n",
       "<div class=\"result-link-bar\"><span class=\"date\">7 days ago</span> <span class=\"tt_set\" id=\"tt_set_2\">  -  <span class=\"savelink2\" id=\"savelink2_37f8798199e412aa\"><a class=\"sl resultLink save-job-link\" href=\"#\" id=\"sj_37f8798199e412aa\" onclick=\"changeJobState('37f8798199e412aa', 'save', 'linkbar', false);return false;\" title=\"Save this job to my.indeed\">save job</a></span> - <a class=\"sl resultLink more-link \" href=\"#\" id=\"tog_2\" onclick=\"toggleMoreLinks('37f8798199e412aa'); return false;\">more...</a></span><div class=\"edit_note_content\" id=\"editsaved2_37f8798199e412aa\" style=\"display:none;\"></div><script>window['result_37f8798199e412aa'] = {\"showSource\": false, \"source\": \"PrescribeWellness\", \"loggedIn\": false, \"showMyJobsLinks\": true,\"undoAction\": \"unsave\",\"relativeJobAge\": \"7 days ago\",\"jobKey\": \"37f8798199e412aa\", \"myIndeedAvailable\": true, \"tellAFriendEnabled\": false, \"showMoreActionsLink\": true, \"resultNumber\": 2, \"jobStateChangedToSaved\": false, \"searchState\": \"q=data scientist&amp;\", \"basicPermaLink\": \"http://www.indeed.com\", \"saveJobFailed\": false, \"removeJobFailed\": false, \"requestPending\": false, \"notesEnabled\": true, \"currentPage\" : \"serp\", \"sponsored\" : false,\"reportJobButtonEnabled\": false, \"showMyJobsHired\": false, \"showSaveForSponsored\": false, \"showJobAge\": true};</script></div></div>\n",
       "<div class=\"tab-container\">\n",
       "<div class=\"more-links-container result-tab\" id=\"tt_display_2\" style=\"display:none;\"><a class=\"close-link closeLink\" href=\"#\" onclick=\"toggleMoreLinks('37f8798199e412aa'); return false;\" title=\"Close\"></a><div class=\"more_actions\" id=\"more_2\"><ul><li><span class=\"mat\">View all <a href=\"/q-Prescribewellness-l-Hingham,-MA-jobs.html\" rel=\"nofollow\">PrescribeWellness jobs in Hingham, MA</a> - <a href=\"/l-Hingham,-MA-jobs.html\">Hingham jobs</a></span></li><li><span class=\"mat\">Salary Search: <a href=\"/salaries/Data-Scientist-Salaries,-Hingham-MA\" onmousedown=\"this.href = appendParamsOnce(this.href, '?campaignid=serp-more&amp;fromjk=37f8798199e412aa&amp;from=serp-more-nofollow');\" rel='\"nofollow\"'>Data Scientist salaries in Hingham, MA</a></span></li><li><span class=\"mat\">Learn more about working at <a href=\"/cmp/Prescribewellness\" onmousedown=\"this.href = appendParamsOnce(this.href, '?fromjk=37f8798199e412aa&amp;from=serp-more&amp;campaignid=serp-more&amp;jcid=b96af0f21bb424b1');\">Prescribewellness</a></span></li><li><span class=\"mat\">Related forums: <a href=\"/forum/loc/Hingham-Massachusetts.html\">Hingham, Massachusetts</a> - <a href=\"/forum/cmp/Prescribewellness.html\">PrescribeWellness</a></span></li></ul></div></div><div class=\"dya-container result-tab\"></div>\n",
       "<div class=\"tellafriend-container result-tab email_job_content\"></div>\n",
       "<div class=\"sign-in-container result-tab\"></div>\n",
       "<div class=\"notes-container result-tab\"></div>\n",
       "</div>\n",
       "</td>\n",
       "</tr>\n",
       "</table>\n",
       "</div>\n",
       "<div class=\" row result\" data-jk=\"e6b020151b882269\" data-tn-component=\"organicJob\" id=\"p_e6b020151b882269\" itemscope=\"\" itemtype=\"http://schema.org/JobPosting\">\n",
       "<h2 class=\"jobtitle\" id=\"jl_e6b020151b882269\">\n",
       "<a class=\"turnstileLink\" data-tn-element=\"jobTitle\" href=\"/rc/clk?jk=e6b020151b882269&amp;fccid=dca1895e1760540c\" itemprop=\"title\" onclick=\"setRefineByCookie([]); return rclk(this,jobmap[3],true,0);\" onmousedown=\"return rclk(this,jobmap[3],0);\" rel=\"nofollow\" target=\"_blank\" title=\"Jr Data/Research Analyst\">Jr <b>Data</b>/Research Analyst</a>\n",
       "</h2>\n",
       "<span class=\"company\" itemprop=\"hiringOrganization\" itemtype=\"http://schema.org/Organization\">\n",
       "<span itemprop=\"name\">\n",
       "<a href=\"/cmp/Incedo\" onmousedown=\"this.href = appendParamsOnce(this.href, 'from=SERP&amp;campaignid=serp-linkcompanyname&amp;fromjk=e6b020151b882269&amp;jcid=dca1895e1760540c')\" target=\"_blank\">\n",
       "        Incedo</a></span>\n",
       "</span>\n",
       "\n",
       " - <a class=\"turnstileLink slNoUnderline \" data-tn-element=\"reviewStars\" data-tn-variant=\"cmplinktst2\" href=\"/cmp/Incedo/reviews\" onmousedown=\"this.href = appendParamsOnce(this.href, '?campaignid=cmplinktst2&amp;from=SERP&amp;jt=Jr+Data%5C%2FResearch+Analyst&amp;fromjk=e6b020151b882269&amp;jcid=dca1895e1760540c');\" target=\"_blank\" title=\"Incedo reviews\">\n",
       "<span class=\"ratings\" style=\"height: 11px; line-height: 11px; background-image: url(/images/cmp/star_2_sm@2x.png); background-size: 12px 22px;width: 60px;\"><span class=\"rating\" style=\"height: 11px; line-height: 11px; background-image: url(/images/cmp/star_2_sm@2x.png); background-size: 12px 22px;background-position: 0 11px; width: 52.800003px;\"><!-- --></span></span><span class=\"slNoUnderline\">3 reviews</span></a>\n",
       " - <span itemprop=\"jobLocation\" itemscope=\"\" itemtype=\"http://schema.org/Place\"><span class=\"location\" itemprop=\"address\" itemscope=\"\" itemtype=\"http://schema.org/Postaladdress\"><span itemprop=\"addressLocality\">Edison, NJ 08837</span></span></span>\n",
       "<table border=\"0\" cellpadding=\"0\" cellspacing=\"0\">\n",
       "<tr>\n",
       "<td class=\"snip\">\n",
       "<div>\n",
       "<span class=\"summary\" itemprop=\"description\">\n",
       "Title: Jr Data/Research Analyst Location: Edison, NJ Full Time. Job Responsibility: Good research and analytical skills. Good written and verbal</span>\n",
       "</div>\n",
       "<div class=\"result-link-bar-container\">\n",
       "<div class=\"result-link-bar\"><span class=\"date\">5 days ago</span> <span class=\"tt_set\" id=\"tt_set_3\">  -  <span class=\"savelink2\" id=\"savelink2_e6b020151b882269\"><a class=\"sl resultLink save-job-link\" href=\"#\" id=\"sj_e6b020151b882269\" onclick=\"changeJobState('e6b020151b882269', 'save', 'linkbar', false);return false;\" title=\"Save this job to my.indeed\">save job</a></span> - <a class=\"sl resultLink more-link \" href=\"#\" id=\"tog_3\" onclick=\"toggleMoreLinks('e6b020151b882269'); return false;\">more...</a></span><div class=\"edit_note_content\" id=\"editsaved2_e6b020151b882269\" style=\"display:none;\"></div><script>window['result_e6b020151b882269'] = {\"showSource\": false, \"source\": \"Incedo\", \"loggedIn\": false, \"showMyJobsLinks\": true,\"undoAction\": \"unsave\",\"relativeJobAge\": \"5 days ago\",\"jobKey\": \"e6b020151b882269\", \"myIndeedAvailable\": true, \"tellAFriendEnabled\": false, \"showMoreActionsLink\": true, \"resultNumber\": 3, \"jobStateChangedToSaved\": false, \"searchState\": \"q=data scientist&amp;\", \"basicPermaLink\": \"http://www.indeed.com\", \"saveJobFailed\": false, \"removeJobFailed\": false, \"requestPending\": false, \"notesEnabled\": true, \"currentPage\" : \"serp\", \"sponsored\" : false,\"reportJobButtonEnabled\": false, \"showMyJobsHired\": false, \"showSaveForSponsored\": false, \"showJobAge\": true};</script></div></div>\n",
       "<div class=\"tab-container\">\n",
       "<div class=\"more-links-container result-tab\" id=\"tt_display_3\" style=\"display:none;\"><a class=\"close-link closeLink\" href=\"#\" onclick=\"toggleMoreLinks('e6b020151b882269'); return false;\" title=\"Close\"></a><div class=\"more_actions\" id=\"more_3\"><ul><li><span class=\"mat\">View all <a href=\"/q-Incedo-l-Edison,-NJ-jobs.html\" rel=\"nofollow\">Incedo jobs in Edison, NJ</a> - <a href=\"/l-Edison,-NJ-jobs.html\">Edison jobs</a></span></li><li><span class=\"mat\">Salary Search: <a href=\"/salaries/Junior-Data-Analyst-Salaries,-Edison-NJ\" onmousedown=\"this.href = appendParamsOnce(this.href, '?campaignid=serp-more&amp;fromjk=e6b020151b882269&amp;from=serp-more-nofollow');\" rel='\"nofollow\"'>Junior Data Analyst salaries in Edison, NJ</a></span></li><li><span class=\"mat\">Related forums: <a href=\"/forum/loc/Edison-New-Jersey.html\">Edison, New Jersey</a> - <a href=\"/forum/cmp/Incedo.html\">INCEDO</a></span></li></ul></div></div><div class=\"dya-container result-tab\"></div>\n",
       "<div class=\"tellafriend-container result-tab email_job_content\"></div>\n",
       "<div class=\"sign-in-container result-tab\"></div>\n",
       "<div class=\"notes-container result-tab\"></div>\n",
       "</div>\n",
       "</td>\n",
       "</tr>\n",
       "</table>\n",
       "</div>\n",
       "<div class=\" row result\" data-jk=\"4fcf69a50ed97142\" data-tn-component=\"organicJob\" id=\"p_4fcf69a50ed97142\" itemscope=\"\" itemtype=\"http://schema.org/JobPosting\">\n",
       "<h2 class=\"jobtitle\" id=\"jl_4fcf69a50ed97142\">\n",
       "<a class=\"turnstileLink\" data-tn-element=\"jobTitle\" href=\"/rc/clk?jk=4fcf69a50ed97142&amp;fccid=822bc5d9a49270ea\" itemprop=\"title\" onclick=\"setRefineByCookie([]); return rclk(this,jobmap[4],true,0);\" onmousedown=\"return rclk(this,jobmap[4],0);\" rel=\"nofollow\" target=\"_blank\" title=\"Associate Data Scientist\">Associate <b>Data</b> <b>Scientist</b></a>\n",
       "</h2>\n",
       "<span class=\"company\" itemprop=\"hiringOrganization\" itemtype=\"http://schema.org/Organization\">\n",
       "<span itemprop=\"name\">\n",
       "<a href=\"/cmp/Walmart\" onmousedown=\"this.href = appendParamsOnce(this.href, 'from=SERP&amp;campaignid=serp-linkcompanyname&amp;fromjk=4fcf69a50ed97142&amp;jcid=822bc5d9a49270ea')\" target=\"_blank\">\n",
       "        Walmart</a></span>\n",
       "</span>\n",
       "\n",
       " - <a class=\"turnstileLink slNoUnderline \" data-tn-element=\"reviewStars\" data-tn-variant=\"cmplinktst2\" href=\"/cmp/Walmart/reviews\" onmousedown=\"this.href = appendParamsOnce(this.href, '?campaignid=cmplinktst2&amp;from=SERP&amp;jt=Associate+Data+Scientist&amp;fromjk=4fcf69a50ed97142&amp;jcid=822bc5d9a49270ea');\" target=\"_blank\" title=\"Walmart reviews\">\n",
       "<span class=\"ratings\" style=\"height: 11px; line-height: 11px; background-image: url(/images/cmp/star_2_sm@2x.png); background-size: 12px 22px;width: 60px;\"><span class=\"rating\" style=\"height: 11px; line-height: 11px; background-image: url(/images/cmp/star_2_sm@2x.png); background-size: 12px 22px;background-position: 0 11px; width: 42.6px;\"><!-- --></span></span><span class=\"slNoUnderline\">82,416 reviews</span></a>\n",
       " - <span itemprop=\"jobLocation\" itemscope=\"\" itemtype=\"http://schema.org/Place\"><span class=\"location\" itemprop=\"address\" itemscope=\"\" itemtype=\"http://schema.org/Postaladdress\"><span itemprop=\"addressLocality\">Bentonville, AR 72712</span></span></span>\n",
       "<table border=\"0\" cellpadding=\"0\" cellspacing=\"0\">\n",
       "<tr>\n",
       "<td class=\"snip\">\n",
       "<div>\n",
       "<span class=\"summary\" itemprop=\"description\">\n",
       "Bachelors degree in Statistics, Economics, Analytics, Mathematics, Computer Science, Information Technology or related field and 7 years experience in an...</span>\n",
       "</div>\n",
       "<div class=\"result-link-bar-container\">\n",
       "<div class=\"result-link-bar\"><span class=\"date\">5 days ago</span> <span class=\"tt_set\" id=\"tt_set_4\">  -  <span class=\"savelink2\" id=\"savelink2_4fcf69a50ed97142\"><a class=\"sl resultLink save-job-link\" href=\"#\" id=\"sj_4fcf69a50ed97142\" onclick=\"changeJobState('4fcf69a50ed97142', 'save', 'linkbar', false);return false;\" title=\"Save this job to my.indeed\">save job</a></span> - <a class=\"sl resultLink more-link \" href=\"#\" id=\"tog_4\" onclick=\"toggleMoreLinks('4fcf69a50ed97142'); return false;\">more...</a></span><div class=\"edit_note_content\" id=\"editsaved2_4fcf69a50ed97142\" style=\"display:none;\"></div><script>window['result_4fcf69a50ed97142'] = {\"showSource\": false, \"source\": \"Walmart\", \"loggedIn\": false, \"showMyJobsLinks\": true,\"undoAction\": \"unsave\",\"relativeJobAge\": \"5 days ago\",\"jobKey\": \"4fcf69a50ed97142\", \"myIndeedAvailable\": true, \"tellAFriendEnabled\": false, \"showMoreActionsLink\": true, \"resultNumber\": 4, \"jobStateChangedToSaved\": false, \"searchState\": \"q=data scientist&amp;\", \"basicPermaLink\": \"http://www.indeed.com\", \"saveJobFailed\": false, \"removeJobFailed\": false, \"requestPending\": false, \"notesEnabled\": true, \"currentPage\" : \"serp\", \"sponsored\" : false,\"reportJobButtonEnabled\": false, \"showMyJobsHired\": false, \"showSaveForSponsored\": false, \"showJobAge\": true};</script></div></div>\n",
       "<div class=\"tab-container\">\n",
       "<div class=\"more-links-container result-tab\" id=\"tt_display_4\" style=\"display:none;\"><a class=\"close-link closeLink\" href=\"#\" onclick=\"toggleMoreLinks('4fcf69a50ed97142'); return false;\" title=\"Close\"></a><div class=\"more_actions\" id=\"more_4\"><ul><li><span class=\"mat\">View all <a href=\"/q-Walmart-l-Bentonville,-AR-jobs.html\" rel=\"nofollow\">Walmart jobs in Bentonville, AR</a> - <a href=\"/l-Bentonville,-AR-jobs.html\">Bentonville jobs</a></span></li><li><span class=\"mat\">Salary Search: <a href=\"/salaries/Data-Scientist-Salaries,-Bentonville-AR\" onmousedown=\"this.href = appendParamsOnce(this.href, '?campaignid=serp-more&amp;fromjk=4fcf69a50ed97142&amp;from=serp-more');\">Data Scientist salaries in Bentonville, AR</a></span></li><li><span class=\"mat\">Learn more about working at <a href=\"/cmp/Walmart\" onmousedown=\"this.href = appendParamsOnce(this.href, '?fromjk=4fcf69a50ed97142&amp;from=serp-more&amp;campaignid=serp-more&amp;jcid=822bc5d9a49270ea');\">Walmart</a></span></li><li><span class=\"mat\"><a href=\"/cmp/Walmart/faq\" onmousedown=\"this.href = appendParamsOnce(this.href, '?from=serp-more&amp;campaignid=serp-more&amp;fromjk=4fcf69a50ed97142&amp;jcid=822bc5d9a49270ea');\">Walmart questions about work, benefits, interviews and hiring process:</a><ul><li><a href=\"/cmp/Walmart/faq/what-is-the-interview-process-like?quid=1ab8cmcm9ak8jaj4\" onmousedown=\"this.href = appendParamsOnce(this.href, '?from=serp-more&amp;campaignid=serp-more&amp;fromjk=4fcf69a50ed97142&amp;jcid=822bc5d9a49270ea');\">What is the interview process like?</a></li><li><a href=\"/cmp/Walmart/faq/how-do-walmart-employees-feel-about-amazon-as-a-competitor?quid=1abcf86sn1d0h19u\" onmousedown=\"this.href = appendParamsOnce(this.href, '?from=serp-more&amp;campaignid=serp-more&amp;fromjk=4fcf69a50ed97142&amp;jcid=822bc5d9a49270ea');\">How do Walmart employees feel about Amazon as a competitor?</a></li></ul></span></li><li><span class=\"mat\">Related forums: <a href=\"/forum/loc/Bentonville-Arkansas.html\">Bentonville, Arkansas</a> - <a href=\"/forum/cmp/Walmart.html\">Walmart</a></span></li></ul></div></div><div class=\"dya-container result-tab\"></div>\n",
       "<div class=\"tellafriend-container result-tab email_job_content\"></div>\n",
       "<div class=\"sign-in-container result-tab\"></div>\n",
       "<div class=\"notes-container result-tab\"></div>\n",
       "</div>\n",
       "</td>\n",
       "</tr>\n",
       "</table>\n",
       "</div>\n",
       "<div class=\" row result\" data-jk=\"076067f32375f667\" data-tn-component=\"organicJob\" id=\"p_076067f32375f667\" itemscope=\"\" itemtype=\"http://schema.org/JobPosting\">\n",
       "<h2 class=\"jobtitle\" id=\"jl_076067f32375f667\">\n",
       "<a class=\"turnstileLink\" data-tn-element=\"jobTitle\" href=\"/rc/clk?jk=076067f32375f667&amp;fccid=f89deb5a97c7738a\" itemprop=\"title\" onclick=\"setRefineByCookie([]); return rclk(this,jobmap[5],true,0);\" onmousedown=\"return rclk(this,jobmap[5],0);\" rel=\"nofollow\" target=\"_blank\" title=\"Data Scientist Intern\"><b>Data</b> <b>Scientist</b> Intern</a>\n",
       "</h2>\n",
       "<span class=\"company\" itemprop=\"hiringOrganization\" itemtype=\"http://schema.org/Organization\">\n",
       "<span itemprop=\"name\">\n",
       "<a href=\"/cmp/Adobe\" onmousedown=\"this.href = appendParamsOnce(this.href, 'from=SERP&amp;campaignid=serp-linkcompanyname&amp;fromjk=076067f32375f667&amp;jcid=f89deb5a97c7738a')\" target=\"_blank\">\n",
       "        Adobe</a></span>\n",
       "</span>\n",
       "\n",
       " - <a class=\"turnstileLink slNoUnderline \" data-tn-element=\"reviewStars\" data-tn-variant=\"cmplinktst2\" href=\"/cmp/Adobe/reviews\" onmousedown=\"this.href = appendParamsOnce(this.href, '?campaignid=cmplinktst2&amp;from=SERP&amp;jt=Data+Scientist+Intern&amp;fromjk=076067f32375f667&amp;jcid=f89deb5a97c7738a');\" target=\"_blank\" title=\"Adobe reviews\">\n",
       "<span class=\"ratings\" style=\"height: 11px; line-height: 11px; background-image: url(/images/cmp/star_2_sm@2x.png); background-size: 12px 22px;width: 60px;\"><span class=\"rating\" style=\"height: 11px; line-height: 11px; background-image: url(/images/cmp/star_2_sm@2x.png); background-size: 12px 22px;background-position: 0 11px; width: 52.199997px;\"><!-- --></span></span><span class=\"slNoUnderline\">262 reviews</span></a>\n",
       " - <span itemprop=\"jobLocation\" itemscope=\"\" itemtype=\"http://schema.org/Place\"><span class=\"location\" itemprop=\"address\" itemscope=\"\" itemtype=\"http://schema.org/Postaladdress\"><span itemprop=\"addressLocality\">San Jose, CA</span></span></span>\n",
       "<table border=\"0\" cellpadding=\"0\" cellspacing=\"0\">\n",
       "<tr>\n",
       "<td class=\"snip\">\n",
       "<div>\n",
       "<span class=\"summary\" itemprop=\"description\">\n",
       "Human-Computer Interaction, <b>Data</b> Mining, Information Retrieval, Information Visualization, or Machine Learning....</span>\n",
       "</div>\n",
       "<div class=\"result-link-bar-container\">\n",
       "<div class=\"result-link-bar\"><span class=\"date\">8 hours ago</span> <span class=\"tt_set\" id=\"tt_set_5\">  -  <span class=\"savelink2\" id=\"savelink2_076067f32375f667\"><a class=\"sl resultLink save-job-link\" href=\"#\" id=\"sj_076067f32375f667\" onclick=\"changeJobState('076067f32375f667', 'save', 'linkbar', false);return false;\" title=\"Save this job to my.indeed\">save job</a></span> - <a class=\"sl resultLink more-link \" href=\"#\" id=\"tog_5\" onclick=\"toggleMoreLinks('076067f32375f667'); return false;\">more...</a></span><div class=\"edit_note_content\" id=\"editsaved2_076067f32375f667\" style=\"display:none;\"></div><script>window['result_076067f32375f667'] = {\"showSource\": false, \"source\": \"Adobe\", \"loggedIn\": false, \"showMyJobsLinks\": true,\"undoAction\": \"unsave\",\"relativeJobAge\": \"8 hours ago\",\"jobKey\": \"076067f32375f667\", \"myIndeedAvailable\": true, \"tellAFriendEnabled\": false, \"showMoreActionsLink\": true, \"resultNumber\": 5, \"jobStateChangedToSaved\": false, \"searchState\": \"q=data scientist&amp;\", \"basicPermaLink\": \"http://www.indeed.com\", \"saveJobFailed\": false, \"removeJobFailed\": false, \"requestPending\": false, \"notesEnabled\": true, \"currentPage\" : \"serp\", \"sponsored\" : false,\"reportJobButtonEnabled\": false, \"showMyJobsHired\": false, \"showSaveForSponsored\": false, \"showJobAge\": true};</script></div></div>\n",
       "<div class=\"tab-container\">\n",
       "<div class=\"more-links-container result-tab\" id=\"tt_display_5\" style=\"display:none;\"><a class=\"close-link closeLink\" href=\"#\" onclick=\"toggleMoreLinks('076067f32375f667'); return false;\" title=\"Close\"></a><div class=\"more_actions\" id=\"more_5\"><ul><li><span class=\"mat\">View all <a href=\"/q-Adobe-l-San-Jose,-CA-jobs.html\" rel=\"nofollow\">Adobe jobs in San Jose, CA</a> - <a href=\"/l-San-Jose,-CA-jobs.html\">San Jose jobs</a></span></li><li><span class=\"mat\">Salary Search: <a href=\"/salaries/Data-Scientist-Salaries,-San-Jose-CA\" onmousedown=\"this.href = appendParamsOnce(this.href, '?campaignid=serp-more&amp;fromjk=076067f32375f667&amp;from=serp-more');\">Data Scientist salaries in San Jose, CA</a></span></li><li><span class=\"mat\">Learn more about working at <a href=\"/cmp/Adobe\" onmousedown=\"this.href = appendParamsOnce(this.href, '?fromjk=076067f32375f667&amp;from=serp-more&amp;campaignid=serp-more&amp;jcid=f89deb5a97c7738a');\">Adobe</a></span></li><li><span class=\"mat\"><a href=\"/cmp/Adobe/faq\" onmousedown=\"this.href = appendParamsOnce(this.href, '?from=serp-more&amp;campaignid=serp-more&amp;fromjk=076067f32375f667&amp;jcid=f89deb5a97c7738a');\">Adobe questions about work, benefits, interviews and hiring process:</a><ul><li><a href=\"/cmp/Adobe/faq/what-benefits-does-the-company-provide?quid=1artfh3upak6j8ij\" onmousedown=\"this.href = appendParamsOnce(this.href, '?from=serp-more&amp;campaignid=serp-more&amp;fromjk=076067f32375f667&amp;jcid=f89deb5a97c7738a');\">What benefits does the company provide?</a></li><li><a href=\"/cmp/Adobe/faq/what-is-the-vacation-policy-like-how-many-vacation-days-do-you-get-per-year?quid=1b5j9jfaa0mcp1b2\" onmousedown=\"this.href = appendParamsOnce(this.href, '?from=serp-more&amp;campaignid=serp-more&amp;fromjk=076067f32375f667&amp;jcid=f89deb5a97c7738a');\">What is the vacation policy like? How many vacation days do you get per ...</a></li></ul></span></li><li><span class=\"mat\">Related forums: <a href=\"/forum/cmp/Adobe.html\">Adobe</a> - <a href=\"/forum/loc/SAN-Jose-California.html\">SAN Jose, California</a></span></li></ul></div></div><div class=\"dya-container result-tab\"></div>\n",
       "<div class=\"tellafriend-container result-tab email_job_content\"></div>\n",
       "<div class=\"sign-in-container result-tab\"></div>\n",
       "<div class=\"notes-container result-tab\"></div>\n",
       "</div>\n",
       "</td>\n",
       "</tr>\n",
       "</table>\n",
       "</div>\n",
       "<div class=\" row result\" data-jk=\"654aaa1fa95caf5f\" data-tn-component=\"organicJob\" id=\"p_654aaa1fa95caf5f\" itemscope=\"\" itemtype=\"http://schema.org/JobPosting\">\n",
       "<h2 class=\"jobtitle\" id=\"jl_654aaa1fa95caf5f\">\n",
       "<a class=\"turnstileLink\" data-tn-element=\"jobTitle\" href=\"/rc/clk?jk=654aaa1fa95caf5f&amp;fccid=761c44c17d636bfe\" itemprop=\"title\" onclick=\"setRefineByCookie([]); return rclk(this,jobmap[6],true,0);\" onmousedown=\"return rclk(this,jobmap[6],0);\" rel=\"nofollow\" target=\"_blank\" title=\"Data Scientist\"><b>Data</b> <b>Scientist</b></a>\n",
       "</h2>\n",
       "<span class=\"company\" itemprop=\"hiringOrganization\" itemtype=\"http://schema.org/Organization\">\n",
       "<span itemprop=\"name\">\n",
       "<a href=\"/cmp/Ford-Motor-Company\" onmousedown=\"this.href = appendParamsOnce(this.href, 'from=SERP&amp;campaignid=serp-linkcompanyname&amp;fromjk=654aaa1fa95caf5f&amp;jcid=761c44c17d636bfe')\" target=\"_blank\">\n",
       "        Ford Motor Company</a></span>\n",
       "</span>\n",
       "\n",
       " - <a class=\"turnstileLink slNoUnderline \" data-tn-element=\"reviewStars\" data-tn-variant=\"cmplinktst2\" href=\"/cmp/Ford-Motor-Company/reviews\" onmousedown=\"this.href = appendParamsOnce(this.href, '?campaignid=cmplinktst2&amp;from=SERP&amp;jt=Data+Scientist&amp;fromjk=654aaa1fa95caf5f&amp;jcid=761c44c17d636bfe');\" target=\"_blank\" title=\"Ford Motor Company reviews\">\n",
       "<span class=\"ratings\" style=\"height: 11px; line-height: 11px; background-image: url(/images/cmp/star_2_sm@2x.png); background-size: 12px 22px;width: 60px;\"><span class=\"rating\" style=\"height: 11px; line-height: 11px; background-image: url(/images/cmp/star_2_sm@2x.png); background-size: 12px 22px;background-position: 0 11px; width: 52.800003px;\"><!-- --></span></span><span class=\"slNoUnderline\">2,484 reviews</span></a>\n",
       " - <span itemprop=\"jobLocation\" itemscope=\"\" itemtype=\"http://schema.org/Place\"><span class=\"location\" itemprop=\"address\" itemscope=\"\" itemtype=\"http://schema.org/Postaladdress\"><span itemprop=\"addressLocality\">Dearborn, MI</span></span></span>\n",
       "<table border=\"0\" cellpadding=\"0\" cellspacing=\"0\">\n",
       "<tr>\n",
       "<td class=\"snip\">\n",
       "<div>\n",
       "<span class=\"summary\" itemprop=\"description\">\n",
       "Problem formulation and design of solution Harvesting of <b>data</b> from multiple systems globally Collaborating with Analytics and IT teams to transforming the <b>data</b>...</span>\n",
       "</div>\n",
       "<div class=\"result-link-bar-container\">\n",
       "<div class=\"result-link-bar\"><span class=\"date\">1 day ago</span> <span class=\"tt_set\" id=\"tt_set_6\">  -  <span class=\"savelink2\" id=\"savelink2_654aaa1fa95caf5f\"><a class=\"sl resultLink save-job-link\" href=\"#\" id=\"sj_654aaa1fa95caf5f\" onclick=\"changeJobState('654aaa1fa95caf5f', 'save', 'linkbar', false);return false;\" title=\"Save this job to my.indeed\">save job</a></span> - <a class=\"sl resultLink more-link \" href=\"#\" id=\"tog_6\" onclick=\"toggleMoreLinks('654aaa1fa95caf5f'); return false;\">more...</a></span><div class=\"edit_note_content\" id=\"editsaved2_654aaa1fa95caf5f\" style=\"display:none;\"></div><script>window['result_654aaa1fa95caf5f'] = {\"showSource\": false, \"source\": \"Ford Motor Company\", \"loggedIn\": false, \"showMyJobsLinks\": true,\"undoAction\": \"unsave\",\"relativeJobAge\": \"1 day ago\",\"jobKey\": \"654aaa1fa95caf5f\", \"myIndeedAvailable\": true, \"tellAFriendEnabled\": false, \"showMoreActionsLink\": true, \"resultNumber\": 6, \"jobStateChangedToSaved\": false, \"searchState\": \"q=data scientist&amp;\", \"basicPermaLink\": \"http://www.indeed.com\", \"saveJobFailed\": false, \"removeJobFailed\": false, \"requestPending\": false, \"notesEnabled\": true, \"currentPage\" : \"serp\", \"sponsored\" : false,\"reportJobButtonEnabled\": false, \"showMyJobsHired\": false, \"showSaveForSponsored\": false, \"showJobAge\": true};</script></div></div>\n",
       "<div class=\"tab-container\">\n",
       "<div class=\"more-links-container result-tab\" id=\"tt_display_6\" style=\"display:none;\"><a class=\"close-link closeLink\" href=\"#\" onclick=\"toggleMoreLinks('654aaa1fa95caf5f'); return false;\" title=\"Close\"></a><div class=\"more_actions\" id=\"more_6\"><ul><li><span class=\"mat\">View all <a href=\"/q-Ford-Motor-Company-l-Dearborn,-MI-jobs.html\" rel=\"nofollow\">Ford Motor Company jobs in Dearborn, MI</a> - <a href=\"/l-Dearborn,-MI-jobs.html\">Dearborn jobs</a></span></li><li><span class=\"mat\">Salary Search: <a href=\"/salaries/Data-Scientist-Salaries,-Dearborn-MI\" onmousedown=\"this.href = appendParamsOnce(this.href, '?campaignid=serp-more&amp;fromjk=654aaa1fa95caf5f&amp;from=serp-more');\">Data Scientist salaries in Dearborn, MI</a></span></li><li><span class=\"mat\">Learn more about working at <a href=\"/cmp/Ford-Motor-Company\" onmousedown=\"this.href = appendParamsOnce(this.href, '?fromjk=654aaa1fa95caf5f&amp;from=serp-more&amp;campaignid=serp-more&amp;jcid=761c44c17d636bfe');\">Ford Motor Company</a></span></li><li><span class=\"mat\"><a href=\"/cmp/Ford-Motor-Company/faq\" onmousedown=\"this.href = appendParamsOnce(this.href, '?from=serp-more&amp;campaignid=serp-more&amp;fromjk=654aaa1fa95caf5f&amp;jcid=761c44c17d636bfe');\">Ford Motor Company questions about work, benefits, interviews and hiring process:</a><ul><li><a href=\"/cmp/Ford-Motor-Company/faq/what-kind-of-drug-test-they-do?quid=1anrbu17q1agi3oo\" onmousedown=\"this.href = appendParamsOnce(this.href, '?from=serp-more&amp;campaignid=serp-more&amp;fromjk=654aaa1fa95caf5f&amp;jcid=761c44c17d636bfe');\">What kind of drug test they do?</a></li><li><a href=\"/cmp/Ford-Motor-Company/faq/i-just-received-an-at-will-employment-offer-from-ford-is-it-standard-for-all-new-hires-or-will-i-be-offered-a-permanent-contract-after-a-certain?quid=1b1a14af0ak73eu5\" onmousedown=\"this.href = appendParamsOnce(this.href, '?from=serp-more&amp;campaignid=serp-more&amp;fromjk=654aaa1fa95caf5f&amp;jcid=761c44c17d636bfe');\">I just received an at-will employment offer from Ford, is it standard fo...</a></li></ul></span></li><li><span class=\"mat\">Related forums: <a href=\"/forum/cmp/Ford-Motor-Company.html\">Ford Motor Company</a> - <a href=\"/forum/loc/Dearborn-Michigan.html\">Dearborn, Michigan</a></span></li></ul></div></div><div class=\"dya-container result-tab\"></div>\n",
       "<div class=\"tellafriend-container result-tab email_job_content\"></div>\n",
       "<div class=\"sign-in-container result-tab\"></div>\n",
       "<div class=\"notes-container result-tab\"></div>\n",
       "</div>\n",
       "</td>\n",
       "</tr>\n",
       "</table>\n",
       "</div>\n",
       "<div class=\" row result\" data-jk=\"aecd2349117e1dbf\" data-tn-component=\"organicJob\" id=\"p_aecd2349117e1dbf\" itemscope=\"\" itemtype=\"http://schema.org/JobPosting\">\n",
       "<h2 class=\"jobtitle\" id=\"jl_aecd2349117e1dbf\">\n",
       "<a class=\"turnstileLink\" data-tn-element=\"jobTitle\" href=\"/rc/clk?jk=aecd2349117e1dbf&amp;fccid=086cb533b5438773\" itemprop=\"title\" onclick=\"setRefineByCookie([]); return rclk(this,jobmap[7],true,0);\" onmousedown=\"return rclk(this,jobmap[7],0);\" rel=\"nofollow\" target=\"_blank\" title=\"Data Scientist\"><b>Data</b> <b>Scientist</b></a>\n",
       "</h2>\n",
       "<span class=\"company\" itemprop=\"hiringOrganization\" itemtype=\"http://schema.org/Organization\">\n",
       "<span itemprop=\"name\">\n",
       "    Komodo Health</span>\n",
       "</span>\n",
       "\n",
       " - <span itemprop=\"jobLocation\" itemscope=\"\" itemtype=\"http://schema.org/Place\"><span class=\"location\" itemprop=\"address\" itemscope=\"\" itemtype=\"http://schema.org/Postaladdress\"><span itemprop=\"addressLocality\">New York, NY</span></span></span>\n",
       " <a class=\"more_loc\" href=\"/jobs?q=data+scientist&amp;rbt=Data+Scientist&amp;rbc=Komodo+Health&amp;jtid=1872a3288ede048a&amp;jcid=b961bafcaabce98b&amp;grp=tcl\" onmousedown=\"ptk('addlloc');\" rel=\"nofollow\">+1 location</a><table border=\"0\" cellpadding=\"0\" cellspacing=\"0\">\n",
       "<tr>\n",
       "<td class=\"snip\">\n",
       "<div>\n",
       "<span class=\"summary\" itemprop=\"description\">\n",
       "Komodo Health is transforming predictive analytics in enterprise healthcare with its proprietary <b>data</b> cloud and streaming <b>data</b> platform....</span>\n",
       "</div>\n",
       "<div class=\"iaP\">\n",
       "<span class=\"iaLabel\"> Easily apply</span>\n",
       "</div>\n",
       "<div class=\"result-link-bar-container\">\n",
       "<div class=\"result-link-bar\"><span class=\"date\">3 days ago</span> <span class=\"tt_set\" id=\"tt_set_7\">  -  <span class=\"savelink2\" id=\"savelink2_aecd2349117e1dbf\"><a class=\"sl resultLink save-job-link\" href=\"#\" id=\"sj_aecd2349117e1dbf\" onclick=\"changeJobState('aecd2349117e1dbf', 'save', 'linkbar', false);return false;\" title=\"Save this job to my.indeed\">save job</a></span> - <a class=\"sl resultLink more-link \" href=\"#\" id=\"tog_7\" onclick=\"toggleMoreLinks('aecd2349117e1dbf'); return false;\">more...</a></span><div class=\"edit_note_content\" id=\"editsaved2_aecd2349117e1dbf\" style=\"display:none;\"></div><script>window['result_aecd2349117e1dbf'] = {\"showSource\": false, \"source\": \"Komodo Health\", \"loggedIn\": false, \"showMyJobsLinks\": true,\"undoAction\": \"unsave\",\"relativeJobAge\": \"3 days ago\",\"jobKey\": \"aecd2349117e1dbf\", \"myIndeedAvailable\": true, \"tellAFriendEnabled\": false, \"showMoreActionsLink\": true, \"resultNumber\": 7, \"jobStateChangedToSaved\": false, \"searchState\": \"q=data scientist&amp;\", \"basicPermaLink\": \"http://www.indeed.com\", \"saveJobFailed\": false, \"removeJobFailed\": false, \"requestPending\": false, \"notesEnabled\": true, \"currentPage\" : \"serp\", \"sponsored\" : false,\"reportJobButtonEnabled\": false, \"showMyJobsHired\": false, \"showSaveForSponsored\": false, \"showJobAge\": true};</script></div></div>\n",
       "<div class=\"tab-container\">\n",
       "<div class=\"more-links-container result-tab\" id=\"tt_display_7\" style=\"display:none;\"><a class=\"close-link closeLink\" href=\"#\" onclick=\"toggleMoreLinks('aecd2349117e1dbf'); return false;\" title=\"Close\"></a><div class=\"more_actions\" id=\"more_7\"><ul><li><span class=\"mat\">View all <a href=\"/q-Komodo-Health-l-New-York,-NY-jobs.html\" rel=\"nofollow\">Komodo Health jobs in New York, NY</a> - <a href=\"/l-New-York,-NY-jobs.html\">New York jobs</a></span></li><li><span class=\"mat\">Salary Search: <a href=\"/salaries/Data-Scientist-Salaries,-New-York-NY\" onmousedown=\"this.href = appendParamsOnce(this.href, '?campaignid=serp-more&amp;fromjk=aecd2349117e1dbf&amp;from=serp-more');\">Data Scientist salaries in New York, NY</a></span></li><li><span class=\"mat\">Related forums: <a href=\"/forum/cmp/Komodo-Health.html\">Komodo Health</a> - <a href=\"/forum/loc/New-York-New-York.html\">New York, New York</a></span></li></ul></div></div><div class=\"dya-container result-tab\"></div>\n",
       "<div class=\"tellafriend-container result-tab email_job_content\"></div>\n",
       "<div class=\"sign-in-container result-tab\"></div>\n",
       "<div class=\"notes-container result-tab\"></div>\n",
       "</div>\n",
       "</td>\n",
       "</tr>\n",
       "</table>\n",
       "</div>\n",
       "<div class=\" row result\" data-jk=\"04b27879f7ce90f9\" data-tn-component=\"organicJob\" id=\"p_04b27879f7ce90f9\" itemscope=\"\" itemtype=\"http://schema.org/JobPosting\">\n",
       "<h2 class=\"jobtitle\" id=\"jl_04b27879f7ce90f9\">\n",
       "<a class=\"turnstileLink\" data-tn-element=\"jobTitle\" href=\"/rc/clk?jk=04b27879f7ce90f9&amp;fccid=f7a0f0e88ce3d78e\" itemprop=\"title\" onclick=\"setRefineByCookie([]); return rclk(this,jobmap[8],true,0);\" onmousedown=\"return rclk(this,jobmap[8],0);\" rel=\"nofollow\" target=\"_blank\" title=\"Data Scientist\"><b>Data</b> <b>Scientist</b></a>\n",
       "</h2>\n",
       "<span class=\"company\" itemprop=\"hiringOrganization\" itemtype=\"http://schema.org/Organization\">\n",
       "<span itemprop=\"name\">\n",
       "<a href=\"/cmp/Reed-Elsevier\" onmousedown=\"this.href = appendParamsOnce(this.href, 'from=SERP&amp;campaignid=serp-linkcompanyname&amp;fromjk=04b27879f7ce90f9&amp;jcid=f7a0f0e88ce3d78e')\" target=\"_blank\">\n",
       "        Reed Elsevier</a></span>\n",
       "</span>\n",
       "\n",
       " - <a class=\"turnstileLink slNoUnderline \" data-tn-element=\"reviewStars\" data-tn-variant=\"cmplinktst2\" href=\"/cmp/Reed-Elsevier/reviews\" onmousedown=\"this.href = appendParamsOnce(this.href, '?campaignid=cmplinktst2&amp;from=SERP&amp;jt=Data+Scientist&amp;fromjk=04b27879f7ce90f9&amp;jcid=f7a0f0e88ce3d78e');\" target=\"_blank\" title=\"Reed Elsevier reviews\">\n",
       "<span class=\"ratings\" style=\"height: 11px; line-height: 11px; background-image: url(/images/cmp/star_2_sm@2x.png); background-size: 12px 22px;width: 60px;\"><span class=\"rating\" style=\"height: 11px; line-height: 11px; background-image: url(/images/cmp/star_2_sm@2x.png); background-size: 12px 22px;background-position: 0 11px; width: 43.2px;\"><!-- --></span></span><span class=\"slNoUnderline\">38 reviews</span></a>\n",
       " - <span itemprop=\"jobLocation\" itemscope=\"\" itemtype=\"http://schema.org/Place\"><span class=\"location\" itemprop=\"address\" itemscope=\"\" itemtype=\"http://schema.org/Postaladdress\"><span itemprop=\"addressLocality\">Philadelphia, PA</span></span></span>\n",
       "<table border=\"0\" cellpadding=\"0\" cellspacing=\"0\">\n",
       "<tr>\n",
       "<td class=\"snip\">\n",
       "<div>\n",
       "<span class=\"summary\" itemprop=\"description\">\n",
       "<b>Data</b> analytics experience working with a variety of <b>data</b> sources. A global company based in Amsterdam, Elsevier partners with <b>scientists</b>, researchers,...</span>\n",
       "</div>\n",
       "<div class=\"result-link-bar-container\">\n",
       "<div class=\"result-link-bar\"><span class=\"date\">2 hours ago</span> <span class=\"tt_set\" id=\"tt_set_8\">  -  <span class=\"savelink2\" id=\"savelink2_04b27879f7ce90f9\"><a class=\"sl resultLink save-job-link\" href=\"#\" id=\"sj_04b27879f7ce90f9\" onclick=\"changeJobState('04b27879f7ce90f9', 'save', 'linkbar', false);return false;\" title=\"Save this job to my.indeed\">save job</a></span> - <a class=\"sl resultLink more-link \" href=\"#\" id=\"tog_8\" onclick=\"toggleMoreLinks('04b27879f7ce90f9'); return false;\">more...</a></span><div class=\"edit_note_content\" id=\"editsaved2_04b27879f7ce90f9\" style=\"display:none;\"></div><script>window['result_04b27879f7ce90f9'] = {\"showSource\": false, \"source\": \"Reed Elsevier\", \"loggedIn\": false, \"showMyJobsLinks\": true,\"undoAction\": \"unsave\",\"relativeJobAge\": \"2 hours ago\",\"jobKey\": \"04b27879f7ce90f9\", \"myIndeedAvailable\": true, \"tellAFriendEnabled\": false, \"showMoreActionsLink\": true, \"resultNumber\": 8, \"jobStateChangedToSaved\": false, \"searchState\": \"q=data scientist&amp;\", \"basicPermaLink\": \"http://www.indeed.com\", \"saveJobFailed\": false, \"removeJobFailed\": false, \"requestPending\": false, \"notesEnabled\": true, \"currentPage\" : \"serp\", \"sponsored\" : false,\"reportJobButtonEnabled\": false, \"showMyJobsHired\": false, \"showSaveForSponsored\": false, \"showJobAge\": true};</script></div></div>\n",
       "<div class=\"tab-container\">\n",
       "<div class=\"more-links-container result-tab\" id=\"tt_display_8\" style=\"display:none;\"><a class=\"close-link closeLink\" href=\"#\" onclick=\"toggleMoreLinks('04b27879f7ce90f9'); return false;\" title=\"Close\"></a><div class=\"more_actions\" id=\"more_8\"><ul><li><span class=\"mat\">View all <a href=\"/q-Reed-Elsevier-l-Philadelphia,-PA-jobs.html\" rel=\"nofollow\">Reed Elsevier jobs in Philadelphia, PA</a> - <a href=\"/l-Philadelphia,-PA-jobs.html\">Philadelphia jobs</a></span></li><li><span class=\"mat\">Salary Search: <a href=\"/salaries/Data-Scientist-Salaries,-Philadelphia-PA\" onmousedown=\"this.href = appendParamsOnce(this.href, '?campaignid=serp-more&amp;fromjk=04b27879f7ce90f9&amp;from=serp-more');\">Data Scientist salaries in Philadelphia, PA</a></span></li><li><span class=\"mat\">Learn more about working at <a href=\"/cmp/Reed-Elsevier\" onmousedown=\"this.href = appendParamsOnce(this.href, '?fromjk=04b27879f7ce90f9&amp;from=serp-more&amp;campaignid=serp-more&amp;jcid=f7a0f0e88ce3d78e');\">Reed Elsevier</a></span></li><li><span class=\"mat\">Related forums: <a href=\"/forum/loc/Philadelphia-Pennsylvania.html\">Philadelphia, Pennsylvania</a> - <a href=\"/forum/cmp/Reed-Elsevier.html\">Reed Elsevier</a></span></li></ul></div></div><div class=\"dya-container result-tab\"></div>\n",
       "<div class=\"tellafriend-container result-tab email_job_content\"></div>\n",
       "<div class=\"sign-in-container result-tab\"></div>\n",
       "<div class=\"notes-container result-tab\"></div>\n",
       "</div>\n",
       "</td>\n",
       "</tr>\n",
       "</table>\n",
       "</div>\n",
       "<div class=\"lastRow row result\" data-jk=\"cf179dd32274e950\" data-tn-component=\"organicJob\" id=\"p_cf179dd32274e950\" itemscope=\"\" itemtype=\"http://schema.org/JobPosting\">\n",
       "<h2 class=\"jobtitle\" id=\"jl_cf179dd32274e950\">\n",
       "<a class=\"turnstileLink\" data-tn-element=\"jobTitle\" href=\"/company/WiserOps,-Inc./jobs/Data-Scientist-cf179dd32274e950?fccid=878e84df31035ba3\" itemprop=\"title\" onclick=\"setRefineByCookie([]); return rclk(this,jobmap[9],true,0);\" onmousedown=\"return rclk(this,jobmap[9],0);\" rel=\"nofollow\" target=\"_blank\" title=\"Data Scientist\"><b>Data</b> <b>Scientist</b></a>\n",
       "</h2>\n",
       "<span class=\"company\" itemprop=\"hiringOrganization\" itemtype=\"http://schema.org/Organization\">\n",
       "<span itemprop=\"name\">\n",
       "    WiserOps, Inc.</span>\n",
       "</span>\n",
       "\n",
       " - <span itemprop=\"jobLocation\" itemscope=\"\" itemtype=\"http://schema.org/Place\"><span class=\"location\" itemprop=\"address\" itemscope=\"\" itemtype=\"http://schema.org/Postaladdress\"><span itemprop=\"addressLocality\">New York, NY 10001 <span style=\"font-size: smaller\">(Chelsea area)</span></span></span></span>\n",
       "<table border=\"0\" cellpadding=\"0\" cellspacing=\"0\">\n",
       "<tr>\n",
       "<td class=\"snip\">\n",
       "<div>\n",
       "<span class=\"summary\" itemprop=\"description\">\n",
       "Rapidly growing eCommerce company seeking <b>data</b> <b>scientist</b> with deep analytical and problem solving skills to help build a new category tree for our website....</span>\n",
       "</div>\n",
       "<div class=\"iaP\">\n",
       "<span class=\"iaLabel\"> Easily apply</span>\n",
       "</div>\n",
       "<div class=\"result-link-bar-container\">\n",
       "<div class=\"result-link-bar\"><span class=\"date\">1 day ago</span> <span class=\"tt_set\" id=\"tt_set_9\">  -  <span class=\"savelink2\" id=\"savelink2_cf179dd32274e950\"><a class=\"sl resultLink save-job-link\" href=\"#\" id=\"sj_cf179dd32274e950\" onclick=\"changeJobState('cf179dd32274e950', 'save', 'linkbar', false);return false;\" title=\"Save this job to my.indeed\">save job</a></span> - <a class=\"sl resultLink more-link \" href=\"#\" id=\"tog_9\" onclick=\"toggleMoreLinks('cf179dd32274e950'); return false;\">more...</a></span><div class=\"edit_note_content\" id=\"editsaved2_cf179dd32274e950\" style=\"display:none;\"></div><script>window['result_cf179dd32274e950'] = {\"showSource\": false, \"source\": \"Indeed\", \"loggedIn\": false, \"showMyJobsLinks\": true,\"undoAction\": \"unsave\",\"relativeJobAge\": \"1 day ago\",\"jobKey\": \"cf179dd32274e950\", \"myIndeedAvailable\": true, \"tellAFriendEnabled\": false, \"showMoreActionsLink\": true, \"resultNumber\": 9, \"jobStateChangedToSaved\": false, \"searchState\": \"q=data scientist&amp;\", \"basicPermaLink\": \"http://www.indeed.com\", \"saveJobFailed\": false, \"removeJobFailed\": false, \"requestPending\": false, \"notesEnabled\": true, \"currentPage\" : \"serp\", \"sponsored\" : false,\"reportJobButtonEnabled\": false, \"showMyJobsHired\": false, \"showSaveForSponsored\": false, \"showJobAge\": true};</script></div></div>\n",
       "<div class=\"tab-container\">\n",
       "<div class=\"more-links-container result-tab\" id=\"tt_display_9\" style=\"display:none;\"><a class=\"close-link closeLink\" href=\"#\" onclick=\"toggleMoreLinks('cf179dd32274e950'); return false;\" title=\"Close\"></a><div class=\"more_actions\" id=\"more_9\"><ul><li><span class=\"mat\">View all <a href=\"/jobs?q=Wiserops,+Inc&amp;l=New+York,+NY&amp;nc=jasx\" rel=\"nofollow\">WiserOps, Inc. jobs in New York, NY</a> - <a href=\"/l-New-York,-NY-jobs.html\">New York jobs</a></span></li><li><span class=\"mat\">Salary Search: <a href=\"/salaries/Data-Scientist-Salaries,-New-York-NY\" onmousedown=\"this.href = appendParamsOnce(this.href, '?campaignid=serp-more&amp;fromjk=cf179dd32274e950&amp;from=serp-more');\">Data Scientist salaries in New York, NY</a></span></li><li><span class=\"mat\">Learn more about working at <a href=\"/cmp/Wiserops,-Inc.\" onmousedown=\"this.href = appendParamsOnce(this.href, '?fromjk=cf179dd32274e950&amp;from=serp-more&amp;campaignid=serp-more&amp;jcid=77fc3f137846b728');\">Wiserops, Inc.</a></span></li><li><span class=\"mat\">Related forums:  - <a href=\"/forum/loc/New-York-New-York.html\">New York, New York</a></span></li></ul></div></div><div class=\"dya-container result-tab\"></div>\n",
       "<div class=\"tellafriend-container result-tab email_job_content\"></div>\n",
       "<div class=\"sign-in-container result-tab\"></div>\n",
       "<div class=\"notes-container result-tab\"></div>\n",
       "</div>\n",
       "</td>\n",
       "</tr>\n",
       "</table>\n",
       "</div>\n",
       "<p class=\"footerJaPromoBubble\">\n",
       "<span>\n",
       "Never miss a job. Get new jobs emailed to you daily.</span>\n",
       "<script type=\"text/javascript\">setJaPromoCookie()</script>\n",
       "</p>\n",
       "<style>\n",
       ".fixed_ja_link_x { color:#00C; float: right; font-size: 22px; margin-top: -8px; font-weight: bold;}\n",
       ".fixed_ja_link_x:hover { cursor:pointer;}\n",
       ".fixed_ja_link { color:#00C; cursor: pointer;}\n",
       ".fixed_ja_link:hover { text-decoration: underline;}\n",
       ".fixed_ja_background { background-color: #ebebeb;}\n",
       "</style>\n",
       "<div id=\"bjobalertswrapper\">\n",
       "<div class=\"open jaPromoUi jaui ijwnZpxBO\" id=\"bjobalerts\">\n",
       "<div class=\"jobalertlabel\">\n",
       "<span class=\"jobalerts_title\" id=\"bjobalertlabel\"><span aria-label=\"alert icon\" class=\"ico\" role=\"img\"></span>Get email updates for the latest <b>data scientist jobs</b></span>\n",
       "</div>\n",
       "<div class=\"jaform\" id=\"bjobalertform\">\n",
       "<span id=\"bjobalerttext\"></span><span id=\"bjobalertsending\"></span>\n",
       "<div id=\"bjobalertmessage\">\n",
       "<form action=\"/alert\" method=\"POST\" onsubmit=\"return addalertdelegate('data+scientist','','b','',this.email.value,'1b9lhuao0bs8rcmh', this.verified.value, false, '', true, '661982', 'US', '72eb40a29d57120bfe71c830c371fec7', this.recjobalert.checked, false);\">\n",
       "<input name=\"a\" type=\"hidden\" value=\"add\"/>\n",
       "<input name=\"q\" type=\"hidden\" value=\"data scientist\"/>\n",
       "<input name=\"l\" type=\"hidden\" value=\"\"/>\n",
       "<input name=\"radius\" type=\"hidden\" value=\"25\"/>\n",
       "<input name=\"noscript\" type=\"hidden\" value=\"1\"/>\n",
       "<input name=\"fr\" type=\"hidden\" value=\"b\"/>\n",
       "<input name=\"tk\" type=\"hidden\" value=\"1b9lhuao0bs8rcmh\"/>\n",
       "<input id=\"balertverified\" name=\"verified\" type=\"hidden\" value=\"0\"/>\n",
       "<input name=\"alertparams\" type=\"hidden\" value=\"\"/>\n",
       "<label for=\"balertemail\">My email:</label> <input id=\"balertemail\" maxlength=\"100\" name=\"email\" size=\"25\" type=\"text\" value=\"\"/>\n",
       "<span class=\"indeed-apply-button\"><span class=\"indeed-apply-button-inner\"><input class=\"indeed-apply-button-label\" id=\"balertsubmit\" type=\"submit\" value=\"Activate\"/></span></span>\n",
       "<style type=\"text/css\">\n",
       "    .indeed-apply-button { cursor : pointer !important; display : inline-block !important; padding : 1px !important; height : 31px !important; -moz-border-radius : 7px !important; border-radius : 7px !important; position : relative !important; text-decoration : none !important;background-color:#79788B; filter:progid:DXImageTransform.Microsoft.gradient(startColorstr='#BCBBCD', endColorstr='#79788B', GradientType=0);background-image: -webkit-gradient(linear, center top, center bottom, from(#BCBBCD), to(#79788B)) !important;background-image: -webkit-linear-gradient(top, #BCBBCD, #79788B) !important;background-image: -moz-linear-gradient(top, #BCBBCD, #79788B) !important;background-image: -o-linear-gradient(top, #BCBBCD, #79788B) !important;background-image: -ms-linear-gradient(top, #BCBBCD, #79788B) !important;background-image: linear-gradient(top, #BCBBCD, #79788B) !important;-webkit-box-shadow: 0 1px 2px rgba(0,0,0,0.2) !important;-moz-box-shadow: 0 1px 2px rgba(0,0,0,0.2) !important;box-shadow: 0 1px 2px rgba(0,0,0,0.2) !important; } #indeed-ia-1329175190441-0:link, #indeed-ia-1329175190441-0:visited, #indeed-ia-1329175190441-0:hover, #indeed-ia-1329175190441-0:active { border : 0 !important; text-decoration : none !important; }\n",
       "\n",
       "    .indeed-apply-button:hover { filter:progid:DXImageTransform.Microsoft.gradient(startColorstr='#6D99F6', endColorstr='#1B45A3', GradientType=0);background-image: -webkit-gradient(linear, center top, center bottom, from(#6D99F6), to(#1B45A3)) !important;background-image: -webkit-linear-gradient(top, #6D99F6, #1B45A3) !important;background-image: -moz-linear-gradient(top, #6D99F6, #1B45A3) !important;background-image: -o-linear-gradient(top, #6D99F6, #1B45A3) !important;background-image: -ms-linear-gradient(top, #6D99F6, #1B45A3) !important;background-image: linear-gradient(top, #6D99F6, #1B45A3) !important; }\n",
       "\n",
       "    .indeed-apply-state-clicked .indeed-apply-button,\n",
       "    .indeed-apply-button:active { filter:progid:DXImageTransform.Microsoft.gradient(startColorstr='#B3BACA', endColorstr='#7C8493', GradientType=0);background-image: -webkit-gradient(linear, center top, center bottom, from(#B3BACA), to(#7C8493)) !important;background-image: -webkit-linear-gradient(top, #B3BACA, #7C8493) !important;background-image: -moz-linear-gradient(top, #B3BACA, #7C8493) !important;background-image: -o-linear-gradient(top, #B3BACA, #7C8493) !important;background-image: -ms-linear-gradient(top, #B3BACA, #7C8493) !important;background-image: linear-gradient(top, #B3BACA, #7C8493) !important;-webkit-box-shadow: none !important;-moz-box-shadow: none !important;box-shadow: none !important; }\n",
       "\n",
       "    .indeed-apply-button-inner { display : inline-block !important; height : 31px !important; -moz-border-radius : 6px !important; border-radius : 6px !important; font : 18px 'Helvetica Neue','Helvetica',Arial !important; font-weight : 200 !important; text-decoration : none !important; text-shadow : 0px 1px #F1F1F4 !important;background-color:#D9D9E2;  color: #FF6703;filter:progid:DXImageTransform.Microsoft.gradient(startColorstr='#FAFAFB', endColorstr='#D9D9E2', GradientType=0);background-image: -webkit-gradient(linear, center top, center bottom, from(#FAFAFB), to(#D9D9E2)) !important;background-image: -webkit-linear-gradient(top, #FAFAFB, #D9D9E2) !important;background-image: -moz-linear-gradient(top, #FAFAFB, #D9D9E2) !important;background-image: -o-linear-gradient(top, #FAFAFB, #D9D9E2) !important;background-image: -ms-linear-gradient(top, #FAFAFB, #D9D9E2) !important;background-image: linear-gradient(top, #FAFAFB, #D9D9E2) !important; }\n",
       "\n",
       "    .indeed-apply-button:active .indeed-apply-button-inner { filter:progid:DXImageTransform.Microsoft.gradient(startColorstr='#E8E8E9', endColorstr='#CBCBD3', GradientType=0);background-image: -webkit-gradient(linear, center top, center bottom, from(#E8E8E9), to(#CBCBD3)) !important;background-image: -webkit-linear-gradient(top, #E8E8E9, #CBCBD3) !important;background-image: -moz-linear-gradient(top, #E8E8E9, #CBCBD3) !important;background-image: -o-linear-gradient(top, #E8E8E9, #CBCBD3) !important;background-image: -ms-linear-gradient(top, #E8E8E9, #CBCBD3) !important;background-image: linear-gradient(top, #E8E8E9, #CBCBD3) !important; }\n",
       "\n",
       "    .indeed-apply-button-label {cursor: pointer; text-align : center !important; border:0; background: transparent;font-size: 12px; font-family: Arial, sans-serif; padding:3px 14px 2px 12px; margin:0; line-height: 26px; }\n",
       "\n",
       "    .indeed-apply-button:active .indeed-apply-button-label,\n",
       "    .indeed-apply-state-clicked .indeed-apply-button-label { -ms-filter: \"progid:DXImageTransform.Microsoft.Alpha(Opacity=0.75)\" !important;filter: alpha(opacity=75) !important;-moz-opacity: 0.75 !important;-khtml-opacity: 0.75 !important;opacity: 0.75 !important; }\n",
       "\n",
       "    #talertemail, #balertemail {  height: 27px; line-height: 24px; padding-left: 6px; padding-right: 6px; font-size: 14px; font-family: Arial, sans-serif; }\n",
       "</style><label for=\"brecjobalert\" id=\"brecjobalertlabel\">\n",
       "<input checked=\"\" id=\"brecjobalert\" name=\"recjobalert\" type=\"checkbox\"/>\n",
       "<span>Also get an email with jobs recommended just for me</span>\n",
       "</label>\n",
       "</form>\n",
       "<span class=\"caption\">\n",
       "You can cancel email alerts at any time.</span>\n",
       "</div>\n",
       "</div>\n",
       "</div>\n",
       "</div><script type=\"text/javascript\">\n",
       "function ptk(st,p) {\n",
       "document.cookie = 'PTK=\"tk=&type=jobsearch&subtype=' + st + (p ? '&' + p : '')\n",
       " + (st == 'pagination' ? '&fp=1' : '')\n",
       "+'\"; path=/';\n",
       "}\n",
       "</script>\n",
       "<script type=\"text/javascript\">\n",
       "function pclk(event) {\n",
       "var evt = event || window.event;\n",
       "var target = evt.target || evt.srcElement;\n",
       "var el = target.nodeType == 1 ? target : target.parentNode;\n",
       "var tag = el.tagName.toLowerCase();\n",
       "if (tag == 'span' || tag == 'a') {\n",
       "ptk('pagination');\n",
       "}\n",
       "return true;\n",
       "}\n",
       "</script>\n",
       "<div class=\"pagination\" onmousedown=\"pclk(event);\">Results Page:  <b>1</b>  <a href=\"/jobs?q=data+scientist&amp;start=10&amp;pp=AAoAAAAAAAAAAAAAAAEDUu3TAQAAsfa16VbW4C6JEJx4XXXOH1c4MBYayMXy\"><span class=\"pn\">2</span></a>  <a href=\"/jobs?q=data+scientist&amp;start=20&amp;pp=ABQAAAAAAAAAAAAAAAEDUu3TAQAiuS5xI5UhmFxzw4tB8FPaieg1Qht5nUUBCyPCZM0elbc7pXSEM7G-yOq0pQQ\"><span class=\"pn\">3</span></a>  <a href=\"/jobs?q=data+scientist&amp;start=30&amp;pp=AB4AAAAAAAAAAAAAAAEDUu3TAQBMb1taNtFRopnfLDkLPqCyc4yEWS0neoc2AK7HwZ44M1CgEXl5yIS0t8XHOS5koy-Y6hHTNqUQdnUkqpIS\"><span class=\"pn\">4</span></a>  <a href=\"/jobs?q=data+scientist&amp;start=40&amp;pp=ACgAAAAAAAAAAAAAAAEDUu3TAQEBBwDC7GM5kuNn7TeA-mo1R3So8f6RudxuuUZd8TisC7hxsx0qovKZnv9-9NGZeCWv-VlvZCXLqx1goH0d1cEdNu4AXNYpR9YNWFNwI_9lw1U\"><span class=\"pn\">5</span></a>   <a href=\"/jobs?q=data+scientist&amp;start=10&amp;pp=AAoAAAAAAAAAAAAAAAEDUu3TAQAAsfa16VbW4C6JEJx4XXXOH1c4MBYayMXy\"><span class=\"pn\"><span class=\"np\">Next »</span></span></a></div>\n",
       "<div class=\"related_searches\">\n",
       "<div class=\"related_searches_list\">\n",
       "<b>People also searched: </b><a href=\"/q-Accounting-jobs.html?from=relatedQueries&amp;rqf=1&amp;parentQnorm=data+scientist\">accounting</a> - <a href=\"/q-Part-Time-jobs.html?from=relatedQueries&amp;rqf=1&amp;parentQnorm=data+scientist\">part time</a> - <a href=\"/q-Clerical-jobs.html?from=relatedQueries&amp;rqf=1&amp;parentQnorm=data+scientist\">clerical</a> - <a href=\"/q-Call-Center-jobs.html?from=relatedQueries&amp;rqf=1&amp;parentQnorm=data+scientist\">call center</a> - <a href=\"/q-Construction-jobs.html?from=relatedQueries&amp;rqf=1&amp;parentQnorm=data+scientist\">construction</a> - <a href=\"/q-Data-Entry-jobs.html?from=relatedQueries&amp;rqf=1&amp;parentQnorm=data+scientist\">data entry</a> - <a href=\"/q-Graphic-Design-jobs.html?from=relatedQueries&amp;rqf=1&amp;parentQnorm=data+scientist\">graphic design</a> - <a href=\"/q-Human-Resources-jobs.html?from=relatedQueries&amp;rqf=1&amp;parentQnorm=data+scientist\">human resources</a> - <a href=\"/q-Insurance-jobs.html?from=relatedQueries&amp;rqf=1&amp;parentQnorm=data+scientist\">insurance</a> - <a href=\"/q-Marketing-jobs.html?from=relatedQueries&amp;rqf=1&amp;parentQnorm=data+scientist\">marketing</a></div>\n",
       "</div> </td>\n",
       "<td id=\"auxCol\" role=\"complementary\">\n",
       "<div id=\"tjobalertswrapper\">\n",
       "<div class=\"open jaui \" id=\"tjobalerts\">\n",
       "<div class=\"jobalertlabel\">\n",
       "<span class=\"jobalerts_title\" id=\"tjobalertlabel\"><span aria-label=\"alert icon\" class=\"ico\" role=\"img\"></span>Get new jobs for this search by email</span>\n",
       "</div>\n",
       "<div class=\"jaform\" id=\"tjobalertform\">\n",
       "<span id=\"tjobalerttext\"></span><span id=\"tjobalertsending\"></span>\n",
       "<div id=\"tjobalertmessage\">\n",
       "<form action=\"/alert\" method=\"POST\" onsubmit=\"return addalertdelegate('data+scientist','','t','',this.email.value,'1b9lhuao0bs8rcmh', this.verified.value, false, '', true, '661982', 'US', '72eb40a29d57120bfe71c830c371fec7', this.recjobalert.checked, false);\">\n",
       "<input name=\"a\" type=\"hidden\" value=\"add\"/>\n",
       "<input name=\"q\" type=\"hidden\" value=\"data scientist\"/>\n",
       "<input name=\"l\" type=\"hidden\" value=\"\"/>\n",
       "<input name=\"radius\" type=\"hidden\" value=\"25\"/>\n",
       "<input name=\"noscript\" type=\"hidden\" value=\"1\"/>\n",
       "<input name=\"fr\" type=\"hidden\" value=\"t\"/>\n",
       "<input name=\"tk\" type=\"hidden\" value=\"1b9lhuao0bs8rcmh\"/>\n",
       "<input id=\"talertverified\" name=\"verified\" type=\"hidden\" value=\"0\"/>\n",
       "<input name=\"alertparams\" type=\"hidden\" value=\"\"/>\n",
       "<label for=\"talertemail\">My email:</label> <input id=\"talertemail\" maxlength=\"100\" name=\"email\" size=\"25\" type=\"text\" value=\"\"/>\n",
       "<label for=\"trecjobalert\" id=\"trecjobalertlabel\">\n",
       "<input checked=\"\" id=\"trecjobalert\" name=\"recjobalert\" type=\"checkbox\"/>\n",
       "<span>Also get an email with jobs recommended just for me</span>\n",
       "</label>\n",
       "<span class=\"indeed-apply-button\"><span class=\"indeed-apply-button-inner\"><input class=\"indeed-apply-button-label\" id=\"talertsubmit\" type=\"submit\" value=\"Activate\"/></span></span>\n",
       "<style type=\"text/css\">\n",
       "    .indeed-apply-button { cursor : pointer !important; display : inline-block !important; padding : 1px !important; height : 31px !important; -moz-border-radius : 7px !important; border-radius : 7px !important; position : relative !important; text-decoration : none !important;background-color:#79788B; filter:progid:DXImageTransform.Microsoft.gradient(startColorstr='#BCBBCD', endColorstr='#79788B', GradientType=0);background-image: -webkit-gradient(linear, center top, center bottom, from(#BCBBCD), to(#79788B)) !important;background-image: -webkit-linear-gradient(top, #BCBBCD, #79788B) !important;background-image: -moz-linear-gradient(top, #BCBBCD, #79788B) !important;background-image: -o-linear-gradient(top, #BCBBCD, #79788B) !important;background-image: -ms-linear-gradient(top, #BCBBCD, #79788B) !important;background-image: linear-gradient(top, #BCBBCD, #79788B) !important;-webkit-box-shadow: 0 1px 2px rgba(0,0,0,0.2) !important;-moz-box-shadow: 0 1px 2px rgba(0,0,0,0.2) !important;box-shadow: 0 1px 2px rgba(0,0,0,0.2) !important; } #indeed-ia-1329175190441-0:link, #indeed-ia-1329175190441-0:visited, #indeed-ia-1329175190441-0:hover, #indeed-ia-1329175190441-0:active { border : 0 !important; text-decoration : none !important; }\n",
       "\n",
       "    .indeed-apply-button:hover { filter:progid:DXImageTransform.Microsoft.gradient(startColorstr='#6D99F6', endColorstr='#1B45A3', GradientType=0);background-image: -webkit-gradient(linear, center top, center bottom, from(#6D99F6), to(#1B45A3)) !important;background-image: -webkit-linear-gradient(top, #6D99F6, #1B45A3) !important;background-image: -moz-linear-gradient(top, #6D99F6, #1B45A3) !important;background-image: -o-linear-gradient(top, #6D99F6, #1B45A3) !important;background-image: -ms-linear-gradient(top, #6D99F6, #1B45A3) !important;background-image: linear-gradient(top, #6D99F6, #1B45A3) !important; }\n",
       "\n",
       "    .indeed-apply-state-clicked .indeed-apply-button,\n",
       "    .indeed-apply-button:active { filter:progid:DXImageTransform.Microsoft.gradient(startColorstr='#B3BACA', endColorstr='#7C8493', GradientType=0);background-image: -webkit-gradient(linear, center top, center bottom, from(#B3BACA), to(#7C8493)) !important;background-image: -webkit-linear-gradient(top, #B3BACA, #7C8493) !important;background-image: -moz-linear-gradient(top, #B3BACA, #7C8493) !important;background-image: -o-linear-gradient(top, #B3BACA, #7C8493) !important;background-image: -ms-linear-gradient(top, #B3BACA, #7C8493) !important;background-image: linear-gradient(top, #B3BACA, #7C8493) !important;-webkit-box-shadow: none !important;-moz-box-shadow: none !important;box-shadow: none !important; }\n",
       "\n",
       "    .indeed-apply-button-inner { display : inline-block !important; height : 31px !important; -moz-border-radius : 6px !important; border-radius : 6px !important; font : 18px 'Helvetica Neue','Helvetica',Arial !important; font-weight : 200 !important; text-decoration : none !important; text-shadow : 0px 1px #F1F1F4 !important;background-color:#D9D9E2;  color: #FF6703;filter:progid:DXImageTransform.Microsoft.gradient(startColorstr='#FAFAFB', endColorstr='#D9D9E2', GradientType=0);background-image: -webkit-gradient(linear, center top, center bottom, from(#FAFAFB), to(#D9D9E2)) !important;background-image: -webkit-linear-gradient(top, #FAFAFB, #D9D9E2) !important;background-image: -moz-linear-gradient(top, #FAFAFB, #D9D9E2) !important;background-image: -o-linear-gradient(top, #FAFAFB, #D9D9E2) !important;background-image: -ms-linear-gradient(top, #FAFAFB, #D9D9E2) !important;background-image: linear-gradient(top, #FAFAFB, #D9D9E2) !important; }\n",
       "\n",
       "    .indeed-apply-button:active .indeed-apply-button-inner { filter:progid:DXImageTransform.Microsoft.gradient(startColorstr='#E8E8E9', endColorstr='#CBCBD3', GradientType=0);background-image: -webkit-gradient(linear, center top, center bottom, from(#E8E8E9), to(#CBCBD3)) !important;background-image: -webkit-linear-gradient(top, #E8E8E9, #CBCBD3) !important;background-image: -moz-linear-gradient(top, #E8E8E9, #CBCBD3) !important;background-image: -o-linear-gradient(top, #E8E8E9, #CBCBD3) !important;background-image: -ms-linear-gradient(top, #E8E8E9, #CBCBD3) !important;background-image: linear-gradient(top, #E8E8E9, #CBCBD3) !important; }\n",
       "\n",
       "    .indeed-apply-button-label {cursor: pointer; text-align : center !important; border:0; background: transparent;font-size: 12px; font-family: Arial, sans-serif; padding:3px 14px 2px 12px; margin:0; line-height: 26px; }\n",
       "\n",
       "    .indeed-apply-button:active .indeed-apply-button-label,\n",
       "    .indeed-apply-state-clicked .indeed-apply-button-label { -ms-filter: \"progid:DXImageTransform.Microsoft.Alpha(Opacity=0.75)\" !important;filter: alpha(opacity=75) !important;-moz-opacity: 0.75 !important;-khtml-opacity: 0.75 !important;opacity: 0.75 !important; }\n",
       "\n",
       "    #talertemail, #balertemail {  height: 27px; line-height: 24px; padding-left: 6px; padding-right: 6px; font-size: 14px; font-family: Arial, sans-serif; }\n",
       "</style></form>\n",
       "<span class=\"caption\">\n",
       "You can cancel email alerts at any time.</span>\n",
       "</div>\n",
       "</div>\n",
       "</div>\n",
       "</div></td></tr>\n",
       "</table>\n",
       "<div class=\"prime-popover\" id=\"prime-popover-background\">\n",
       "</div>\n",
       "<div class=\"prime-popover\" id=\"prime-popover-div\">\n",
       "<div id=\"prime-popover-x\">\n",
       "<button aria-label=\"close\" id=\"prime-popover-close-button\"><span>×</span></button>\n",
       "</div><style type=\"text/css\">\n",
       "    #prime_promo_logos {\n",
       "        width: 620px;\n",
       "        height: 436px;\n",
       "    }\n",
       "\n",
       "    #prime_promo_logos .heading_logo_div {\n",
       "        margin: 30px 0 24px 0;\n",
       "        text-align: center;\n",
       "    }\n",
       "\n",
       "    #prime_promo_logos .heading_logo_div .heading_logo {\n",
       "        max-height: 50px;\n",
       "        vertical-align: middle;\n",
       "    }\n",
       "\n",
       "    #prime_promo_logos .heading {\n",
       "        font-size: 24px;\n",
       "        color: #ff6600;\n",
       "        text-align: center;\n",
       "        line-height: 26px;\n",
       "    }\n",
       "\n",
       "    #prime_promo_logos .subheading {\n",
       "        font-size: 15px;\n",
       "        color: #666666;\n",
       "        text-align: center;\n",
       "        margin-top: 15px;\n",
       "        margin-bottom: 25px;\n",
       "    }\n",
       "\n",
       "    #prime_promo_logos .content {\n",
       "        background: #F8F8F8;\n",
       "    }\n",
       "\n",
       "    #prime_promo_logos .content .legal {\n",
       "        font-size: 11px;\n",
       "        color: #666666;\n",
       "        padding-top: 15px;\n",
       "        padding-bottom: 20px;\n",
       "        text-align: center;\n",
       "    }\n",
       "\n",
       "    #prime_promo_logos .apply_div {\n",
       "        margin-top: 22px;\n",
       "        margin-bottom: 31px;\n",
       "    }\n",
       "\n",
       "    #learnMore {\n",
       "        color: #FFFFFF;\n",
       "        text-decoration: none !important;\n",
       "        font-size: 18px;\n",
       "        font-weight: bold;\n",
       "    }\n",
       "\n",
       "    #learnMore:hover,  #learnMore:focus {\n",
       "        text-decoration: none !important;\n",
       "    }\n",
       "\n",
       "    #prime_promo_logos .logo_div div {\n",
       "        display: inline-block;\n",
       "        width: 144px;\n",
       "        height: 35px;\n",
       "        text-align: center;\n",
       "    }\n",
       "\n",
       "    #prime_promo_logos .logo {\n",
       "        padding: 0 22.5px 0 22.5px;\n",
       "        max-width: 576px;\n",
       "        max-height: 94px;\n",
       "    }\n",
       "\n",
       "    #prime_promo_logos .logo_center_helper {\n",
       "        display: inline-block;\n",
       "        height: 100%;\n",
       "        vertical-align: middle;\n",
       "    }\n",
       "\n",
       "    #learnMore_div {\n",
       "        text-align: center;\n",
       "    }\n",
       "    #hiddenPrimeButton {\n",
       "        height: 0;\n",
       "        border: 0;\n",
       "        width: 0;\n",
       "        padding: 0;\n",
       "    }\n",
       "</style>\n",
       "<div id=\"prime_promo_logos\">\n",
       "<div class=\"heading_logo_div\">\n",
       "<span class=\"logo_center_helper\"></span>\n",
       "<img alt=\"Indeed Prime\" class=\"heading_logo\" src=\"/images/prime/indeed_prime_logo.png\"/>\n",
       "</div>\n",
       "<div class=\"heading\"><b>3 minutes</b> could get you</div>\n",
       "<div class=\"heading\"><b>10 offers</b> from top tech companies</div>\n",
       "<div class=\"apply_div\" id=\"learnMore_div\">\n",
       "<button autofocus=\"\" id=\"hiddenPrimeButton\" tabindex=\"-1\"></button>\n",
       "<a class=\"roundedCorner indeedblue\" href=\"/promo/prime\" id=\"learnMore\" onclick=\"this.href = appendParamsOnce( this.href, '?from=primepopover&amp;subfrom=primepopover&amp;trk.origin=jobsearch&amp;trk.variant=primepopover&amp;trk.tk=1b9lhuanubs8rc1o&amp;vertical=TECH&amp;x_isid=primepopover&amp;x_ikw=data+scientist&amp;x_sid=primepopover&amp;x_kw=data+scientist')\" role=\"button\">Learn More</a>\n",
       "</div>\n",
       "<div class=\"content\">\n",
       "<div class=\"logo_div\">\n",
       "<div>\n",
       "<span class=\"logo_center_helper\"></span>\n",
       "<img alt=\"Dropbox, Evernote, Facebook, Redfin, Twilio, Uber, Slack... and more!\" class=\"logo\" src=\"/images/prime/cmp-logos.png\"/>\n",
       "</div>\n",
       "</div>\n",
       "<div class=\"legal\">Representative Companies Using Indeed Prime</div>\n",
       "</div>\n",
       "</div>\n",
       "<img height=\"1\" src=\"/imgping?type=primepromo&amp;keyword=data scientist&amp;location=&amp;vertical=TECH&amp;promo=primepopover\" width=\"1\"/>\n",
       "</div>\n",
       "<style type=\"text/css\">\n",
       "    #prime-popover-background {\n",
       "        z-index: 2;\n",
       "        background: #000000;\n",
       "        width: 100%;\n",
       "        height: 100%;\n",
       "        opacity: .30;\n",
       "        filter: alpha(opacity=30);\n",
       "        top: 0;\n",
       "    }\n",
       "    #prime-popover-x {\n",
       "        float: right;\n",
       "        margin: 1px 1px 0 0;\n",
       "        cursor: pointer;\n",
       "        font-weight: bold;\n",
       "        font-size: 18px;\n",
       "        color: #666;\n",
       "    }\n",
       "    #prime-popover-close-button {\n",
       "        background:none;\n",
       "        border:none;\n",
       "        font-weight: bold;\n",
       "        font-size: 18px;\n",
       "        color: #666;\n",
       "    }\n",
       "    #prime-popover-close-button:hover {\n",
       "        cursor: pointer;\n",
       "    }\n",
       "    .prime-popover {\n",
       "        position: fixed;\n",
       "        display: none;\n",
       "    }\n",
       "    #prime-popover-div {\n",
       "        z-index: 3;\n",
       "        height: auto;\n",
       "        width: auto;\n",
       "        background: #ffffff;\n",
       "        display: none; /*hide before the cookie check*/\n",
       "        max-width: 620px;\n",
       "    }\n",
       "    \n",
       "    #prime_promo {\n",
       "        background:#ffffff\n",
       "    }\n",
       "</style>\n",
       "<script type=\"text/javascript\">\n",
       "            window['primePopoverShown'] = 'popover';\n",
       "        </script>\n",
       "<script>\n",
       "var focusHandlers = [];\n",
       "var linkHighlighter = new LinkHighlighter();\n",
       "focusHandlers.push(googBind(linkHighlighter.fadeToOriginalColor, linkHighlighter));\n",
       "var lostFocusHandlers = [];\n",
       "lostFocusHandlers.push(googBind(linkHighlighter.clickedAway, linkHighlighter, \"#551a8b\"));\n",
       "\n",
       "\n",
       "var showResumeUpload = false;\n",
       "var hasResume = false;\n",
       "var resumeEnabled = true;\n",
       "var didYouApplyPrompt = new DidYouApplyPrompt('1b9lhuao0bs8rcmh',\n",
       "60, 'serp', false,\n",
       "showResumeUpload && !hasResume && resumeEnabled, 'https://my.indeed.com');\n",
       "focusHandlers.push(googBind(didYouApplyPrompt.returnedToPage, didYouApplyPrompt));\n",
       "lostFocusHandlers.push(googBind(didYouApplyPrompt.leftPage, didYouApplyPrompt));\n",
       "didYouApplyPrompt.dyaChangeFromCookie();\n",
       "\n",
       "var clickTime = new ClickTime(window.tk, 'serp', 'jobtitle', focusHandlers, lostFocusHandlers);\n",
       "</script>\n",
       "<script>enableAdometry();</script>\n",
       "<style type=\"text/css\">\n",
       "#secondary_nav a,#secondary_nav a:link,#secondary_nav a:visited{text-decoration:none}#secondary_nav a:hover{text-decoration:underline}.comment_bubble a,.comment_bubble a:link,.comment_bubble a:visited{color:#77c}.footer a,.footer a:link,.footer a:visited{color:#77c}.footer .sl:visited{color:#77c}.jsf .sl{color:#77c}.sl,.sl:link,.sl:visited{color:#77c}#cookie-alert .learn-more,#cookie-alert .learn-more :visited{color:#77c}#jobsearch .sl{color:#77c}#secondary_nav a,#secondary_nav a:link,#secondary_nav a:visited{color:#77c}.arrowStub{border-top-color:#666}.carouselInlineAd .cmp-note{color:#6F6F6F}.cmp_header{color:#666}.cmp_meta{color:#666}.comment_bubble{color:#666}.date,.visits{color:#808080}.dd-disabled{color:#666}.dd-disabled .dd-button-arrow{color:#666}.hp_welcome_message{color:#6F6F6F}.inwrap input{border-bottom-color:#aaa;border-\\@LINE_END\\@-color:#aaa}.ipadPromoCopy{color:#666}.itaText{color:#6F6F6F}.jsf .label{color:#aaa}.location{color:#666}.nps-popover-x-span{color:#666}.popover-x-span{color:#666}.rjl{color:#666}.rsc{color:#aaa}.rsh{color:#6F6F6F}.svh{color:#6F6F6F}.sjh{color:#666}.sup_grey{color:#aaa}#fromageMsg{color:#666}#jobsearch .label,#jobsearch .label label{color:#aaa}#not-likely-div{color:#808080}#original_radius_result{color:#666}#question-intro-div{color:#808080}#userOptionsLabel.active b{color:#666}#userOptionsLabel.active .arrowStub{border-bottom-color:#666}#very-likely-div{color:#808080}.jasxcolorcontrasttst-blueOnly .comment_bubble a,.jasxcolorcontrasttst-blueOnly .comment_bubble a:link,.jasxcolorcontrasttst-blueOnly .comment_bubble a:visited{color:#6D6DC3}.jasxcolorcontrasttst-blueOnly .footer a,.jasxcolorcontrasttst-blueOnly .footer a:link,.jasxcolorcontrasttst-blueOnly .footer a:visited{color:#6D6DC3}.jasxcolorcontrasttst-blueOnly .footer .sl:visited{color:#6D6DC3}.jasxcolorcontrasttst-blueOnly .jsf .sl{color:#6D6DC3}.jasxcolorcontrasttst-blueOnly .sl,.jasxcolorcontrasttst-blueOnly .sl:link,.jasxcolorcontrasttst-blueOnly .sl:visited{color:#6D6DC3}.jasxcolorcontrasttst-blueOnly #cookie-alert .learn-more,.jasxcolorcontrasttst-blueOnly #cookie-alert .learn-more :visited{color:#6D6DC3}.jasxcolorcontrasttst-blueOnly #jobsearch .sl{color:#6D6DC3}.jasxcolorcontrasttst-blueOnly #secondary_nav a,.jasxcolorcontrasttst-blueOnly #secondary_nav a:link,.jasxcolorcontrasttst-blueOnly #secondary_nav a:visited{color:#6D6DC3}.jasxcolorcontrasttst-blueOnly .arrowStub{border-top-color:#666}.jasxcolorcontrasttst-blueOnly .carouselInlineAd .cmp-note{color:#6F6F6F}.jasxcolorcontrasttst-blueOnly .cmp_header{color:#666}.jasxcolorcontrasttst-blueOnly .cmp_meta{color:#666}.jasxcolorcontrasttst-blueOnly .comment_bubble{color:#666}.jasxcolorcontrasttst-blueOnly .date,.jasxcolorcontrasttst-blueOnly .visits{color:#808080}.jasxcolorcontrasttst-blueOnly .dd-disabled{color:#666}.jasxcolorcontrasttst-blueOnly .dd-disabled .dd-button-arrow{color:#666}.jasxcolorcontrasttst-blueOnly .hp_welcome_message{color:#6F6F6F}.jasxcolorcontrasttst-blueOnly .inwrap input{border-bottom-color:#aaa;border-\\@LINE_END\\@-color:#aaa}.jasxcolorcontrasttst-blueOnly .ipadPromoCopy{color:#666}.jasxcolorcontrasttst-blueOnly .itaText{color:#6F6F6F}.jasxcolorcontrasttst-blueOnly .jsf .label{color:#aaa}.jasxcolorcontrasttst-blueOnly .location{color:#666}.jasxcolorcontrasttst-blueOnly .nps-popover-x-span{color:#666}.jasxcolorcontrasttst-blueOnly .popover-x-span{color:#666}.jasxcolorcontrasttst-blueOnly .rjl{color:#666}.jasxcolorcontrasttst-blueOnly .rsc{color:#aaa}.jasxcolorcontrasttst-blueOnly .rsh{color:#6F6F6F}.jasxcolorcontrasttst-blueOnly .svh{color:#6F6F6F}.jasxcolorcontrasttst-blueOnly .sjh{color:#666}.jasxcolorcontrasttst-blueOnly .sup_grey{color:#aaa}.jasxcolorcontrasttst-blueOnly #fromageMsg{color:#666}.jasxcolorcontrasttst-blueOnly #jobsearch .label,.jasxcolorcontrasttst-blueOnly #jobsearch .label label{color:#aaa}.jasxcolorcontrasttst-blueOnly #not-likely-div{color:#808080}.jasxcolorcontrasttst-blueOnly #original_radius_result{color:#666}.jasxcolorcontrasttst-blueOnly #question-intro-div{color:#808080}.jasxcolorcontrasttst-blueOnly #userOptionsLabel.active b{color:#666}.jasxcolorcontrasttst-blueOnly #userOptionsLabel.active .arrowStub{border-bottom-color:#666}.jasxcolorcontrasttst-blueOnly #very-likely-div{color:#808080}.jasxcolorcontrasttst-greyOnly .comment_bubble a,.jasxcolorcontrasttst-greyOnly .comment_bubble a:link,.jasxcolorcontrasttst-greyOnly .comment_bubble a:visited{color:#77c}.jasxcolorcontrasttst-greyOnly .footer a,.jasxcolorcontrasttst-greyOnly .footer a:link,.jasxcolorcontrasttst-greyOnly .footer a:visited{color:#77c}.jasxcolorcontrasttst-greyOnly .footer .sl:visited{color:#77c}.jasxcolorcontrasttst-greyOnly .jsf .sl{color:#77c}.jasxcolorcontrasttst-greyOnly .sl,.jasxcolorcontrasttst-greyOnly .sl:link,.jasxcolorcontrasttst-greyOnly .sl:visited{color:#77c}.jasxcolorcontrasttst-greyOnly #cookie-alert .learn-more,.jasxcolorcontrasttst-greyOnly #cookie-alert .learn-more :visited{color:#77c}.jasxcolorcontrasttst-greyOnly #jobsearch .sl{color:#77c}.jasxcolorcontrasttst-greyOnly #secondary_nav a,.jasxcolorcontrasttst-greyOnly #secondary_nav a:link,.jasxcolorcontrasttst-greyOnly #secondary_nav a:visited{color:#77c}.jasxcolorcontrasttst-greyOnly .arrowStub{border-top-color:#666}.jasxcolorcontrasttst-greyOnly .carouselInlineAd .cmp-note{color:#666}.jasxcolorcontrasttst-greyOnly .cmp_header{color:#666}.jasxcolorcontrasttst-greyOnly .cmp_meta{color:#666}.jasxcolorcontrasttst-greyOnly .comment_bubble{color:#666}.jasxcolorcontrasttst-greyOnly .date,.jasxcolorcontrasttst-greyOnly .visits{color:#666}.jasxcolorcontrasttst-greyOnly .dd-disabled{color:#666}.jasxcolorcontrasttst-greyOnly .dd-disabled .dd-button-arrow{color:#666}.jasxcolorcontrasttst-greyOnly .hp_welcome_message{color:#666}.jasxcolorcontrasttst-greyOnly .inwrap input{border-bottom-color:#666;border-\\@LINE_END\\@-color:#666}.jasxcolorcontrasttst-greyOnly .ipadPromoCopy{color:#666}.jasxcolorcontrasttst-greyOnly .itaText{color:#666}.jasxcolorcontrasttst-greyOnly .jsf .label{color:#666}.jasxcolorcontrasttst-greyOnly .location{color:#666}.jasxcolorcontrasttst-greyOnly .nps-popover-x-span{color:#666}.jasxcolorcontrasttst-greyOnly .popover-x-span{color:#666}.jasxcolorcontrasttst-greyOnly .rjl{color:#666}.jasxcolorcontrasttst-greyOnly .rsc{color:#666}.jasxcolorcontrasttst-greyOnly .rsh{color:#666}.jasxcolorcontrasttst-greyOnly .svh{color:#666}.jasxcolorcontrasttst-greyOnly .sjh{color:#666}.jasxcolorcontrasttst-greyOnly .sup_grey{color:#666}.jasxcolorcontrasttst-greyOnly #fromageMsg{color:#666}.jasxcolorcontrasttst-greyOnly #jobsearch .label,.jasxcolorcontrasttst-greyOnly #jobsearch .label label{color:#666}.jasxcolorcontrasttst-greyOnly #not-likely-div{color:#666}.jasxcolorcontrasttst-greyOnly #original_radius_result{color:#666}.jasxcolorcontrasttst-greyOnly #question-intro-div{color:#666}.jasxcolorcontrasttst-greyOnly #userOptionsLabel.active b{color:#666}.jasxcolorcontrasttst-greyOnly #userOptionsLabel.active .arrowStub{border-bottom-color:#666}.jasxcolorcontrasttst-greyOnly #very-likely-div{color:#666}.jasxcolorcontrasttst-greyAndBlue .comment_bubble a,.jasxcolorcontrasttst-greyAndBlue .comment_bubble a:link,.jasxcolorcontrasttst-greyAndBlue .comment_bubble a:visited{color:#6D6DC3}.jasxcolorcontrasttst-greyAndBlue .footer a,.jasxcolorcontrasttst-greyAndBlue .footer a:link,.jasxcolorcontrasttst-greyAndBlue .footer a:visited{color:#6D6DC3}.jasxcolorcontrasttst-greyAndBlue .footer .sl:visited{color:#6D6DC3}.jasxcolorcontrasttst-greyAndBlue .jsf .sl{color:#6D6DC3}.jasxcolorcontrasttst-greyAndBlue .sl,.jasxcolorcontrasttst-greyAndBlue .sl:link,.jasxcolorcontrasttst-greyAndBlue .sl:visited{color:#6D6DC3}.jasxcolorcontrasttst-greyAndBlue #cookie-alert .learn-more,.jasxcolorcontrasttst-greyAndBlue #cookie-alert .learn-more :visited{color:#6D6DC3}.jasxcolorcontrasttst-greyAndBlue #jobsearch .sl{color:#6D6DC3}.jasxcolorcontrasttst-greyAndBlue #secondary_nav a,.jasxcolorcontrasttst-greyAndBlue #secondary_nav a:link,.jasxcolorcontrasttst-greyAndBlue #secondary_nav a:visited{color:#6D6DC3}.jasxcolorcontrasttst-greyAndBlue .arrowStub{border-top-color:#666}.jasxcolorcontrasttst-greyAndBlue .carouselInlineAd .cmp-note{color:#666}.jasxcolorcontrasttst-greyAndBlue .cmp_header{color:#666}.jasxcolorcontrasttst-greyAndBlue .cmp_meta{color:#666}.jasxcolorcontrasttst-greyAndBlue .comment_bubble{color:#666}.jasxcolorcontrasttst-greyAndBlue .date,.jasxcolorcontrasttst-greyAndBlue .visits{color:#666}.jasxcolorcontrasttst-greyAndBlue .dd-disabled{color:#666}.jasxcolorcontrasttst-greyAndBlue .dd-disabled .dd-button-arrow{color:#666}.jasxcolorcontrasttst-greyAndBlue .hp_welcome_message{color:#666}.jasxcolorcontrasttst-greyAndBlue .inwrap input{border-bottom-color:#666;border-\\@LINE_END\\@-color:#666}.jasxcolorcontrasttst-greyAndBlue .ipadPromoCopy{color:#666}.jasxcolorcontrasttst-greyAndBlue .itaText{color:#666}.jasxcolorcontrasttst-greyAndBlue .jsf .label{color:#666}.jasxcolorcontrasttst-greyAndBlue .location{color:#666}.jasxcolorcontrasttst-greyAndBlue .nps-popover-x-span{color:#666}.jasxcolorcontrasttst-greyAndBlue .popover-x-span{color:#666}.jasxcolorcontrasttst-greyAndBlue .rjl{color:#666}.jasxcolorcontrasttst-greyAndBlue .rsc{color:#666}.jasxcolorcontrasttst-greyAndBlue .rsh{color:#666}.jasxcolorcontrasttst-greyAndBlue .svh{color:#666}.jasxcolorcontrasttst-greyAndBlue .sjh{color:#666}.jasxcolorcontrasttst-greyAndBlue .sup_grey{color:#666}.jasxcolorcontrasttst-greyAndBlue #fromageMsg{color:#666}.jasxcolorcontrasttst-greyAndBlue #jobsearch .label,.jasxcolorcontrasttst-greyAndBlue #jobsearch .label label{color:#666}.jasxcolorcontrasttst-greyAndBlue #not-likely-div{color:#666}.jasxcolorcontrasttst-greyAndBlue #original_radius_result{color:#666}.jasxcolorcontrasttst-greyAndBlue #question-intro-div{color:#666}.jasxcolorcontrasttst-greyAndBlue #userOptionsLabel.active b{color:#666}.jasxcolorcontrasttst-greyAndBlue #userOptionsLabel.active .arrowStub{border-bottom-color:#666}.jasxcolorcontrasttst-greyAndBlue #very-likely-div{color:#666}\n",
       "</style>\n",
       "<!-- jobs -->\n",
       "<div class=\"jasxcolorcontrasttst-inactive\" id=\"footerWrapper\" role=\"contentinfo\" style=\"text-align:center;\">\n",
       "<div id=\"footer\" style=\"text-align:left;\">\n",
       "<div class=\"separator_bottom\"></div>\n",
       "<div id=\"secondary_nav\">\n",
       "<div style=\"margin: 1em;\"><span class=\"gaj_heading\">Indeed helps people get jobs:</span> <a class=\"sl\" href=\"/promo/gotajob\" onmousedown=\"this.href = appendParamsOnce( this.href, '?trk.origin=jobsearch&amp;trk.tk=1b9lhuao0bs8rcmh')\">Over 10 million stories shared</a></div><div style=\"text-align:center; padding:1em;\">For jobs in Thailand, visit <a href=\"http://th.indeed.com/\">th.indeed.com</a></div><a href=\"/\" id=\"jobs_product_link\" title=\"Jobs\">Jobs</a> - <a href=\"/Best-Places-to-Work\" id=\"companies_product_link\" title=\"Browse Companies\">Browse Companies</a> - <a href=\"/salaries\" id=\"salaries_product_link\" title=\"Salary Search\">Salaries</a> - <a href=\"/jobtrends\" id=\"trends_product_link\" title=\"Career Trends\">Trends</a> - <a href=\"/forum\" id=\"forums_product_link\" title=\"Employment Forums\">Forums</a> - <script type=\"text/javascript\">\n",
       "var jobsProductLink = document.getElementById('jobs_product_link');\n",
       "document.getElementById('trends_product_link').onclick = function() { if ( !document.js ) { return; } var q = document.js.q.value; if ( q ) { window.location = '/jobtrends?q=' + urlencode( q ) + '&l=' + urlencode( document.js.l.value ); return false; } };document.getElementById('forums_product_link').onclick = function() { if ( !document.js ) { return; } var q = document.js.q.value; if ( q ) { window.location = '/forum/?q=' + urlencode( q ) + '&l=' + urlencode( document.js.l.value ); return false; } };document.getElementById('companies_product_link').onclick = function() { window.location = '/Best-Places-to-Work?campaignid=jobs'; return false;};</script>\n",
       "<a href=\"/find-jobs.jsp\">Browse Jobs</a> - <a href=\"/tools/jobseeker/\">Tools</a> - <a href=\"http://www.indeed.jobs\">Work at Indeed</a> - <a href=\"/publisher\">API</a> - <a href=\"/intl/en/about.html\"><nobr>About</nobr></a> - <a href=\"https://indeed.zendesk.com/hc/en-us\">Help Center</a>\n",
       "<style type=\"text/css\">\n",
       "#footer-legal {\n",
       "margin-top: 10px;\n",
       "font-size: 9pt;\n",
       "}\n",
       "</style>\n",
       "<div id=\"footer-legal\">\n",
       "<div class=\"legal-footer\">©2017 Indeed - <a href=\"/legal\">Cookies, Privacy and Terms</a></div></div>\n",
       "</div>\n",
       "</div>\n",
       "</div>\n",
       "</td></tr></table>\n",
       "<script type=\"text/javascript\">\n",
       "        function sm_cv_tag(activityId) {\n",
       "            var ebRand = Math.random()+'';\n",
       "            ebRand = ebRand * 1000000;\n",
       "\n",
       "            var tagContainer = document.body.appendChild(document.createElement(\"div\"));\n",
       "            tagContainer.style.position=\"absolute\";\n",
       "            tagContainer.style.top=\"0\";\n",
       "            tagContainer.style.left=\"0\";\n",
       "            tagContainer.style.width=\"1px\";\n",
       "            tagContainer.style.height=\"1px\";\n",
       "            tagContainer.style.display=\"none\";\n",
       "\n",
       "            var jsTag = document.createElement('script');\n",
       "            jsTag.src = '//bs.serving-sys.com/Serving/ActivityServer.bs?cn=as&ActivityID=' + activityId + '&rnd=' + ebRand;\n",
       "            jsTag.setAttribute('crossorigin', 'anonymous');\n",
       "            jsTag.style.width=\"1px\";\n",
       "            jsTag.style.height=\"1px\";\n",
       "            jsTag.style.border=\"0\";\n",
       "            jsTag.async = 1;\n",
       "\n",
       "            var noScript = document.createElement(\"noscript\");\n",
       "            var noScriptText = '<img width=\"1\" height=\"1\" style=\"border:0\" src=\"//bs.serving-sys.com/Serving/ActivityServer.bs?cn=as&ActivityID=' + activityId + '&ns=1\"/>';\n",
       "\n",
       "            // IE less than 9 and RCs do not support innerHTML on some DOM elements, but supports .text for it\n",
       "            if (((typeof noScript.canHaveHTML) === \"boolean\") && (noScript.canHaveHTML === false)) { // canHaveHTML only exists for IE\n",
       "                noScript.text = noScriptText;\n",
       "            } else {\n",
       "                noScript.innerHTML = noScriptText;\n",
       "            }\n",
       "\n",
       "            tagContainer.appendChild(jsTag);\n",
       "            tagContainer.appendChild(noScript);\n",
       "        }\n",
       "    </script>\n",
       "<script type=\"text/javascript\">\n",
       "<!--\n",
       "(function ( tk ) { if ( tk && document.images ) { var s=\"/\", q=\"?\", a=\"&\", e=\"=\"; rpc(s+\"rpc\"+s+\"log\"+q+\"a\"+e+\"jsv\"+a+\"tk\"+e+tk); } })('1b9lhuao0bs8rcmh');\n",
       "function jsall_loaded() {\n",
       "\n",
       "\n",
       "initProcessLeftoverDwellEntries();\n",
       "\n",
       "    detectBrowserState('jobsearch', '1b9lhuao0bs8rcmh');\n",
       "\n",
       "attachSjBlock('');\n",
       "attachJaBlock('');\n",
       "}\n",
       "if (window['closureReady'] === true) {\n",
       "jsall_loaded();\n",
       "}\n",
       "//-->\n",
       "</script>\n",
       "<script type=\"text/javascript\">\n",
       "PENDING_ANALYTICS_VARS = window.PENDING_ANALYTICS_VARS || [];\n",
       "PENDING_ANALYTICS_VARS[PENDING_ANALYTICS_VARS.length] = ['_setCustomVar', 5, 'loggedIn', 'false', 3];\n",
       "</script>\n",
       "<script type=\"text/javascript\">\n",
       "        var ga_domains = [];\n",
       "        ga_domains.push('indeed.co.in');ga_domains.push('indeed.lu');ga_domains.push('indeed.fr');ga_domains.push('indeed.de');ga_domains.push('indeed.com.br');ga_domains.push('indeed.co.uk');ga_domains.push('indeed.hk');ga_domains.push('indeed.fi');ga_domains.push('indeed.pt');ga_domains.push('indeed.jp');ga_domains.push('indeed.com');ga_domains.push('indeed.com.sg');ga_domains.push('indeed.nl');ga_domains.push('indeed.com.pk');ga_domains.push('indeed.cl');ga_domains.push('indeed.es');ga_domains.push('indeed.co.ve');ga_domains.push('indeed.ae');ga_domains.push('indeed.com.mx');ga_domains.push('indeed.com.my');ga_domains.push('indeed.ch');ga_domains.push('indeed.com.co');ga_domains.push('indeed.com.ph');ga_domains.push('indeed.co.za');ga_domains.push('indeed.ie');ga_domains.push('indeed.com.au');ga_domains.push('indeed.ca');ga_domains.push('indeed.com.pe');\n",
       "\n",
       "        (function (i, s, o, g, r, a, m) {\n",
       "            i['GoogleAnalyticsObject'] = r;\n",
       "            i[r] = i[r] || function () {\n",
       "                (i[r].q = i[r].q || []).push(arguments)\n",
       "            }, i[r].l = 1 * new Date();\n",
       "            a = s.createElement(o),\n",
       "                    m = s.getElementsByTagName(o)[0];\n",
       "            a.async = 1;\n",
       "            a.src = g;\n",
       "            m.parentNode.insertBefore(a, m)\n",
       "        })(window, document, 'script', '//www.google-analytics.com/analytics.js', 'ga');\n",
       "\n",
       "        var ga = ga || [];\n",
       "        ga('create', 'UA-90780-1', 'auto', {\n",
       "            'allowLinker': true\n",
       "        });\n",
       "        ga('require', 'linkid');\n",
       "        ga('require', 'linker');\n",
       "        ga('linker:autoLink', ga_domains, false, true);\n",
       "        ga('require', 'displayfeatures');\n",
       "        ga('send', 'pageview');\n",
       "\n",
       "        \n",
       "        (function () {\n",
       "            if (window.PENDING_ANALYTICS_VARS && window.PENDING_ANALYTICS_VARS.length > 0) {\n",
       "                for (var i in PENDING_ANALYTICS_VARS) {\n",
       "                    ga('set', PENDING_ANALYTICS_VARS[i][2], PENDING_ANALYTICS_VARS[i][3]);\n",
       "                }\n",
       "            }\n",
       "        })();\n",
       "    </script>\n",
       "<!-- Facebook Pixel Code -->\n",
       "<script>\n",
       "    !function(f,b,e,v,n,t,s){if(f.fbq)return;n=f.fbq=function(){n.callMethod?\n",
       "            n.callMethod.apply(n,arguments):n.queue.push(arguments)};if(!f._fbq)f._fbq=n;\n",
       "        n.push=n;n.loaded=!0;n.version='2.0';n.queue=[];t=b.createElement(e);t.async=!0;\n",
       "        t.src=v;s=b.getElementsByTagName(e)[0];s.parentNode.insertBefore(t,s)}(window,\n",
       "            document,'script','https://connect.facebook.net/en_US/fbevents.js');\n",
       "\n",
       "    fbq('init', '579216298929618');\n",
       "    fbq('track', \"PageView\");</script>\n",
       "<noscript><img height=\"1\" src=\"https://www.facebook.com/tr?id=579216298929618&amp;ev=PageView&amp;noscript=1\" style=\"display:none\" width=\"1\"/></noscript>\n",
       "<!-- End Facebook Pixel Code -->\n",
       "<script>\n",
       "var _comscore = _comscore || [];\n",
       "_comscore.push({ c1: \"2\", c2: \"6486505\", c4:\"www.indeed.com/q-data-scientist-jobs.html\", c15:\"1b9lhuanubs8rc1o\"});\n",
       "(function() { var s = document.createElement(\"script\"), el = document.getElementsByTagName(\"script\")[0]; s.async = true; s.src = (document.location.protocol == \"https:\" ? \"https://sb\" : \"http://b\") + \".scorecardresearch.com/beacon.js\"; el.parentNode.insertBefore(s, el); })();\n",
       "</script>\n",
       "<noscript>\n",
       "<img alt=\"\" height=\"0\" src=\"http://b.scorecardresearch.com/p?c1=2&amp;c2=6486505&amp;c4=www.indeed.com%2Fq-data-scientist-jobs.html&amp;c15=1b9lhuanubs8rc1o&amp;cv=2.0&amp;cj=1\" style=\"display:none\" width=\"0\"/>\n",
       "</noscript>\n",
       "<img height=\"0\" src=\"//log.dmtry.com/redir/1/0/4102/1011464/0/1/189/0/1017/1.ver?at=v&amp;d=PxConv\" width=\"0\"/>\n",
       "<script>(function(){\n",
       "// 1: branded ad; 2: featured employer\n",
       "var links = {\n",
       "    ups1: '',\n",
       "    ups2: '',\n",
       "    uber1: '',\n",
       "    uber2: '',\n",
       "    geico1: '//survey.g.doubleclick.net/async_survey?site=qgfp2xu2hrmhvab6dteguwiwlm',\n",
       "    geico2: '//survey.g.doubleclick.net/async_survey?site=bqkbab6ycz63xptemth64d7ag4',\n",
       "    cellular1: '',\n",
       "    cellular2: '',\n",
       "    '': '//survey.g.doubleclick.net/async_survey?site=zkzmxam5i22lgspoirybpechbu'\n",
       "};\n",
       "\n",
       "function age() {\n",
       "    var ctk = ('; ' + document.cookie).split('; CTK=')[1];\n",
       "    if (!ctk) {\n",
       "        return 0;\n",
       "    }\n",
       "\n",
       "    var ts = 0;\n",
       "    for (var i=0; i<9; i++) {\n",
       "        var c = ctk.charCodeAt(i);\n",
       "        ts = ts * 32 + (c <= 57 ? c - 48 : c - 87);\n",
       "    }\n",
       "\n",
       "    return Date.now() - ts;\n",
       "}\n",
       "\n",
       "function findBrandedAd() {\n",
       "    var elements = document.getElementsByClassName('cmp-logo');\n",
       "    if (elements.length != 0) {\n",
       "        switch (elements[0].src.substr(-32)) {\n",
       "            case '6b0aa50f03a4494f8f059fbc8e9a8bff':\n",
       "                return 'geico1';\n",
       "            case 'd2b5ea2f96085bc28e430130c09c4ad4':\n",
       "                return 'cellular1';\n",
       "            case '56c538e1d4612864eb7efd974756770a':\n",
       "                return 'ups1';\n",
       "            case 'a3baab48c0e340098fb943ba8b3b63da':\n",
       "                return 'uber1';\n",
       "        }\n",
       "    }\n",
       "}\n",
       "\n",
       "function findFeaturedEmployer() {\n",
       "    var elements = document.getElementsByClassName('femp_cmp_link');\n",
       "    if (elements.length != 0) {\n",
       "        var href = elements[0].href.toLowerCase();\n",
       "        if (href.indexOf('ups') >= 0) {\n",
       "            return 'ups2';\n",
       "        } else if (href.indexOf('uber-partner-drivers') >= 0) {\n",
       "            return 'uber2';\n",
       "        } else if (href.indexOf('geico') >= 0) {\n",
       "            return 'geico2';\n",
       "        } else if (href.indexOf('cellular-sales') >= 0) {\n",
       "            return 'cellular2';\n",
       "        }\n",
       "    }\n",
       "}\n",
       "\n",
       "var ONE_DAY = 24 * 60 * 60 * 1000;\n",
       "\n",
       "if (age() < ONE_DAY) {\n",
       "    var adType = findBrandedAd() || findFeaturedEmployer();\n",
       "    if (adType) {\n",
       "        try {\n",
       "            localStorage.setItem('seenad', adType);\n",
       "        } catch (e) {\n",
       "        }\n",
       "    }\n",
       "} else {\n",
       "    var adType = null;\n",
       "    try {\n",
       "        adType = localStorage.getItem('seenad') || '';\n",
       "    } catch (e) {\n",
       "    }\n",
       "\n",
       "    if ((adType != null) && links[adType]) {\n",
       "        var script = document.createElement('SCRIPT');\n",
       "        script.async = script.defer = true;\n",
       "        script.src = links[adType];\n",
       "        document.body.appendChild(script);\n",
       "    }\n",
       "}\n",
       "})();</script>\n",
       "</body>\n",
       "</html>"
      ]
     },
     "execution_count": 107,
     "metadata": {},
     "output_type": "execute_result"
    }
   ],
   "source": [
    "# Fixed url for job postings containing data scientist\n",
    "url = 'http://www.indeed.com/jobs?q=data+scientist&l='\n",
    "# read the website\n",
    "source = urllib.request.urlopen(url).read()\n",
    "# parse html code\n",
    "bs_tree = bs4.BeautifulSoup(source,\"lxml\")\n",
    "bs_tree"
   ]
  },
  {
   "cell_type": "code",
   "execution_count": 109,
   "metadata": {
    "collapsed": false,
    "slideshow": {
     "slide_type": "slide"
    }
   },
   "outputs": [
    {
     "name": "stdout",
     "output_type": "stream",
     "text": [
      "Search yielded 23,095 hits.\n",
      "23095\n"
     ]
    }
   ],
   "source": [
    "# see how many job postings we found\n",
    "job_count_string = bs_tree.find(id = 'searchCount').contents[0]\n",
    "job_count_string = job_count_string.split()[-1]\n",
    "print(\"Search yielded %s hits.\" % (job_count_string))\n",
    "\n",
    "# not that job_count so far is still a string, \n",
    "# not an integer, and the , separator prevents \n",
    "# us from just casting it to int\n",
    "\n",
    "job_count_digits = [int(d) for d in job_count_string if d.isdigit()]\n",
    "job_count = np.sum([digit*(10**exponent) for digit, exponent in \n",
    "                    zip(job_count_digits[::-1], range(len(job_count_digits)))])\n",
    "\n",
    "print (job_count)"
   ]
  },
  {
   "cell_type": "code",
   "execution_count": 116,
   "metadata": {
    "collapsed": false,
    "slideshow": {
     "slide_type": "slide"
    }
   },
   "outputs": [
    {
     "name": "stdout",
     "output_type": "stream",
     "text": [
      "2310\n",
      "We found a lot of jobs:  9\n"
     ]
    }
   ],
   "source": [
    "# The website is only listing 10 results per page, \n",
    "# so we need to scrape them page after page\n",
    "num_pages = int(np.ceil(job_count/10.0))\n",
    "\n",
    "base_url = 'http://www.indeed.com'\n",
    "job_links = []\n",
    "for i in range(1): #do range(num_pages) if you want them all\n",
    "    if i%10==0:\n",
    "        print (num_pages-i)\n",
    "    url = 'http://www.indeed.com/jobs?q=data+scientist&start=' + str(i*10)\n",
    "    html_page = urllib.request.urlopen(url).read() \n",
    "    bs_tree = bs4.BeautifulSoup(html_page,\"lxml\")\n",
    "    job_link_area = bs_tree.find(id = 'resultsCol')\n",
    "    job_postings = job_link_area.findAll(\"div\")\n",
    "    job_postings = [jp for jp in job_postings if not jp.get('class') is None \n",
    "                    and ''.join(jp.get('class')) ==\"rowresult\"]\n",
    "    job_ids = [jp.get('data-jk') for jp in job_postings]\n",
    "    \n",
    "    # go after each link\n",
    "    for id in job_ids:\n",
    "        job_links.append(base_url + '/rc/clk?jk=' + id)\n",
    "\n",
    "    time.sleep(1)\n",
    "\n",
    "print (\"We found a lot of jobs: \", len(job_links))"
   ]
  },
  {
   "cell_type": "markdown",
   "metadata": {
    "slideshow": {
     "slide_type": "slide"
    }
   },
   "source": [
    "Some precautions to enable us to restart our search\n",
    "========================="
   ]
  },
  {
   "cell_type": "code",
   "execution_count": null,
   "metadata": {
    "collapsed": true,
    "slideshow": {
     "slide_type": "-"
    }
   },
   "outputs": [],
   "source": [
    "# Save the scraped links\n",
    "#with open('data/scraped_links.pkl', 'wb') as f:\n",
    "#    cPickle.dump(job_links, f)\n",
    "    \n",
    "# Read canned scraped links\n",
    "with open('data/scraped_links.pkl', 'r') as f:\n",
    "    job_links = cPickle.load(f)    "
   ]
  },
  {
   "cell_type": "code",
   "execution_count": null,
   "metadata": {
    "collapsed": true,
    "slideshow": {
     "slide_type": "slide"
    }
   },
   "outputs": [],
   "source": [
    "skill_set = {'mapreduce': 0, 'spark': 0}\n",
    "\n",
    "## write initialization into a file, so we can restart later\n",
    "#with open('scraped_links_restart.pkl', 'wb') as f:\n",
    "#    cPickle.dump((skill_set, 0),f)    "
   ]
  },
  {
   "cell_type": "markdown",
   "metadata": {
    "slideshow": {
     "slide_type": "slide"
    }
   },
   "source": [
    "Python Dictonaries\n",
    "==================\n",
    "\n",
    "* build in data type\n",
    "* uses key: value pairs"
   ]
  },
  {
   "cell_type": "code",
   "execution_count": null,
   "metadata": {
    "collapsed": false,
    "slideshow": {
     "slide_type": "slide"
    }
   },
   "outputs": [],
   "source": [
    "a = {'a': 1, 'b':2}\n",
    "print a\n",
    "\n",
    "#show keys\n",
    "print a.keys()\n",
    "\n",
    "#show values\n",
    "print a.values()\n",
    "\n",
    "#show for loop over all entries\n",
    "# option 1 using zip\n",
    "# this works also for iterating over any\n",
    "# other two lists\n",
    "for k,v in zip(a.keys(), a.values()):\n",
    "    print k,v\n",
    "\n",
    "# option 2 using the dictionary `iteritems()` function\n",
    "for k,v in a.iteritems():\n",
    "    print k,v"
   ]
  },
  {
   "cell_type": "code",
   "execution_count": null,
   "metadata": {
    "collapsed": false,
    "slideshow": {
     "slide_type": "slide"
    }
   },
   "outputs": [],
   "source": [
    "# This code below does the trick, but could be optimized for speed if necessary\n",
    "# e.g. skills are typically listed at the end of the webpage\n",
    "# might not need to split/join the whole webpage, as we already know\n",
    "# which words we are looking for \n",
    "# and could stop after the first occurance of each word\n",
    "\n",
    "with open('data/scraped_links_restart.pkl', 'r') as f:\n",
    "    skill_set, index = cPickle.load(f)\n",
    "    print \"How many websites still to go? \", len(job_links) - index\n",
    "    \n",
    "    "
   ]
  },
  {
   "cell_type": "code",
   "execution_count": null,
   "metadata": {
    "collapsed": false,
    "slideshow": {
     "slide_type": "slide"
    }
   },
   "outputs": [],
   "source": [
    "counter = 0\n",
    "\n",
    "for link in job_links[index:]:\n",
    "    counter +=1  \n",
    "    \n",
    "    try:\n",
    "        html_page = urllib2.urlopen(link).read()\n",
    "    except urllib2.HTTPError:\n",
    "        print \"HTTPError:\"\n",
    "        continue\n",
    "    except urllib2.URLError:\n",
    "        print \"URLError:\"\n",
    "        continue\n",
    "    except socket.error as error:\n",
    "        print \"Connection closed\"\n",
    "        continue\n",
    "\n",
    "    html_text = re.sub(\"[^a-z.+3]\",\" \", html_page.lower()) # replace all but the listed characters\n",
    "        \n",
    "    for key in skill_set.keys():\n",
    "        if key in html_text:  \n",
    "            skill_set[key] +=1\n",
    "            \n",
    "    if counter % 5 == 0:\n",
    "        print len(job_links) - counter - index\n",
    "        print skill_set\n",
    "        with open('scraped_links_restart.pkl','wb') as f:\n",
    "            cPickle.dump((skill_set, index+counter),f)"
   ]
  },
  {
   "cell_type": "code",
   "execution_count": null,
   "metadata": {
    "collapsed": false,
    "slideshow": {
     "slide_type": "slide"
    }
   },
   "outputs": [],
   "source": [
    "print skill_set"
   ]
  },
  {
   "cell_type": "code",
   "execution_count": null,
   "metadata": {
    "collapsed": false,
    "slideshow": {
     "slide_type": "slide"
    }
   },
   "outputs": [],
   "source": [
    "pseries = pd.Series(skill_set)\n",
    "pseries.sort(ascending=False)\n",
    "\n",
    "pseries.plot(kind = 'bar')\n",
    "## set the title to Score Comparison\n",
    "plt.title('Data Science Skills')\n",
    "## set the x label\n",
    "plt.xlabel('Skills')\n",
    "## set the y label\n",
    "plt.ylabel('Count')\n",
    "## show the plot\n",
    "plt.show()"
   ]
  },
  {
   "cell_type": "markdown",
   "metadata": {
    "slideshow": {
     "slide_type": "slide"
    }
   },
   "source": [
    "Another Example\n",
    "================\n",
    "\n",
    "Designed by Katharine Jarmul\n",
    "----------------------------\n",
    "\n",
    "https://github.com/kjam/python-web-scraping-tutorial\n",
    "\n",
    "\n"
   ]
  },
  {
   "cell_type": "markdown",
   "metadata": {
    "slideshow": {
     "slide_type": "slide"
    }
   },
   "source": [
    "Scraping Happy Hours\n",
    "====================\n",
    "\n",
    "Scrape the happy hour list of LA for personal preferences\n",
    "\n",
    "http://www.downtownla.com/3_10_happyHours.asp?action=ALL\n",
    "\n",
    "This example is part of her talk about data scraping at PyCon2014. She is a really good speaker and I enjoyed watching her talk. Check it out: http://www.youtube.com/watch?v=p1iX0uxM1w8"
   ]
  },
  {
   "cell_type": "code",
   "execution_count": null,
   "metadata": {
    "collapsed": false,
    "slideshow": {
     "slide_type": "slide"
    }
   },
   "outputs": [],
   "source": [
    "stuff_i_like = ['burger', 'sushi', 'sweet potato fries', 'BBQ','beer']\n",
    "found_happy_hours = []\n",
    "my_happy_hours = []\n",
    "# First, I'm going to identify the areas of the page I want to look at\n",
    "url = 'http://www.downtownla.com/3_10_happyHours.asp?action=ALL'\n",
    "source = urllib2.urlopen(url).read()\n",
    "tables = bs4.BeautifulSoup(source)"
   ]
  },
  {
   "cell_type": "code",
   "execution_count": null,
   "metadata": {
    "collapsed": false,
    "slideshow": {
     "slide_type": "slide"
    }
   },
   "outputs": [],
   "source": [
    "# Then, I'm going to sort out the *exact* parts of the page\n",
    "# that match what I'm looking for...\n",
    "for t in tables.findAll('p', {'class': 'calendar_EventTitle'}):\n",
    "    text = t.text\n",
    "    for s in t.findNextSiblings():\n",
    "        text += '\\n' + s.text\n",
    "    found_happy_hours.append(text)\n",
    "\n",
    "print \"The scraper found %d happy hours!\" % len(found_happy_hours)"
   ]
  },
  {
   "cell_type": "code",
   "execution_count": null,
   "metadata": {
    "collapsed": false,
    "slideshow": {
     "slide_type": "slide"
    }
   },
   "outputs": [],
   "source": [
    "# Now I'm going to loop through the food I like\n",
    "# and see if any of the happy hour descriptions match\n",
    "for food in stuff_i_like:\n",
    "    for hh in found_happy_hours:\n",
    "        # checking for text AND making sure I don't have duplicates\n",
    "        if food in hh and hh not in my_happy_hours:\n",
    "            print \"YAY! I found some %s!\" % food\n",
    "            my_happy_hours.append(hh)\n",
    "\n",
    "print \"I think you might like %d of them, yipeeeee!\" % len(my_happy_hours)"
   ]
  },
  {
   "cell_type": "code",
   "execution_count": null,
   "metadata": {
    "collapsed": false,
    "slideshow": {
     "slide_type": "slide"
    }
   },
   "outputs": [],
   "source": [
    "# Now, let's make a mail message we can read:\n",
    "message = 'Hey Katharine,\\n\\n\\n'\n",
    "message += 'OMG, I found some stuff for you in Downtown, take a look.\\n\\n'\n",
    "message += '==============================\\n'.join(my_happy_hours)\n",
    "message = message.encode('utf-8')\n",
    "# To read more about encoding:\n",
    "# http://diveintopython.org/xml_processing/unicode.html\n",
    "message = message.replace('\\t', '').replace('\\r', '')\n",
    "message += '\\n\\nXOXO,\\n Your Py Script'\n",
    "\n",
    "#print message"
   ]
  },
  {
   "cell_type": "markdown",
   "metadata": {
    "slideshow": {
     "slide_type": "slide"
    }
   },
   "source": [
    "Getting Data with an API\n",
    "=========================\n",
    "\n",
    "* API: application programming interface\n",
    "* some sites try to make your life easier\n",
    "* Twitter, New York Times, ImDB, rotten Tomatoes, Yelp, ..."
   ]
  },
  {
   "cell_type": "markdown",
   "metadata": {
    "slideshow": {
     "slide_type": "slide"
    }
   },
   "source": [
    "Rotten Tomatoes\n",
    "===============\n",
    "\n",
    "![The Wizard of Oz](images/wiz_oz.png \"The wizard of Oz\")\n",
    "\n",
    "http://www.rottentomatoes.com/top/\n"
   ]
  },
  {
   "cell_type": "markdown",
   "metadata": {
    "slideshow": {
     "slide_type": "slide"
    }
   },
   "source": [
    "API keys\n",
    "=========\n",
    "\n",
    "* required for data access\n",
    "* identifies application (you)\n",
    "* monitors usage\n",
    "* limits rates"
   ]
  },
  {
   "cell_type": "markdown",
   "metadata": {
    "slideshow": {
     "slide_type": "slide"
    }
   },
   "source": [
    "Rotten Tomatoes Key\n",
    "===================\n",
    "\n",
    "http://developer.rottentomatoes.com/member/register"
   ]
  },
  {
   "cell_type": "code",
   "execution_count": null,
   "metadata": {
    "collapsed": false
   },
   "outputs": [],
   "source": [
    "import json\n",
    "import requests\n",
    "\n",
    "api_key = rottenTomatoes_key()\n",
    "\n",
    "url = 'http://api.rottentomatoes.com/api/public/v1.0/lists/dvds/top_rentals.json?apikey=' + api_key\n",
    "data = urllib2.urlopen(url).read()\n",
    "#print data"
   ]
  },
  {
   "cell_type": "markdown",
   "metadata": {
    "slideshow": {
     "slide_type": "slide"
    }
   },
   "source": [
    "JSON\n",
    "======\n",
    "\n",
    "* JavaScript Object Notation\n",
    "* human readable\n",
    "* transmit attribute-value pairs"
   ]
  },
  {
   "cell_type": "code",
   "execution_count": null,
   "metadata": {
    "collapsed": false,
    "slideshow": {
     "slide_type": "slide"
    }
   },
   "outputs": [],
   "source": [
    "a = {'a': 1, 'b':2}\n",
    "s = json.dumps(a)\n",
    "a2 = json.loads(s)\n",
    "\n",
    "## a is a dictionary\n",
    "print a\n",
    "## vs s is a string containing a in JSON encoding\n",
    "print s\n",
    "## reading back the keys are now in unicode\n",
    "print a2"
   ]
  },
  {
   "cell_type": "code",
   "execution_count": null,
   "metadata": {
    "collapsed": false,
    "slideshow": {
     "slide_type": "slide"
    }
   },
   "outputs": [],
   "source": [
    "## create dictionary from JSON \n",
    "dataDict = json.loads(data)\n",
    "\n",
    "## expore dictionary\n",
    "print dataDict.keys()\n",
    "\n",
    "## there is a key named `movies` containing a list of movies as a value\n",
    "movies = dataDict['movies']\n",
    "\n",
    "## each element of the list `movies` is a dictionary\n",
    "print movies[0].keys()\n",
    "\n",
    "## one of the keys is called `ratings`\n",
    "## the value is yet another dictionary\n",
    "print movies[0]['ratings'].keys()\n",
    "\n",
    "## so we made it all the way to find the critics score\n",
    "print movies[0]['ratings']['critics_score']\n"
   ]
  },
  {
   "cell_type": "markdown",
   "metadata": {
    "slideshow": {
     "slide_type": "slide"
    }
   },
   "source": [
    "Quiz\n",
    "=====\n",
    "\n",
    "* build a list with critics scores\n",
    "* build a list with audience scores"
   ]
  },
  {
   "cell_type": "code",
   "execution_count": null,
   "metadata": {
    "collapsed": false,
    "slideshow": {
     "slide_type": "slide"
    }
   },
   "outputs": [],
   "source": [
    "# critics scores list\n",
    "\n",
    "\n",
    "# audience scores list\n"
   ]
  },
  {
   "cell_type": "markdown",
   "metadata": {
    "slideshow": {
     "slide_type": "skip"
    }
   },
   "source": [
    "The following code shows how to create a pandas data frame with the data we gathered from the webpage.\n",
    "Beware of the `set_index()` function in pandas. Per default it does not change the actual data frame! You need to either reassign the output or set the `inplace` argument to `True`."
   ]
  },
  {
   "cell_type": "code",
   "execution_count": null,
   "metadata": {
    "collapsed": false,
    "slideshow": {
     "slide_type": "slide"
    }
   },
   "outputs": [],
   "source": [
    "## create pandas data frame with critics and audience score\n",
    "scores = pd.DataFrame(data=[critics_scores, audience_scores]).transpose()\n",
    "scores.columns = ['critics', 'audience']\n",
    "\n",
    "## also create a list with all movie titles\n",
    "movie_titles = [m['title'] for m in movies]\n",
    "\n",
    "## set index of dataFrame BEWARE of inplace!\n",
    "scores.set_index([movie_titles])\n",
    "\n",
    "## the line above does not changes scores!\n",
    "## You need to either reassign\n",
    "\n",
    "scores = scores.set_index([movie_titles])\n",
    "\n",
    "## or set the inplace argument to True\n",
    "scores.set_index([movie_titles], inplace=True)\n",
    "scores.head(3)"
   ]
  },
  {
   "cell_type": "code",
   "execution_count": null,
   "metadata": {
    "collapsed": false,
    "slideshow": {
     "slide_type": "slide"
    }
   },
   "outputs": [],
   "source": [
    "## create a bar plot with the data\n",
    "## notice that we are using the data frame itself and call its plot function\n",
    "scores.plot(kind = 'bar')\n",
    "\n",
    "## set the title to Score Comparison\n",
    "plt.title('Score Comparison')\n",
    "\n",
    "## set the x label\n",
    "plt.xlabel('Movies')\n",
    "\n",
    "## set the y label\n",
    "plt.ylabel('Scores')"
   ]
  },
  {
   "cell_type": "code",
   "execution_count": null,
   "metadata": {
    "collapsed": false,
    "slideshow": {
     "slide_type": "slide"
    }
   },
   "outputs": [],
   "source": [
    "## show the plot\n",
    "plt.show()"
   ]
  },
  {
   "cell_type": "markdown",
   "metadata": {
    "slideshow": {
     "slide_type": "slide"
    }
   },
   "source": [
    "Twitter Example:\n",
    "================\n",
    "\n",
    "* API a bit more complicated\n",
    "* libraries make life easier\n",
    "* python-twitter\n",
    "\n",
    "https://github.com/bear/python-twitter\n",
    "\n",
    "What we are going to do is scrape Joe's twitter account, and then filter it for the interesting tweets. Defining interesting as tweets that have be re-tweeted at least 10 times. \n"
   ]
  },
  {
   "cell_type": "code",
   "execution_count": null,
   "metadata": {
    "collapsed": false,
    "slideshow": {
     "slide_type": "slide"
    }
   },
   "outputs": [],
   "source": [
    "import twitter\n",
    "\n",
    "## define the necessary keys\n",
    "cKey = twitterAPI_key()\n",
    "cSecret = twitterAPI_secret()\n",
    "aKey = twitterAPI_access_token_key()\n",
    "aSecret = twitterAPI_access_token_secret()\n",
    "\n",
    "## create the api object with the twitter-python library\n",
    "api = twitter.Api(consumer_key=cKey, consumer_secret=cSecret, access_token_key=aKey, access_token_secret=aSecret)\n"
   ]
  },
  {
   "cell_type": "code",
   "execution_count": null,
   "metadata": {
    "collapsed": false,
    "slideshow": {
     "slide_type": "slide"
    }
   },
   "outputs": [],
   "source": [
    "## get the user timeline with screen_name = 'stat110'\n",
    "twitter_statuses = api.GetUserTimeline(screen_name = 'stat110')\n",
    "\n",
    "## create a data frame\n",
    "## first get a list of panda Series or dict\n",
    "pdSeriesList = [pd.Series(t.AsDict()) for t in twitter_statuses]\n",
    "\n",
    "## then create the data frame\n",
    "data = pd.DataFrame(pdSeriesList)\n",
    "\n",
    "data.head(2)"
   ]
  },
  {
   "cell_type": "code",
   "execution_count": null,
   "metadata": {
    "collapsed": false,
    "slideshow": {
     "slide_type": "slide"
    }
   },
   "outputs": [],
   "source": [
    "## filter tweets with enough retweet_count\n",
    "maybe_interesting = data[data.retweet_count>20]\n",
    "\n",
    "## get the text of these tweets\n",
    "tweet_text = maybe_interesting.text\n",
    "\n",
    "## print them out\n",
    "text = tweet_text.values\n",
    "\n",
    "for t in text:\n",
    "    print '######'\n",
    "    print t"
   ]
  },
  {
   "cell_type": "markdown",
   "metadata": {
    "slideshow": {
     "slide_type": "skip"
    }
   },
   "source": [
    "Extracting columns:\n",
    "===================\n",
    "\n",
    "__Warning:__ The returned column `tweet_text` is a `view` on the data\n",
    "    \n",
    "* it is not a copy\n",
    "* you change the Series => you change the DataFrame\n",
    "\n",
    "Below is another example of such a view:"
   ]
  },
  {
   "cell_type": "code",
   "execution_count": null,
   "metadata": {
    "collapsed": false,
    "slideshow": {
     "slide_type": "skip"
    }
   },
   "outputs": [],
   "source": [
    "## create a view for favorite_count on maybe_interesting\n",
    "view = maybe_interesting['favorite_count']\n",
    "print '-----------------'\n",
    "print \"This is view:\"\n",
    "print view\n",
    "## change a value\n",
    "view[8] = 9999\n",
    "\n",
    "## look at original frame\n",
    "print '-----------------'\n",
    "print \"This is view after changing view[8]\"\n",
    "print view\n",
    "\n",
    "print '-----------------'\n",
    "print \"This is maybe_interesting after changing view[8]\"\n",
    "print \"It changed too!\"\n",
    "print maybe_interesting['favorite_count']\n",
    "\n",
    "## to avoid this you can use copy\n",
    "independent_data = maybe_interesting['favorite_count'].copy()\n",
    "independent_data[10] = 999\n",
    "print '-----------------'\n",
    "print \"This is independent_data after changed at 10:\"\n",
    "print independent_data\n",
    "print '-----------------'\n",
    "print \"This is maybe_interesting after changing independent_data:\"\n",
    "print \"It did not change because we only changed a copy of it\"\n",
    "print maybe_interesting['favorite_count']"
   ]
  },
  {
   "cell_type": "markdown",
   "metadata": {
    "collapsed": true,
    "slideshow": {
     "slide_type": "slide"
    }
   },
   "source": [
    "What we covered today:\n",
    "============\n",
    "\n",
    "* Pandas data frames\n",
    "* Guidelines for friendly scraping\n",
    "* Scraping html sites\n",
    "* Scraping with Api's\n",
    "* Basic data cleanup\n"
   ]
  },
  {
   "cell_type": "markdown",
   "metadata": {
    "slideshow": {
     "slide_type": "slide"
    }
   },
   "source": [
    "Further material\n",
    "================\n",
    "\n",
    "* I highly recommend Katharine Jarmul's scraping tutorials\n",
    "* For example [this one](https://www.youtube.com/watch?v=p1iX0uxM1w8)\n",
    "* Pandas has extensive [documentation](http://pandas.pydata.org/pandas-docs/stable/)\n",
    "* Especially the [tem minutes to pandas chapter](http://pandas.pydata.org/pandas-docs/stable/10min.html)\n",
    "\n",
    "* [Greg Reda](http://www.gregreda.com/2013/10/26/using-pandas-on-the-movielens-dataset/) did a lot more pandas examples for the movie lens data set"
   ]
  }
 ],
 "metadata": {
  "celltoolbar": "Slideshow",
  "kernelspec": {
   "display_name": "Python 3",
   "language": "python",
   "name": "python3"
  },
  "language_info": {
   "codemirror_mode": {
    "name": "ipython",
    "version": 3
   },
   "file_extension": ".py",
   "mimetype": "text/x-python",
   "name": "python",
   "nbconvert_exporter": "python",
   "pygments_lexer": "ipython3",
   "version": "3.6.0"
  }
 },
 "nbformat": 4,
 "nbformat_minor": 0
}
